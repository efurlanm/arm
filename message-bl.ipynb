{
 "cells": [
  {
   "cell_type": "code",
   "execution_count": 31,
   "id": "549f8c38-06aa-4ed8-a863-f0d815be43fa",
   "metadata": {},
   "outputs": [
    {
     "name": "stdout",
     "output_type": "stream",
     "text": [
      "Overwriting tcp_test.s\n"
     ]
    }
   ],
   "source": [
    "%%writefile tcp_test.s\n",
    "// --------------------------------------------------------------------------\n",
    "// Bootloader para teste TCP - envia mensagens contínuas\n",
    "// --------------------------------------------------------------------------\n",
    "\n",
    ".global _start\n",
    ".section .text\n",
    "\n",
    "_start:\n",
    "    // Configura stack usando movz/movk\n",
    "    movz x0, #0x4100, lsl #16    // 0x41000000\n",
    "    mov sp, x0\n",
    "    \n",
    "    // UART base usando movz/movk  \n",
    "    movz x19, #0x0900, lsl #16   // 0x09000000\n",
    "    mov x20, #0                  // Contador\n",
    "    \n",
    "    // Envia mensagem inicial\n",
    "    bl send_ready\n",
    "    \n",
    "main_loop:\n",
    "    // Incrementa contador\n",
    "    add x20, x20, #1\n",
    "    \n",
    "    // Envia ponto a cada 10000 iterações (valor menor)\n",
    "    mov x1, #10000\n",
    "    udiv x2, x20, x1\n",
    "    mul x3, x2, x1\n",
    "    sub x4, x20, x3\n",
    "    cbnz x4, main_loop\n",
    "    \n",
    "    // Envia um ponto\n",
    "    mov w0, #'.'\n",
    "    str w0, [x19]\n",
    "    \n",
    "    // Reset contador para evitar overflow\n",
    "    mov x5, #50             // Valor menor\n",
    "    cmp x2, x5\n",
    "    b.lt main_loop\n",
    "    \n",
    "    // Envia nova linha e reinicia\n",
    "    mov w0, #'\\r'\n",
    "    str w0, [x19]\n",
    "    mov w0, #'\\n'\n",
    "    str w0, [x19]\n",
    "    bl send_ready\n",
    "    mov x20, #0\n",
    "    b main_loop\n",
    "\n",
    "send_ready:\n",
    "    stp x29, x30, [sp, #-16]!\n",
    "    \n",
    "    mov x1, x19  // UART base\n",
    "    \n",
    "    // \"Ready!\\r\\n\"\n",
    "    mov w0, #'R'\n",
    "    str w0, [x1]\n",
    "    mov w0, #'e'\n",
    "    str w0, [x1]\n",
    "    mov w0, #'a'\n",
    "    str w0, [x1]\n",
    "    mov w0, #'d'\n",
    "    str w0, [x1]\n",
    "    mov w0, #'y'\n",
    "    str w0, [x1]\n",
    "    mov w0, #'!'\n",
    "    str w0, [x1]\n",
    "    mov w0, #'\\r'\n",
    "    str w0, [x1]\n",
    "    mov w0, #'\\n'\n",
    "    str w0, [x1]\n",
    "    \n",
    "    ldp x29, x30, [sp], #16\n",
    "    ret"
   ]
  },
  {
   "cell_type": "code",
   "execution_count": null,
   "id": "b099b607-8642-4ed1-a0e9-c7728c5b0267",
   "metadata": {},
   "outputs": [],
   "source": []
  },
  {
   "cell_type": "code",
   "execution_count": null,
   "id": "50f7ef3d-0744-4039-b18d-c2857040a5bb",
   "metadata": {},
   "outputs": [],
   "source": []
  },
  {
   "cell_type": "code",
   "execution_count": 32,
   "id": "6d3149cd-ffab-430d-aeb8-a9d265890e02",
   "metadata": {},
   "outputs": [],
   "source": [
    "%%bash\n",
    "as -o tcp_test.o tcp_test.s\n",
    "ld -Ttext=0x40000000 -o tcp_test.elf tcp_test.o\n",
    "objcopy -O binary tcp_test.elf tcp_test.img"
   ]
  },
  {
   "cell_type": "markdown",
   "id": "1aff17b0-e2be-4776-9005-4f60849e5caf",
   "metadata": {},
   "source": [
    "    qemu-system-aarch64 -machine virt -cpu cortex-a53 -nographic -kernel tcp_test.img -serial tcp::44444,server,nowait -monitor none\n",
    "\n",
    "    nc localhost 44444"
   ]
  },
  {
   "cell_type": "markdown",
   "id": "a42f123b-ce97-4b05-8c9b-29bd49a9d83b",
   "metadata": {},
   "source": [
    "Funcionou e a saída é:\n",
    "\n",
    "    ..................................................\n",
    "    Ready!\n",
    "    ..................................................\n",
    "    Ready!\n",
    "    ..................................................\n",
    "    Ready!\n",
    "    ..................................................\n",
    "    Ready!\n",
    "    ..................................................\n",
    "    Ready!\n",
    "    ..................................................\n",
    "    Ready!\n",
    "    ......^C\n",
    "    (base) x@desk:~$ "
   ]
  },
  {
   "cell_type": "code",
   "execution_count": null,
   "id": "e9bcc389-49b3-4260-a2ff-2a55f2ed8074",
   "metadata": {},
   "outputs": [],
   "source": []
  }
 ],
 "metadata": {
  "kernelspec": {
   "display_name": "Python 3 (ipykernel)",
   "language": "python",
   "name": "python3"
  },
  "language_info": {
   "codemirror_mode": {
    "name": "ipython",
    "version": 3
   },
   "file_extension": ".py",
   "mimetype": "text/x-python",
   "name": "python",
   "nbconvert_exporter": "python",
   "pygments_lexer": "ipython3",
   "version": "3.12.10"
  }
 },
 "nbformat": 4,
 "nbformat_minor": 5
}
