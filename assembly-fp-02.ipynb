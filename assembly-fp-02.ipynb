{
 "cells": [
  {
   "cell_type": "code",
   "execution_count": 62,
   "id": "1b338efb-9dfd-429c-b789-5ff6f8d72753",
   "metadata": {},
   "outputs": [
    {
     "name": "stdout",
     "output_type": "stream",
     "text": [
      "Overwriting double_float.s\n"
     ]
    }
   ],
   "source": [
    "%%writefile double_float.s\n",
    ".global _start\n",
    ".section .rodata\n",
    "double_number: .double 3.141592653589793\n",
    "format: .asciz \"%lf\\n\"  // Use \"%lf\" for double precision\n",
    "\n",
    ".section .text\n",
    "_start:\n",
    "    ADR x0, double_number  // Load address of the double-precision float\n",
    "    LDR d0, [x0]           // Load the 64-bit floating-point value directly into d0\n",
    "\n",
    "    ADR x0, format         // Load address of the format string\n",
    "    BL printf              // Call printf\n",
    "\n",
    "    MOV w8, 93             // Exit syscall number (Linux `exit`)\n",
    "    MOV x0, 0              // Exit status\n",
    "    SVC 0                  // System call to exit"
   ]
  },
  {
   "cell_type": "code",
   "execution_count": 63,
   "id": "3466eca3-7a5a-4a96-a595-c57331016324",
   "metadata": {},
   "outputs": [],
   "source": [
    "! clang -nostdlib -s -Os -Wl,--gc-sections -Wl,--strip-all -Wl,--discard-all -o double_float double_float.s -lc"
   ]
  },
  {
   "cell_type": "code",
   "execution_count": 64,
   "id": "a53118c8-5b04-464e-a1c8-25845c4c1dcb",
   "metadata": {},
   "outputs": [],
   "source": [
    "! strip --strip-all --remove-section=.comment --remove-section=.note double_float double_float"
   ]
  },
  {
   "cell_type": "code",
   "execution_count": 65,
   "id": "22339cbb-7b56-45dc-9019-9abfe35c9933",
   "metadata": {},
   "outputs": [
    {
     "name": "stdout",
     "output_type": "stream",
     "text": [
      "3.141593\n"
     ]
    }
   ],
   "source": [
    "! ./double_float"
   ]
  },
  {
   "cell_type": "code",
   "execution_count": null,
   "id": "029998a6-ad4d-4fc1-89f4-bbcd72682d24",
   "metadata": {},
   "outputs": [],
   "source": []
  }
 ],
 "metadata": {
  "kernelspec": {
   "display_name": "Python 3 (ipykernel)",
   "language": "python",
   "name": "python3"
  },
  "language_info": {
   "codemirror_mode": {
    "name": "ipython",
    "version": 3
   },
   "file_extension": ".py",
   "mimetype": "text/x-python",
   "name": "python",
   "nbconvert_exporter": "python",
   "pygments_lexer": "ipython3",
   "version": "3.12.10"
  }
 },
 "nbformat": 4,
 "nbformat_minor": 5
}
