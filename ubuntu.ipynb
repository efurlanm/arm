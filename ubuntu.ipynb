{
 "cells": [
  {
   "cell_type": "markdown",
   "id": "802cc2d3-1922-416d-ba4e-f663af6cc62a",
   "metadata": {},
   "source": [
    "# proot-distro ubuntu"
   ]
  },
  {
   "cell_type": "code",
   "execution_count": 1,
   "id": "2be87bed-814b-47a0-8742-2b5521e4a4ff",
   "metadata": {},
   "outputs": [
    {
     "name": "stdout",
     "output_type": "stream",
     "text": [
      "No LSB modules are available.\n",
      "Distributor ID:\tUbuntu\n",
      "Description:\tUbuntu 24.04.1 LTS\n",
      "Release:\t24.04\n",
      "Codename:\tnoble\n"
     ]
    }
   ],
   "source": [
    "! lsb_release -a"
   ]
  },
  {
   "cell_type": "code",
   "execution_count": 4,
   "id": "fecb7205-c99f-4ba0-b060-39a4c1023f89",
   "metadata": {},
   "outputs": [
    {
     "name": "stdout",
     "output_type": "stream",
     "text": [
      "GNU assembler (GNU Binutils for Ubuntu) 2.42\n",
      "Copyright (C) 2024 Free Software Foundation, Inc.\n",
      "This program is free software; you may redistribute it under the terms of\n",
      "the GNU General Public License version 3 or later.\n",
      "This program has absolutely no warranty.\n",
      "This assembler was configured for a target of `aarch64-linux-gnu'.\n"
     ]
    }
   ],
   "source": [
    "! as --version"
   ]
  },
  {
   "cell_type": "code",
   "execution_count": 5,
   "id": "433743d0-b113-4b51-a8a8-12ee6904bc89",
   "metadata": {},
   "outputs": [
    {
     "name": "stdout",
     "output_type": "stream",
     "text": [
      "GNU ld (GNU Binutils for Ubuntu) 2.42\n",
      "Copyright (C) 2024 Free Software Foundation, Inc.\n",
      "This program is free software; you may redistribute it under the terms of\n",
      "the GNU General Public License version 3 or (at your option) a later version.\n",
      "This program has absolutely no warranty.\n"
     ]
    }
   ],
   "source": [
    "! ld --version"
   ]
  },
  {
   "cell_type": "code",
   "execution_count": 6,
   "id": "c29d55e5-49c2-41e5-a348-332bc64b08f0",
   "metadata": {},
   "outputs": [
    {
     "name": "stdout",
     "output_type": "stream",
     "text": [
      "gcc (Ubuntu 13.3.0-6ubuntu2~24.04) 13.3.0\n",
      "Copyright (C) 2023 Free Software Foundation, Inc.\n",
      "This is free software; see the source for copying conditions.  There is NO\n",
      "warranty; not even for MERCHANTABILITY or FITNESS FOR A PARTICULAR PURPOSE.\n",
      "\n"
     ]
    }
   ],
   "source": [
    "! gcc --version"
   ]
  },
  {
   "cell_type": "code",
   "execution_count": 7,
   "id": "77e1af52-8503-4253-9b5f-218bbf795cae",
   "metadata": {},
   "outputs": [
    {
     "name": "stdout",
     "output_type": "stream",
     "text": [
      "GNU Fortran (Ubuntu 13.3.0-6ubuntu2~24.04) 13.3.0\n",
      "Copyright (C) 2023 Free Software Foundation, Inc.\n",
      "This is free software; see the source for copying conditions.  There is NO\n",
      "warranty; not even for MERCHANTABILITY or FITNESS FOR A PARTICULAR PURPOSE.\n",
      "\n"
     ]
    }
   ],
   "source": [
    "! gfortran --version"
   ]
  },
  {
   "cell_type": "code",
   "execution_count": null,
   "id": "ea9ae928-599f-43c5-88ea-acdf6bcfb459",
   "metadata": {},
   "outputs": [],
   "source": []
  }
 ],
 "metadata": {
  "kernelspec": {
   "display_name": "Python 3 (ipykernel)",
   "language": "python",
   "name": "python3"
  },
  "language_info": {
   "codemirror_mode": {
    "name": "ipython",
    "version": 3
   },
   "file_extension": ".py",
   "mimetype": "text/x-python",
   "name": "python",
   "nbconvert_exporter": "python",
   "pygments_lexer": "ipython3",
   "version": "3.12.10"
  }
 },
 "nbformat": 4,
 "nbformat_minor": 5
}
