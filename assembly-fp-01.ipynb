{
 "cells": [
  {
   "cell_type": "code",
   "execution_count": 1,
   "id": "c3db662d-9390-448b-bafe-54928aea9f21",
   "metadata": {},
   "outputs": [
    {
     "name": "stdout",
     "output_type": "stream",
     "text": [
      "Writing multiply_double.s\n"
     ]
    }
   ],
   "source": [
    "%%writefile multiply_double.s\n",
    ".global _start\n",
    "\n",
    ".section .text\n",
    "_start:\n",
    "    // Load double-precision floating-point values into NEON/FP registers\n",
    "    // d0 and d1 are double-precision (64-bit) registers\n",
    "\n",
    "    ldr d0, .LC0         // Load 3.1415926535 from literal pool into D0\n",
    "    ldr d1, .LC1         // Load 2.7182818284 from literal pool into D1\n",
    "\n",
    "    // Multiply d0 by d1 and store the result in d2\n",
    "    fmul d2, d0, d1      // d2 = d0 * d1\n",
    "\n",
    "    // ===============================================\n",
    "    // Here you would typically do something with the result in d2,\n",
    "    // such as printing, storing to memory, etc.\n",
    "    // For this simple example, we'll just exit.\n",
    "    // ===============================================\n",
    "\n",
    "    // Code to exit the program (syscall exit)\n",
    "    mov x8, #93          // sys_exit (syscall number for exit on aarch64 Linux)\n",
    "    mov x0, #0           // Exit code 0 (success)\n",
    "    svc #0               // Call supervisor (execute syscall)\n",
    "\n",
    ".section .data\n",
    ".align 8             // Ensure 8-byte alignment for doubles (64 bits)\n",
    ".LC0: .double 3.1415926535   // Define double-precision floating-point constant\n",
    ".LC1: .double 2.7182818284   // Define double-precision floating-point constant"
   ]
  },
  {
   "cell_type": "code",
   "execution_count": 2,
   "id": "8235cfe2-748e-4630-9214-3b5740b534d3",
   "metadata": {},
   "outputs": [
    {
     "name": "stdout",
     "output_type": "stream",
     "text": [
      "rm: cannot remove 'multiply_double.o': No such file or directory\n",
      "rm: cannot remove 'multiply_double.elf': No such file or directory\n"
     ]
    }
   ],
   "source": [
    "! rm multiply_double.o multiply_double.elf"
   ]
  },
  {
   "cell_type": "code",
   "execution_count": 3,
   "id": "69142486-e1b5-48cc-8306-c3b5ad770c0e",
   "metadata": {},
   "outputs": [],
   "source": [
    "! clang -o multiply_double.elf multiply_double.s -nostdlib"
   ]
  },
  {
   "cell_type": "code",
   "execution_count": 5,
   "id": "54cc60e7-f48c-4087-b797-464a40bc6de9",
   "metadata": {},
   "outputs": [],
   "source": [
    "! strip --strip-all --remove-section=.comment --remove-section=.note multiply_double.elf multiply_double.elf"
   ]
  },
  {
   "cell_type": "code",
   "execution_count": 6,
   "id": "c7c312db-3dce-4955-8554-ac893885fa68",
   "metadata": {},
   "outputs": [],
   "source": [
    "! ./multiply_double.elf"
   ]
  },
  {
   "cell_type": "markdown",
   "id": "7cc83db9-cdc1-46d6-abe9-6b054cc0eefe",
   "metadata": {},
   "source": [
    "or:"
   ]
  },
  {
   "cell_type": "code",
   "execution_count": 5,
   "id": "6a32e4f0-1aa7-40c4-9cd8-e5eb023c4b7c",
   "metadata": {},
   "outputs": [
    {
     "name": "stdout",
     "output_type": "stream",
     "text": [
      "rm: cannot remove 'multiply_double.o': No such file or directory\n"
     ]
    }
   ],
   "source": [
    "! rm multiply_double.o multiply_double.elf"
   ]
  },
  {
   "cell_type": "code",
   "execution_count": 6,
   "id": "56c81f01-e409-4cee-a1cc-c5abda12c23c",
   "metadata": {},
   "outputs": [],
   "source": [
    "! as -o multiply_double.o multiply_double.s"
   ]
  },
  {
   "cell_type": "code",
   "execution_count": 10,
   "id": "fbaf14ac-78e3-448f-b103-1a607e0d1d8d",
   "metadata": {},
   "outputs": [],
   "source": [
    "! ld.lld -pie -o multiply_double.elf multiply_double.o"
   ]
  },
  {
   "cell_type": "code",
   "execution_count": 11,
   "id": "7a0e1ce4-c150-4260-bbb0-a63840e9e3b6",
   "metadata": {},
   "outputs": [],
   "source": [
    "! ./multiply_double.elf"
   ]
  }
 ],
 "metadata": {
  "kernelspec": {
   "display_name": "Python 3 (ipykernel)",
   "language": "python",
   "name": "python3"
  },
  "language_info": {
   "codemirror_mode": {
    "name": "ipython",
    "version": 3
   },
   "file_extension": ".py",
   "mimetype": "text/x-python",
   "name": "python",
   "nbconvert_exporter": "python",
   "pygments_lexer": "ipython3",
   "version": "3.12.10"
  }
 },
 "nbformat": 4,
 "nbformat_minor": 5
}
