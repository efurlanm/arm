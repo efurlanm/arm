{
 "cells": [
  {
   "cell_type": "markdown",
   "id": "ae02d3b9-859c-43a9-ac30-9718e06b162c",
   "metadata": {},
   "source": [
    "# Clang ARM64 Minimal\n",
    "\n",
    "2025-06-06\n",
    "\n",
    "My personal notes on Clang AArch64\n",
    "\n",
    "- Clang <https://clang.llvm.org/>\n",
    "- JupyterLab <https://jupyter.org/>\n",
    "- Termux <https://termux.dev/en/>\n",
    "- Moto G4 with [Android 9.0_r44 ARM64 AOSiP](https://forum.xda-developers.com/t/rom-9-0_r44-arm64-android-open-source-illusion-project-athene-unofficial.3889942/)\n",
    "- Processor: Snapdragon 617 octa-core ARMv8 Cortex-A53 64-bit\n",
    "\n",
    "Some references:\n",
    "\n",
    "- <https://stackoverflow.com/questions/200292/process-for-reducing-the-size-of-an-executable>\n",
    "- <http://www.muppetlabs.com/~breadbox/software/tiny/>\n",
    "- <https://stac47.github.io/c/relocation/elf/tutorial/2018/03/01/understanding-relocation-elf.html>\n",
    "- <http://timelessname.com/elfbin/>\n",
    "- <https://interrupt.memfault.com/blog/dealing-with-large-symbol-files>\n",
    "- <https://www.reddit.com/r/C_Programming/comments/wdag9l/how_to_absolutely_minimize_the_executable/>\n",
    "- <http://cs107e.github.io/guides/gcc/>"
   ]
  },
  {
   "cell_type": "code",
   "execution_count": 3,
   "id": "2d139588-fbfd-4c70-b32f-d4bad8839f1f",
   "metadata": {},
   "outputs": [
    {
     "name": "stdout",
     "output_type": "stream",
     "text": [
      "4.4.3\n"
     ]
    }
   ],
   "source": [
    "! jupyter-lab --version"
   ]
  },
  {
   "cell_type": "code",
   "execution_count": 4,
   "id": "43b857fc-3f31-4d49-ab7a-a1bf3b6f0862",
   "metadata": {},
   "outputs": [
    {
     "name": "stdout",
     "output_type": "stream",
     "text": [
      "Termux Variables:\n",
      "TERMUX_APK_RELEASE=F_DROID\n",
      "TERMUX_APP_PACKAGE_MANAGER=apt\n",
      "TERMUX_APP_PID=15008\n",
      "TERMUX_APP__DATA_DIR=/data/user/0/com.termux\n",
      "TERMUX_APP__LEGACY_DATA_DIR=/data/data/com.termux\n",
      "TERMUX_APP__SE_FILE_CONTEXT=u:object_r:app_data_file:s0:c124,c256,c512,c768\n",
      "TERMUX_APP__SE_INFO=default:targetSdkVersion=28:complete\n",
      "TERMUX_IS_DEBUGGABLE_BUILD=0\n",
      "TERMUX_MAIN_PACKAGE_FORMAT=debian\n",
      "TERMUX_VERSION=0.118.3\n",
      "TERMUX__HOME=/data/data/com.termux/files/home\n",
      "TERMUX__PREFIX=/data/data/com.termux/files/usr\n",
      "TERMUX__ROOTFS_DIR=/data/data/com.termux/files\n",
      "TERMUX__SE_PROCESS_CONTEXT=u:r:untrusted_app:s0:c124,c256,c512,c768\n",
      "TERMUX__USER_ID=0\n",
      "Packages CPU architecture:\n",
      "aarch64\n",
      "Subscribed repositories:\n",
      "# sources.list\n",
      "deb https://packages-cf.termux.dev/apt/termux-main stable main\n",
      "Updatable packages:\n",
      "command-not-found/stable 2.4.0-78 aarch64 [upgradable from: 2.4.0-68]\n",
      "curl/stable 8.14.1 aarch64 [upgradable from: 8.12.1]\n",
      "debianutils/stable 5.22 aarch64 [upgradable from: 5.21]\n",
      "diffutils/stable 3.12 aarch64 [upgradable from: 3.11]\n",
      "gawk/stable 5.3.1 aarch64 [upgradable from: 5.3.0]\n",
      "gpgv/stable 2.5.5 aarch64 [upgradable from: 2.4.5-3]\n",
      "grep/stable 3.12 aarch64 [upgradable from: 3.11]\n",
      "gzip/stable 1.14 aarch64 [upgradable from: 1.13]\n",
      "libassuan/stable 3.0.2 aarch64 [upgradable from: 3.0.1-2]\n",
      "libcurl/stable 8.14.1 aarch64 [upgradable from: 8.12.1]\n",
      "libgcrypt/stable 1.11.1 aarch64 [upgradable from: 1.11.0]\n",
      "libgpg-error/stable 1.55 aarch64 [upgradable from: 1.50]\n",
      "libidn2/stable 2.3.8 aarch64 [upgradable from: 2.3.7]\n",
      "liblzma/stable 5.8.1 aarch64 [upgradable from: 5.8.0]\n",
      "libnghttp3/stable 1.10.1 aarch64 [upgradable from: 1.8.0]\n",
      "libunbound/stable 1.23.0-1 aarch64 [upgradable from: 1.22.0]\n",
      "nano/stable 8.4 aarch64 [upgradable from: 8.3]\n",
      "patch/stable 2.8 aarch64 [upgradable from: 2.7.6-4]\n",
      "rust-std-aarch64-linux-android/stable 1.87.0-1 all [upgradable from: 1.87.0]\n",
      "rust/stable 1.87.0-1 aarch64 [upgradable from: 1.87.0]\n",
      "termux-core/stable 0.4.0 aarch64 [upgradable from: 0.3.0]\n",
      "termux-exec/stable 1:2.4.0 aarch64 [upgradable from: 1:2.3.0]\n",
      "termux-tools/stable 1.46.0+really1.45.0 aarch64 [upgradable from: 1.45.0]\n",
      "xz-utils/stable 5.8.1 aarch64 [upgradable from: 5.8.0]\n",
      "termux-tools version:\n",
      "1.45.0\n",
      "Android version:\n",
      "9\n",
      "Kernel build information:\n",
      "Linux localhost 3.10.108-lk.r17_rev #5 SMP PREEMPT Sun Dec 4 17:05:47 IST 2022 aarch64 Android\n",
      "Device manufacturer:\n",
      "Motorola\n",
      "Device model:\n",
      "Moto G4\n",
      "Supported ABIs:\n",
      "SUPPORTED_ABIS: arm64-v8a,armeabi-v7a,armeabi\n",
      "SUPPORTED_32_BIT_ABIS: armeabi-v7a,armeabi\n",
      "SUPPORTED_64_BIT_ABIS: arm64-v8a\n",
      "LD Variables:\n",
      "LD_LIBRARY_PATH=\n",
      "LD_PRELOAD=/data/data/com.termux/files/usr/lib/libtermux-exec-ld-preload.so\n"
     ]
    }
   ],
   "source": [
    "! termux-info"
   ]
  },
  {
   "cell_type": "code",
   "execution_count": 6,
   "id": "a05615ee-e682-435d-bd0c-1bd7936541a8",
   "metadata": {},
   "outputs": [
    {
     "name": "stdout",
     "output_type": "stream",
     "text": [
      "\u001b[1;34mCPU:\u001b[0m 2x 4-core AArch64 (-MCP AMP-) \u001b[1;34mspeed/min/max:\u001b[0m 332/499:403/1651:1210 MHz\u001b[0m\n",
      "\u001b[1;34mKernel:\u001b[0m 3.10.108-lk.r17_rev aarch64 \u001b[1;34mUp:\u001b[0m 4d 3h 14m \u001b[1;34mMem:\u001b[0m 1.1/1.8 GiB (61.2%)\u001b[0m\n",
      "\u001b[1;34mStorage:\u001b[0m 14.56 GiB (235.2% used) \u001b[1;34mProcs:\u001b[0m 9 \u001b[1;34mShell:\u001b[0m python3.12 \u001b[1;34minxi:\u001b[0m 3.3.38\u001b[0m\n"
     ]
    }
   ],
   "source": [
    "! inxi"
   ]
  },
  {
   "cell_type": "code",
   "execution_count": 7,
   "id": "c256b102-4f84-42e4-bc77-ffea617c675e",
   "metadata": {},
   "outputs": [
    {
     "name": "stdout",
     "output_type": "stream",
     "text": [
      "Architecture:            aarch64\n",
      "  CPU op-mode(s):        32-bit, 64-bit\n",
      "  Byte Order:            Little Endian\n",
      "CPU(s):                  8\n",
      "  On-line CPU(s) list:   0,2,4-7\n",
      "  Off-line CPU(s) list:  1,3\n",
      "Vendor ID:               ARM\n",
      "  Model name:            Cortex-A53\n",
      "    Model:               4\n",
      "    Thread(s) per core:  1\n",
      "    Core(s) per cluster: 3\n",
      "    Socket(s):           -\n",
      "    Cluster(s):          2\n",
      "    Stepping:            r0p4\n",
      "    CPU(s) scaling MHz:  61%\n",
      "    CPU max MHz:         1651.2000\n",
      "    CPU min MHz:         0.0000\n",
      "    Flags:               fp asimd evtstrm aes pmull sha1 sha2 crc32\n"
     ]
    }
   ],
   "source": [
    "! lscpu"
   ]
  },
  {
   "cell_type": "code",
   "execution_count": 1,
   "id": "e79e14d9-1400-4ae1-a6d5-114b49a932af",
   "metadata": {},
   "outputs": [
    {
     "name": "stdout",
     "output_type": "stream",
     "text": [
      "clang version 20.1.6\n",
      "Target: aarch64-unknown-linux-android24\n",
      "Thread model: posix\n",
      "InstalledDir: /data/data/com.termux/files/usr/bin\n"
     ]
    }
   ],
   "source": [
    "! clang --version"
   ]
  },
  {
   "cell_type": "code",
   "execution_count": 2,
   "id": "c1036b6a-9b5a-4cb5-b11e-841d0e8fca44",
   "metadata": {},
   "outputs": [
    {
     "name": "stdout",
     "output_type": "stream",
     "text": [
      "GNU assembler (GNU Binutils) 2.44\n",
      "Copyright (C) 2025 Free Software Foundation, Inc.\n",
      "This program is free software; you may redistribute it under the terms of\n",
      "the GNU General Public License version 3 or later.\n",
      "This program has absolutely no warranty.\n",
      "This assembler was configured for a target of `aarch64-linux-android'.\n"
     ]
    }
   ],
   "source": [
    "! as --version"
   ]
  },
  {
   "cell_type": "code",
   "execution_count": 3,
   "id": "b5c4bb23-6057-4360-af19-7f338c02dd9a",
   "metadata": {},
   "outputs": [
    {
     "name": "stdout",
     "output_type": "stream",
     "text": [
      "GNU ld (GNU Binutils) 2.44\n",
      "Copyright (C) 2025 Free Software Foundation, Inc.\n",
      "This program is free software; you may redistribute it under the terms of\n",
      "the GNU General Public License version 3 or (at your option) a later version.\n",
      "This program has absolutely no warranty.\n"
     ]
    }
   ],
   "source": [
    "! ld --version"
   ]
  },
  {
   "cell_type": "markdown",
   "id": "20a49235-93b2-441b-8622-1c86d5aa75bb",
   "metadata": {},
   "source": [
    "## tiny.c"
   ]
  },
  {
   "cell_type": "code",
   "execution_count": 4,
   "id": "955d91ca-6a43-4d76-8619-dc80a261807a",
   "metadata": {},
   "outputs": [
    {
     "name": "stdout",
     "output_type": "stream",
     "text": [
      "Writing tiny1.c\n"
     ]
    }
   ],
   "source": [
    "%%writefile tiny1.c\n",
    "int main(void) {\n",
    "    return 42; \n",
    "}"
   ]
  },
  {
   "cell_type": "code",
   "execution_count": 5,
   "id": "6d5869a1-f995-4410-8cfa-2aada01f7763",
   "metadata": {},
   "outputs": [],
   "source": [
    "! clang -Oz -s tiny1.c"
   ]
  },
  {
   "cell_type": "code",
   "execution_count": 6,
   "id": "590bb4af-3a51-4073-9491-1dd66f1acb17",
   "metadata": {},
   "outputs": [
    {
     "name": "stdout",
     "output_type": "stream",
     "text": [
      "42\n"
     ]
    }
   ],
   "source": [
    "! ./a.out ; echo $?"
   ]
  },
  {
   "cell_type": "code",
   "execution_count": 7,
   "id": "3d037c39-00b6-4af0-9635-c7e6bfa6b87f",
   "metadata": {},
   "outputs": [
    {
     "name": "stdout",
     "output_type": "stream",
     "text": [
      "4144 a.out\n"
     ]
    }
   ],
   "source": [
    "! wc -c a.out"
   ]
  },
  {
   "cell_type": "code",
   "execution_count": 8,
   "id": "9244caca-1321-4317-8e92-4ef34747791e",
   "metadata": {},
   "outputs": [
    {
     "name": "stdout",
     "output_type": "stream",
     "text": [
      "   text\t   data\t    bss\t    dec\t    hex\tfilename\n",
      "   1195\t    464\t   1824\t   3483\t    d9b\ta.out\n"
     ]
    }
   ],
   "source": [
    "! size a.out"
   ]
  },
  {
   "cell_type": "code",
   "execution_count": 9,
   "id": "e3656972-42fe-431b-9fd9-759f21daa034",
   "metadata": {},
   "outputs": [
    {
     "name": "stdout",
     "output_type": "stream",
     "text": [
      "\n",
      "a.out:     file format elf64-littleaarch64\n",
      "\n",
      "Sections:\n",
      "Idx Name          Size      VMA               LMA               File off  Algn\n",
      "  0 .interp       00000015  0000000000000270  0000000000000270  00000270  2**0\n",
      "                  CONTENTS, ALLOC, LOAD, READONLY, DATA\n",
      "  1 .note.android.ident 00000098  0000000000000288  0000000000000288  00000288  2**2\n",
      "                  CONTENTS, ALLOC, LOAD, READONLY, DATA\n",
      "  2 .dynsym       00000060  0000000000000320  0000000000000320  00000320  2**3\n",
      "                  CONTENTS, ALLOC, LOAD, READONLY, DATA\n",
      "  3 .gnu.version  00000008  0000000000000380  0000000000000380  00000380  2**1\n",
      "                  CONTENTS, ALLOC, LOAD, READONLY, DATA\n",
      "  4 .gnu.version_r 00000020  0000000000000388  0000000000000388  00000388  2**2\n",
      "                  CONTENTS, ALLOC, LOAD, READONLY, DATA\n",
      "  5 .gnu.hash     0000001c  00000000000003a8  00000000000003a8  000003a8  2**3\n",
      "                  CONTENTS, ALLOC, LOAD, READONLY, DATA\n",
      "  6 .dynstr       00000066  00000000000003c4  00000000000003c4  000003c4  2**0\n",
      "                  CONTENTS, ALLOC, LOAD, READONLY, DATA\n",
      "  7 .rela.dyn     00000060  0000000000000430  0000000000000430  00000430  2**3\n",
      "                  CONTENTS, ALLOC, LOAD, READONLY, DATA\n",
      "  8 .rela.plt     00000048  0000000000000490  0000000000000490  00000490  2**3\n",
      "                  CONTENTS, ALLOC, LOAD, READONLY, DATA\n",
      "  9 .eh_frame_hdr 0000003c  00000000000004d8  00000000000004d8  000004d8  2**2\n",
      "                  CONTENTS, ALLOC, LOAD, READONLY, DATA\n",
      " 10 .eh_frame     000000b8  0000000000000518  0000000000000518  00000518  2**3\n",
      "                  CONTENTS, ALLOC, LOAD, READONLY, DATA\n",
      " 11 .text         00000108  00000000000005d0  00000000000005d0  000005d0  2**2\n",
      "                  CONTENTS, ALLOC, LOAD, READONLY, CODE\n",
      " 12 .plt          00000050  00000000000006e0  00000000000006e0  000006e0  2**4\n",
      "                  CONTENTS, ALLOC, LOAD, READONLY, CODE\n",
      " 13 .dynamic      00000170  0000000000004730  0000000000004730  00000730  2**3\n",
      "                  CONTENTS, ALLOC, LOAD, DATA\n",
      " 14 .got          00000018  00000000000048a0  00000000000048a0  000008a0  2**3\n",
      "                  CONTENTS, ALLOC, LOAD, DATA\n",
      " 15 .got.plt      00000030  00000000000048b8  00000000000048b8  000008b8  2**3\n",
      "                  CONTENTS, ALLOC, LOAD, DATA\n",
      " 16 .relro_padding 00000718  00000000000048e8  00000000000048e8  000008e8  2**0\n",
      "                  ALLOC\n",
      " 17 .data         00000018  00000000000088e8  00000000000088e8  000008e8  2**3\n",
      "                  CONTENTS, ALLOC, LOAD, DATA\n",
      " 18 .bss          00000008  0000000000008900  0000000000008900  00000900  2**3\n",
      "                  ALLOC\n",
      " 19 .comment      000000e1  0000000000000000  0000000000000000  00000900  2**0\n",
      "                  CONTENTS, READONLY\n"
     ]
    }
   ],
   "source": [
    "! objdump -h a.out"
   ]
  },
  {
   "cell_type": "code",
   "execution_count": 10,
   "id": "08fe0511-5b82-4cd0-bd4f-eda0aa650388",
   "metadata": {},
   "outputs": [
    {
     "name": "stdout",
     "output_type": "stream",
     "text": [
      "Writing tiny.c\n"
     ]
    }
   ],
   "source": [
    "%%writefile tiny.c\n",
    "extern void _exit(int);\n",
    "\n",
    "void _start(void) {\n",
    "    _exit(42); \n",
    "}"
   ]
  },
  {
   "cell_type": "code",
   "execution_count": 11,
   "id": "eb7815d6-d34b-44a3-ad02-b203bc039770",
   "metadata": {},
   "outputs": [
    {
     "name": "stdout",
     "output_type": "stream",
     "text": [
      "Writing tiny.asm\n"
     ]
    }
   ],
   "source": [
    "%%writefile tiny.asm\n",
    "    .global _start\n",
    "    .text\n",
    "_start:\n",
    "    /* syscall exit (int status) */\n",
    "    mov    w8, #93  /* exit is syscall #1 */\n",
    "    mov    x0, #42  /* status  := 42 */\n",
    "    svc    #0"
   ]
  },
  {
   "cell_type": "code",
   "execution_count": 12,
   "id": "24f570b2-62ab-4f7e-814a-eed335942b94",
   "metadata": {},
   "outputs": [],
   "source": [
    "! as tiny.asm -o tiny.o"
   ]
  },
  {
   "cell_type": "markdown",
   "id": "412a18ff-228c-49f1-b29d-65938887e130",
   "metadata": {},
   "source": [
    "\\\n",
    "Linking with clang:"
   ]
  },
  {
   "cell_type": "code",
   "execution_count": 13,
   "id": "4a600760-4e08-4b77-9c6c-2e2f3a474b03",
   "metadata": {},
   "outputs": [],
   "source": [
    "! clang -Wall -s -nostartfiles -nostdlib tiny.o"
   ]
  },
  {
   "cell_type": "code",
   "execution_count": 14,
   "id": "c46b5b1a-44ca-4096-bd46-ed1c7741eccf",
   "metadata": {},
   "outputs": [
    {
     "name": "stdout",
     "output_type": "stream",
     "text": [
      "42\n"
     ]
    }
   ],
   "source": [
    "! ./a.out ; echo $?"
   ]
  },
  {
   "cell_type": "code",
   "execution_count": 15,
   "id": "eae29ae8-ecd8-4f05-8cbe-2f765dd196d6",
   "metadata": {},
   "outputs": [
    {
     "name": "stdout",
     "output_type": "stream",
     "text": [
      "1688 a.out\n"
     ]
    }
   ],
   "source": [
    "! wc -c a.out"
   ]
  },
  {
   "cell_type": "code",
   "execution_count": 16,
   "id": "d28c74d1-515c-4813-b8dd-f1a6a5829466",
   "metadata": {},
   "outputs": [
    {
     "name": "stdout",
     "output_type": "stream",
     "text": [
      "   text\t   data\t    bss\t    dec\t    hex\tfilename\n",
      "    122\t    160\t   3296\t   3578\t    dfa\ta.out\n"
     ]
    }
   ],
   "source": [
    "! size a.out"
   ]
  },
  {
   "cell_type": "code",
   "execution_count": 18,
   "id": "e84b1826-5879-45f6-82b9-f20fe2914d8e",
   "metadata": {},
   "outputs": [
    {
     "name": "stdout",
     "output_type": "stream",
     "text": [
      "\n",
      "a.out:     file format elf64-littleaarch64\n",
      "\n",
      "Sections:\n",
      "Idx Name          Size      VMA               LMA               File off  Algn\n",
      "  0 .interp       00000015  0000000000000200  0000000000000200  00000200  2**0\n",
      "                  CONTENTS, ALLOC, LOAD, READONLY, DATA\n",
      "  1 .dynsym       00000018  0000000000000218  0000000000000218  00000218  2**3\n",
      "                  CONTENTS, ALLOC, LOAD, READONLY, DATA\n",
      "  2 .gnu.hash     0000001c  0000000000000230  0000000000000230  00000230  2**3\n",
      "                  CONTENTS, ALLOC, LOAD, READONLY, DATA\n",
      "  3 .dynstr       00000025  000000000000024c  000000000000024c  0000024c  2**0\n",
      "                  CONTENTS, ALLOC, LOAD, READONLY, DATA\n",
      "  4 .text         0000000c  0000000000000274  0000000000000274  00000274  2**2\n",
      "                  CONTENTS, ALLOC, LOAD, READONLY, CODE\n",
      "  5 .dynamic      000000a0  0000000000004280  0000000000004280  00000280  2**3\n",
      "                  CONTENTS, ALLOC, LOAD, DATA\n",
      "  6 .relro_padding 00000ce0  0000000000004320  0000000000004320  00000320  2**0\n",
      "                  ALLOC\n",
      "  7 .data         00000000  0000000000008320  0000000000008320  00000320  2**0\n",
      "                  CONTENTS, ALLOC, LOAD, DATA\n",
      "  8 .bss          00000000  0000000000008320  0000000000008320  00000320  2**0\n",
      "                  ALLOC\n",
      "  9 .comment      00000013  0000000000000000  0000000000000000  00000320  2**0\n",
      "                  CONTENTS, READONLY\n"
     ]
    }
   ],
   "source": [
    "! objdump -h a.out"
   ]
  },
  {
   "cell_type": "code",
   "execution_count": 19,
   "id": "2cab7743-516f-4e6b-b0eb-af842e210f15",
   "metadata": {},
   "outputs": [],
   "source": [
    "! strip --strip-all --strip-section-headers a.out"
   ]
  },
  {
   "cell_type": "code",
   "execution_count": 20,
   "id": "26ab889c-1446-45fa-91fc-cec7ae7f7d1d",
   "metadata": {},
   "outputs": [
    {
     "name": "stdout",
     "output_type": "stream",
     "text": [
      "\n",
      "a.out:     file format elf64-littleaarch64\n",
      "\n",
      "Sections:\n",
      "Idx Name          Size      VMA               LMA               File off  Algn\n"
     ]
    }
   ],
   "source": [
    "! objdump -h a.out"
   ]
  },
  {
   "cell_type": "code",
   "execution_count": 21,
   "id": "7eb705a1-e4fb-473b-9e11-ea923b96650f",
   "metadata": {},
   "outputs": [
    {
     "name": "stdout",
     "output_type": "stream",
     "text": [
      "800 a.out\n"
     ]
    }
   ],
   "source": [
    "! wc -c a.out"
   ]
  },
  {
   "cell_type": "markdown",
   "id": "da33ff2a-46b7-4c33-aa8a-0ea9ebf2ce7f",
   "metadata": {},
   "source": [
    "\\\n",
    "Linking and gerenating executable direct from assembly and linker"
   ]
  },
  {
   "cell_type": "code",
   "execution_count": 36,
   "id": "2ff0ce7e-f140-4386-a396-20fee83e6b45",
   "metadata": {},
   "outputs": [],
   "source": [
    "! rm a.out"
   ]
  },
  {
   "cell_type": "code",
   "execution_count": 37,
   "id": "fc715bb1-82bb-4581-b48e-0864d43f89e9",
   "metadata": {},
   "outputs": [
    {
     "name": "stdout",
     "output_type": "stream",
     "text": [
      "-rw-------. 1 u0_a124 u0_a124 728 Jun  7 14:27 tiny.o\n"
     ]
    }
   ],
   "source": [
    "! ls -lh tiny.o"
   ]
  },
  {
   "cell_type": "code",
   "execution_count": 38,
   "id": "1b5fd6f1-0d49-4c65-b074-9ce568d9ec61",
   "metadata": {},
   "outputs": [],
   "source": [
    "! ld --strip-all --gc-sections -static tiny.o"
   ]
  },
  {
   "cell_type": "code",
   "execution_count": 39,
   "id": "6c7d8e9b-0cce-4f9f-9415-6c65f4462564",
   "metadata": {},
   "outputs": [
    {
     "name": "stdout",
     "output_type": "stream",
     "text": [
      "42\n"
     ]
    }
   ],
   "source": [
    "! ./a.out ; echo $?"
   ]
  },
  {
   "cell_type": "code",
   "execution_count": 40,
   "id": "5badbe58-16e7-40f1-98b8-9d47c0c0949a",
   "metadata": {},
   "outputs": [
    {
     "name": "stdout",
     "output_type": "stream",
     "text": [
      "344 a.out\n"
     ]
    }
   ],
   "source": [
    "! wc -c a.out"
   ]
  },
  {
   "cell_type": "code",
   "execution_count": 41,
   "id": "362beb3d-3e3c-43f5-adbb-98ad265b2ff1",
   "metadata": {},
   "outputs": [],
   "source": [
    "! strip --strip-all a.out"
   ]
  },
  {
   "cell_type": "code",
   "execution_count": 42,
   "id": "83e80316-bcfe-46bc-8f1f-2f4fa38e193d",
   "metadata": {},
   "outputs": [
    {
     "name": "stdout",
     "output_type": "stream",
     "text": [
      "344 a.out\n"
     ]
    }
   ],
   "source": [
    "! wc -c a.out"
   ]
  },
  {
   "cell_type": "code",
   "execution_count": 43,
   "id": "b1997b59-7b89-43dd-85ce-b873d3907f7d",
   "metadata": {},
   "outputs": [
    {
     "name": "stdout",
     "output_type": "stream",
     "text": [
      "42\n"
     ]
    }
   ],
   "source": [
    "! ./a.out ; echo $?"
   ]
  },
  {
   "cell_type": "code",
   "execution_count": 44,
   "id": "295c5622-629e-406a-ad58-6857e042f124",
   "metadata": {},
   "outputs": [
    {
     "name": "stdout",
     "output_type": "stream",
     "text": [
      "\n",
      "a.out:     file format elf64-littleaarch64\n",
      "\n",
      "Sections:\n",
      "Idx Name          Size      VMA               LMA               File off  Algn\n",
      "  0 .text         0000000c  0000000000400078  0000000000400078  00000078  2**2\n",
      "                  CONTENTS, ALLOC, LOAD, READONLY, CODE\n"
     ]
    }
   ],
   "source": [
    "! objdump -h a.out"
   ]
  },
  {
   "cell_type": "code",
   "execution_count": null,
   "id": "7d112b02-64bf-4146-8d3d-6837759a714e",
   "metadata": {},
   "outputs": [],
   "source": []
  },
  {
   "cell_type": "code",
   "execution_count": 45,
   "id": "53eb9838-26ba-4619-a951-fa1337a8762e",
   "metadata": {},
   "outputs": [
    {
     "name": "stdout",
     "output_type": "stream",
     "text": [
      "AARCH64 GAS  tiny.asm \t\t\tpage 1\n",
      "\n",
      "\n",
      "   1              \t    .global _start\n",
      "   2              \t    .text\n",
      "   3              \t_start:\n",
      "   4              \t    /* syscall exit (int status) */\n",
      "   5 0000 A80B8052 \t    mov    w8, #93  /* exit is syscall #1 */\n",
      "   6 0004 400580D2 \t    mov    x0, #42  /* status  := 42 */\n",
      "   7 0008 010000D4 \t    svc    #0\n"
     ]
    }
   ],
   "source": [
    "! as -al tiny.asm"
   ]
  },
  {
   "cell_type": "code",
   "execution_count": 46,
   "id": "9dd25d1f-c2cb-4d25-9f1b-031941481e63",
   "metadata": {},
   "outputs": [
    {
     "name": "stdout",
     "output_type": "stream",
     "text": [
      "\n",
      "a.out:     file format elf64-littleaarch64\n",
      "\n",
      "\n",
      "Disassembly of section .text:\n",
      "\n",
      "0000000000000000 <_start>:\n",
      "   0:\t52800ba8 \tmov\tw8, #0x5d                  \t// #93\n",
      "   4:\td2800540 \tmov\tx0, #0x2a                  \t// #42\n",
      "   8:\td4000001 \tsvc\t#0x0\n"
     ]
    }
   ],
   "source": [
    "! objdump -d a.out"
   ]
  },
  {
   "cell_type": "code",
   "execution_count": 47,
   "id": "9a8f7647-8dfe-490b-b860-339cd0f01ace",
   "metadata": {},
   "outputs": [
    {
     "name": "stdout",
     "output_type": "stream",
     "text": [
      "00000000  7f 45 4c 46 02 01 01 00  00 00 00 00 00 00 00 00  |.ELF............|\n",
      "00000010  01 00 b7 00 01 00 00 00  00 00 00 00 00 00 00 00  |................|\n",
      "00000020  00 00 00 00 00 00 00 00  18 01 00 00 00 00 00 00  |................|\n",
      "00000030  00 00 00 00 40 00 00 00  00 00 40 00 07 00 06 00  |....@.....@.....|\n",
      "00000040  a8 0b 80 52 40 05 80 d2  01 00 00 d4 00 00 00 00  |...R@...........|\n",
      "00000050  00 00 00 00 00 00 00 00  00 00 00 00 00 00 00 00  |................|\n",
      "00000060  00 00 00 00 00 00 00 00  00 00 00 00 03 00 01 00  |................|\n",
      "00000070  00 00 00 00 00 00 00 00  00 00 00 00 00 00 00 00  |................|\n",
      "00000080  00 00 00 00 03 00 02 00  00 00 00 00 00 00 00 00  |................|\n",
      "00000090  00 00 00 00 00 00 00 00  00 00 00 00 03 00 03 00  |................|\n",
      "000000a0  00 00 00 00 00 00 00 00  00 00 00 00 00 00 00 00  |................|\n",
      "000000b0  01 00 00 00 00 00 01 00  00 00 00 00 00 00 00 00  |................|\n",
      "000000c0  00 00 00 00 00 00 00 00  04 00 00 00 10 00 01 00  |................|\n",
      "000000d0  00 00 00 00 00 00 00 00  00 00 00 00 00 00 00 00  |................|\n",
      "000000e0  00 24 78 00 5f 73 74 61  72 74 00 00 2e 73 79 6d  |.$x._start...sym|\n",
      "000000f0  74 61 62 00 2e 73 74 72  74 61 62 00 2e 73 68 73  |tab..strtab..shs|\n",
      "00000100  74 72 74 61 62 00 2e 74  65 78 74 00 2e 64 61 74  |trtab..text..dat|\n",
      "00000110  61 00 2e 62 73 73 00 00  00 00 00 00 00 00 00 00  |a..bss..........|\n",
      "00000120  00 00 00 00 00 00 00 00  00 00 00 00 00 00 00 00  |................|\n",
      "*\n",
      "00000150  00 00 00 00 00 00 00 00  1b 00 00 00 01 00 00 00  |................|\n",
      "00000160  06 00 00 00 00 00 00 00  00 00 00 00 00 00 00 00  |................|\n",
      "00000170  40 00 00 00 00 00 00 00  0c 00 00 00 00 00 00 00  |@...............|\n",
      "00000180  00 00 00 00 00 00 00 00  04 00 00 00 00 00 00 00  |................|\n",
      "00000190  00 00 00 00 00 00 00 00  21 00 00 00 01 00 00 00  |........!.......|\n",
      "000001a0  03 00 00 00 00 00 00 00  00 00 00 00 00 00 00 00  |................|\n",
      "000001b0  4c 00 00 00 00 00 00 00  00 00 00 00 00 00 00 00  |L...............|\n",
      "000001c0  00 00 00 00 00 00 00 00  01 00 00 00 00 00 00 00  |................|\n",
      "000001d0  00 00 00 00 00 00 00 00  27 00 00 00 08 00 00 00  |........'.......|\n",
      "000001e0  03 00 00 00 00 00 00 00  00 00 00 00 00 00 00 00  |................|\n",
      "000001f0  4c 00 00 00 00 00 00 00  00 00 00 00 00 00 00 00  |L...............|\n",
      "00000200  00 00 00 00 00 00 00 00  01 00 00 00 00 00 00 00  |................|\n",
      "00000210  00 00 00 00 00 00 00 00  01 00 00 00 02 00 00 00  |................|\n",
      "00000220  00 00 00 00 00 00 00 00  00 00 00 00 00 00 00 00  |................|\n",
      "00000230  50 00 00 00 00 00 00 00  90 00 00 00 00 00 00 00  |P...............|\n",
      "00000240  05 00 00 00 05 00 00 00  08 00 00 00 00 00 00 00  |................|\n",
      "00000250  18 00 00 00 00 00 00 00  09 00 00 00 03 00 00 00  |................|\n",
      "00000260  00 00 00 00 00 00 00 00  00 00 00 00 00 00 00 00  |................|\n",
      "00000270  e0 00 00 00 00 00 00 00  0b 00 00 00 00 00 00 00  |................|\n",
      "00000280  00 00 00 00 00 00 00 00  01 00 00 00 00 00 00 00  |................|\n",
      "00000290  00 00 00 00 00 00 00 00  11 00 00 00 03 00 00 00  |................|\n",
      "000002a0  00 00 00 00 00 00 00 00  00 00 00 00 00 00 00 00  |................|\n",
      "000002b0  eb 00 00 00 00 00 00 00  2c 00 00 00 00 00 00 00  |........,.......|\n",
      "000002c0  00 00 00 00 00 00 00 00  01 00 00 00 00 00 00 00  |................|\n",
      "000002d0  00 00 00 00 00 00 00 00                           |........|\n",
      "000002d8\n"
     ]
    }
   ],
   "source": [
    "! hexdump -C a.out"
   ]
  },
  {
   "cell_type": "code",
   "execution_count": 48,
   "id": "ad86b2c4-42d1-4a01-b395-dae2c740896f",
   "metadata": {},
   "outputs": [
    {
     "name": "stdout",
     "output_type": "stream",
     "text": [
      "   text\t   data\t    bss\t    dec\t    hex\tfilename\n",
      "     12\t      0\t      0\t     12\t      c\ta.out\n"
     ]
    }
   ],
   "source": [
    "! size a.out"
   ]
  },
  {
   "cell_type": "code",
   "execution_count": 49,
   "id": "e16219be-d9d8-4c70-97e8-10331f0a48fe",
   "metadata": {},
   "outputs": [
    {
     "name": "stdout",
     "output_type": "stream",
     "text": [
      "a.out  :\n",
      "section   size   addr\n",
      ".text    0xc    0x0\n",
      ".data    0x0    0x0\n",
      ".bss     0x0    0x0\n",
      "Total    0xc\n",
      "\n",
      "\n"
     ]
    }
   ],
   "source": [
    "! size -Ax a.out"
   ]
  },
  {
   "cell_type": "markdown",
   "id": "8d5b6166-44dc-4886-8d56-99493cdfb895",
   "metadata": {},
   "source": [
    "# C with more aggressive options"
   ]
  },
  {
   "cell_type": "code",
   "execution_count": 70,
   "id": "94f44895-637e-4536-bc82-82f2a6307418",
   "metadata": {},
   "outputs": [
    {
     "name": "stdout",
     "output_type": "stream",
     "text": [
      "Overwriting tiny2.c\n"
     ]
    }
   ],
   "source": [
    "%%writefile tiny2.c\n",
    "extern void _exit(int);\n",
    "\n",
    "void _start(void) {\n",
    "    _exit(42); \n",
    "}"
   ]
  },
  {
   "cell_type": "code",
   "execution_count": 71,
   "id": "238983c0-244e-47a4-8410-96b7722f6ad4",
   "metadata": {},
   "outputs": [
    {
     "name": "stdout",
     "output_type": "stream",
     "text": [
      "Overwriting tiny2.asm\n"
     ]
    }
   ],
   "source": [
    "%%writefile tiny2.asm\n",
    "    .arch armv8-a\n",
    "    .section .text\n",
    "    .globl _exit\n",
    "    .type _exit, %function\n",
    "_exit:\n",
    "    /* syscall exit (int status) */\n",
    "    mov    w8, #93  /* exit is syscall #1 */\n",
    "    mov    x0, #42  /* status  := 42 */\n",
    "    svc    #0"
   ]
  },
  {
   "cell_type": "code",
   "execution_count": 72,
   "id": "4ad01db0-d79c-4007-be8f-3957adcccf7f",
   "metadata": {},
   "outputs": [],
   "source": [
    "! as tiny2.asm -o tiny2.o"
   ]
  },
  {
   "cell_type": "markdown",
   "id": "de0a0712-744a-44ee-92b5-8ac39001dac9",
   "metadata": {},
   "source": [
    "- -ffreestanding is used in embedded systems where there is no operating system, and everything has to be self-contained.\n",
    "    - void main(void) .\n",
    "    - The standard header files <stdio.h>, <string.h> and so on, are not to be used.\n",
    "- On ARM64 the \"-Oz -ffreestanding\" generated assembly does not include SP stack initialization.\n",
    "- -fident and -fno-ident control whether the output file contains the compiler name and version information.\n",
    "- -nostdlib implies the individual options -nodefaultlibs and -nostartfiles .\n",
    "    - the only libraries linked are exactly those that you explicitly name to the linker using the -l flag .\n",
    "    - http://cs107e.github.io/guides/gcc/"
   ]
  },
  {
   "cell_type": "code",
   "execution_count": 73,
   "id": "465265b8-507b-4019-86c7-67f9e72d74b9",
   "metadata": {},
   "outputs": [
    {
     "name": "stderr",
     "output_type": "stream",
     "text": [
      "ld.lld: warning: -z max-page-size set, but paging disabled by omagic or nmagic\n",
      "ld.lld: warning: -z common-page-size set, but paging disabled by omagic or nmagic\n"
     ]
    }
   ],
   "source": [
    "%%bash\n",
    "clang -Wall -Oz -static \\\n",
    "      -fno-inline -s -g0 -DNDEBUG \\\n",
    "      -nostartfiles -nostdlib -ffreestanding \\\n",
    "      -flto \\\n",
    "      -fno-stack-protector -fno-exceptions \\\n",
    "      -fno-ident -fno-unwind-tables -fno-asynchronous-unwind-tables \\\n",
    "      -ffunction-sections -fdata-sections \\\n",
    "      -fno-plt -fno-pic -fno-pie \\\n",
    "      -fmerge-all-constants -fno-common \\\n",
    "      -fomit-frame-pointer -fno-builtin \\\n",
    "      -Wl,--gc-sections,--strip-all,--strip-debug \\\n",
    "      -Wl,--hash-style=sysv,--build-id=none \\\n",
    "      -Wl,--no-eh-frame-hdr,--no-gnu-unique,--omagic,--nmagic,--no-relax \\\n",
    "      -Wl,-z,norelro,-z,noseparate-code,-z,max-page-size=1,-z,common-page-size=1 \\\n",
    "      tiny2.o tiny2.c -o a.out\n",
    "strip --strip-all --strip-debug --strip-unneeded --strip-section-headers \\\n",
    "      -R .comment \\\n",
    "      --remove-section=.note.gnu.build-id \\\n",
    "      --remove-section=.note \\\n",
    "      --remove-section=.note.ABI-tag \\\n",
    "      --remove-section=.gnu.hash \\\n",
    "      --remove-section=.dynsym \\\n",
    "      --remove-section=.dynstr \\\n",
    "      --remove-section=.gnu.version \\\n",
    "      --remove-section=.gnu.version_r \\\n",
    "      --remove-section=.rel.dyn \\\n",
    "      --remove-section=.rel.plt \\\n",
    "      --remove-section=.init \\\n",
    "      --remove-section=.plt \\\n",
    "      --remove-section=.fini \\\n",
    "      --remove-section=.rodata \\\n",
    "      --remove-section=.eh_frame_hdr \\\n",
    "      --remove-section=.eh_frame \\\n",
    "      --remove-section=.init_array \\\n",
    "      --remove-section=.fini_array \\\n",
    "      --remove-section=.jcr \\\n",
    "      --remove-section=.got \\\n",
    "      --remove-section=.got.plt \\\n",
    "      --remove-section=.data \\\n",
    "      --remove-section=.bss \\\n",
    "      --remove-section=.comment \\\n",
    "      --remove-section=.strtab \\\n",
    "      --remove-section=.symtab \\\n",
    "      a.out"
   ]
  },
  {
   "cell_type": "code",
   "execution_count": 84,
   "id": "0f8274d7-acd2-4947-b5c5-677de45b7a99",
   "metadata": {},
   "outputs": [
    {
     "name": "stdout",
     "output_type": "stream",
     "text": [
      "42\n"
     ]
    }
   ],
   "source": [
    "! ./a.out ; echo $?"
   ]
  },
  {
   "cell_type": "code",
   "execution_count": 85,
   "id": "74de110c-a6a2-4da6-9d46-5974258da66c",
   "metadata": {},
   "outputs": [
    {
     "name": "stdout",
     "output_type": "stream",
     "text": [
      "196 a.out\n"
     ]
    }
   ],
   "source": [
    "! wc -c a.out"
   ]
  },
  {
   "cell_type": "code",
   "execution_count": 86,
   "id": "6ff975f0-f4ea-471b-a5fe-74cad05d4944",
   "metadata": {},
   "outputs": [
    {
     "name": "stdout",
     "output_type": "stream",
     "text": [
      "\n",
      "There are no sections in this file.\n"
     ]
    }
   ],
   "source": [
    "! readelf -S a.out"
   ]
  },
  {
   "cell_type": "code",
   "execution_count": 87,
   "id": "a681ef54-c72a-469c-b8ec-896adf29788a",
   "metadata": {},
   "outputs": [
    {
     "name": "stdout",
     "output_type": "stream",
     "text": [
      "\n",
      "Dynamic symbol information is not available for displaying symbols.\n"
     ]
    }
   ],
   "source": [
    "! readelf -s a.out"
   ]
  },
  {
   "cell_type": "code",
   "execution_count": 88,
   "id": "fa8dd872-ef57-4666-9b96-63d9226e07b4",
   "metadata": {},
   "outputs": [
    {
     "name": "stdout",
     "output_type": "stream",
     "text": [
      "-rwx------. 1 u0_a124 u0_a124 196 Jun  7 14:48 \u001b[0m\u001b[01;32ma.out\u001b[0m\n"
     ]
    }
   ],
   "source": [
    "! ls -lh a.out"
   ]
  },
  {
   "cell_type": "code",
   "execution_count": 91,
   "id": "ecd5661e-381d-4c1e-8676-8030ad5c82a7",
   "metadata": {},
   "outputs": [
    {
     "name": "stdout",
     "output_type": "stream",
     "text": [
      "   text\t   data\t    bss\t    dec\t    hex\tfilename\n",
      "      0\t      0\t      0\t      0\t      0\ta.out\n"
     ]
    }
   ],
   "source": [
    "! size a.out"
   ]
  },
  {
   "cell_type": "code",
   "execution_count": 92,
   "id": "75749076-7a0c-48d0-b316-fc8aef3db5dc",
   "metadata": {},
   "outputs": [
    {
     "name": "stdout",
     "output_type": "stream",
     "text": [
      "\n",
      "a.out:     file format elf64-littleaarch64\n",
      "\n",
      "Sections:\n",
      "Idx Name          Size      VMA               LMA               File off  Algn\n"
     ]
    }
   ],
   "source": [
    "! objdump -h a.out"
   ]
  },
  {
   "cell_type": "code",
   "execution_count": 93,
   "id": "cb1cc61d-ee1d-44f7-b6ad-e1d9d089708f",
   "metadata": {},
   "outputs": [
    {
     "name": "stdout",
     "output_type": "stream",
     "text": [
      "\n",
      "a.out:     file format elf64-littleaarch64\n",
      "\n"
     ]
    }
   ],
   "source": [
    "! objdump -Dz a.out"
   ]
  },
  {
   "cell_type": "code",
   "execution_count": 94,
   "id": "7481bad3-6d21-42e6-bdf5-68193cd7a148",
   "metadata": {},
   "outputs": [
    {
     "name": "stdout",
     "output_type": "stream",
     "text": [
      "\n",
      "a.out:     file format elf64-littleaarch64\n",
      "\n"
     ]
    }
   ],
   "source": [
    "! objdump -d a.out"
   ]
  },
  {
   "cell_type": "code",
   "execution_count": 95,
   "id": "6e9e0963-6284-4890-91e3-3992ffd39010",
   "metadata": {},
   "outputs": [
    {
     "name": "stdout",
     "output_type": "stream",
     "text": [
      "00000000  7f 45 4c 46 02 01 01 00  00 00 00 00 00 00 00 00  |.ELF............|\n",
      "00000010  02 00 b7 00 01 00 00 00  bc 00 20 00 00 00 00 00  |.......... .....|\n",
      "00000020  40 00 00 00 00 00 00 00  00 00 00 00 00 00 00 00  |@...............|\n",
      "00000030  00 00 00 00 40 00 38 00  02 00 00 00 00 00 00 00  |....@.8.........|\n",
      "00000040  01 00 00 00 07 00 00 00  b0 00 00 00 00 00 00 00  |................|\n",
      "00000050  b0 00 20 00 00 00 00 00  b0 00 20 00 00 00 00 00  |.. ....... .....|\n",
      "00000060  14 00 00 00 00 00 00 00  14 00 00 00 00 00 00 00  |................|\n",
      "00000070  04 00 00 00 00 00 00 00  51 e5 74 64 06 00 00 00  |........Q.td....|\n",
      "00000080  00 00 00 00 00 00 00 00  00 00 00 00 00 00 00 00  |................|\n",
      "*\n",
      "000000b0  a8 0b 80 52 40 05 80 d2  01 00 00 d4 40 05 80 52  |...R@.......@..R|\n",
      "000000c0  fc ff ff 17                                       |....|\n",
      "000000c4\n"
     ]
    }
   ],
   "source": [
    "! hexdump -C a.out"
   ]
  },
  {
   "cell_type": "code",
   "execution_count": null,
   "id": "cf59fc10-d077-4703-9376-b5025b427115",
   "metadata": {},
   "outputs": [],
   "source": []
  },
  {
   "cell_type": "markdown",
   "id": "a73b6f3c-2cf5-4d86-884e-cb02c3857113",
   "metadata": {},
   "source": [
    "---"
   ]
  },
  {
   "cell_type": "markdown",
   "id": "4f33540f-09e8-4598-8532-d103ec2ebe1b",
   "metadata": {},
   "source": [
    "## Minimal command line equivalent"
   ]
  },
  {
   "cell_type": "code",
   "execution_count": 101,
   "id": "ed71ac29-0816-4036-8039-ff8b216b6810",
   "metadata": {},
   "outputs": [
    {
     "name": "stderr",
     "output_type": "stream",
     "text": [
      "ld.lld: warning: -z max-page-size set, but paging disabled by omagic or nmagic\n"
     ]
    }
   ],
   "source": [
    "%%bash\n",
    "clang -Oz -static -nostdlib -nostartfiles -ffreestanding \\\n",
    "  -fno-builtin -fno-stack-protector -fno-exceptions \\\n",
    "  -ffunction-sections -fdata-sections \\\n",
    "  -Wl,--gc-sections,--strip-all,--build-id=none \\\n",
    "  -Wl,-z,notext,-z,norelro,-z,noseparate-code,--omagic,--nmagic \\\n",
    "  tiny2.o tiny2.c -o a.out\n",
    "strip --strip-all --strip-section-headers a.out"
   ]
  },
  {
   "cell_type": "code",
   "execution_count": 102,
   "id": "571f2a5c-1772-421d-927d-a61b49a4c6d6",
   "metadata": {},
   "outputs": [
    {
     "name": "stdout",
     "output_type": "stream",
     "text": [
      "196 a.out\n"
     ]
    }
   ],
   "source": [
    "! wc -c a.out"
   ]
  },
  {
   "cell_type": "code",
   "execution_count": 103,
   "id": "29032f1e-37b6-405a-a801-f6ab377e5247",
   "metadata": {},
   "outputs": [
    {
     "name": "stdout",
     "output_type": "stream",
     "text": [
      "   text\t   data\t    bss\t    dec\t    hex\tfilename\n",
      "      0\t      0\t      0\t      0\t      0\ta.out\n"
     ]
    }
   ],
   "source": [
    "! size a.out"
   ]
  },
  {
   "cell_type": "code",
   "execution_count": 104,
   "id": "072d0585-d4b0-469a-8753-05b7d84081a7",
   "metadata": {},
   "outputs": [
    {
     "name": "stdout",
     "output_type": "stream",
     "text": [
      "42\n"
     ]
    }
   ],
   "source": [
    "! ./a.out ; echo $?"
   ]
  },
  {
   "cell_type": "markdown",
   "id": "3b4de8b6-e769-4d53-b249-ebd8cd828a8a",
   "metadata": {},
   "source": [
    "---"
   ]
  },
  {
   "cell_type": "markdown",
   "id": "9586828e-6b6a-40df-bae0-0d4763209e16",
   "metadata": {},
   "source": [
    "- -Wl,–gc-sections: Tell the linker to garbage collect and discard unused sections\n",
    "- -Wl,-static: Link against static libraries. Required for dead-code elimination"
   ]
  },
  {
   "cell_type": "code",
   "execution_count": 105,
   "id": "3fb05610-dea3-4871-8fe2-0187deec5858",
   "metadata": {},
   "outputs": [],
   "source": [
    "%%bash\n",
    "clang tiny2.o tiny2.c \\\n",
    "-Oz -s -ffreestanding -nostartfiles -nostdlib -static -Wl,--gc-sections"
   ]
  },
  {
   "cell_type": "code",
   "execution_count": 106,
   "id": "2e5a815e-1a30-471e-a809-dfdf6abbf419",
   "metadata": {},
   "outputs": [
    {
     "name": "stdout",
     "output_type": "stream",
     "text": [
      "-rwx------. 1 u0_a124 u0_a124 576 Jun  7 14:51 \u001b[0m\u001b[01;32ma.out\u001b[0m\n"
     ]
    }
   ],
   "source": [
    "! ls -lh a.out"
   ]
  },
  {
   "cell_type": "code",
   "execution_count": 107,
   "id": "070c2840-2303-4c6c-a971-412117e5eaa7",
   "metadata": {},
   "outputs": [
    {
     "name": "stdout",
     "output_type": "stream",
     "text": [
      "42\n"
     ]
    }
   ],
   "source": [
    "! ./a.out ; echo $?"
   ]
  },
  {
   "cell_type": "code",
   "execution_count": 108,
   "id": "5f709536-2e92-481b-b95b-722edcf55cd2",
   "metadata": {},
   "outputs": [
    {
     "name": "stdout",
     "output_type": "stream",
     "text": [
      "   text\t   data\t    bss\t    dec\t    hex\tfilename\n",
      "     20\t      0\t      0\t     20\t     14\ta.out\n"
     ]
    }
   ],
   "source": [
    "! size a.out"
   ]
  },
  {
   "cell_type": "code",
   "execution_count": 109,
   "id": "068e9dfa-76a0-4c46-aad6-561beaeb1bdf",
   "metadata": {},
   "outputs": [
    {
     "name": "stdout",
     "output_type": "stream",
     "text": [
      "\n",
      "a.out:     file format elf64-littleaarch64\n",
      "\n",
      "\n",
      "Disassembly of section .text:\n",
      "\n",
      "00000000002000e8 <.text>:\n",
      "  2000e8:\t52800ba8 \tmov\tw8, #0x5d                  \t// #93\n",
      "  2000ec:\td2800540 \tmov\tx0, #0x2a                  \t// #42\n",
      "  2000f0:\td4000001 \tsvc\t#0x0\n",
      "  2000f4:\t52800540 \tmov\tw0, #0x2a                  \t// #42\n",
      "  2000f8:\t17fffffc \tb\t0x2000e8\n"
     ]
    }
   ],
   "source": [
    "! objdump -d a.out"
   ]
  },
  {
   "cell_type": "code",
   "execution_count": 110,
   "id": "3c3c304e-acf6-40e5-b501-f4da93763efb",
   "metadata": {},
   "outputs": [
    {
     "name": "stdout",
     "output_type": "stream",
     "text": [
      "\n",
      "a.out:     file format elf64-littleaarch64\n",
      "\n",
      "Sections:\n",
      "Idx Name          Size      VMA               LMA               File off  Algn\n",
      "  0 .text         00000014  00000000002000e8  00000000002000e8  000000e8  2**2\n",
      "                  CONTENTS, ALLOC, LOAD, READONLY, CODE\n",
      "  1 .comment      00000029  0000000000000000  0000000000000000  000000fc  2**0\n",
      "                  CONTENTS, READONLY\n"
     ]
    }
   ],
   "source": [
    "! objdump -h a.out"
   ]
  },
  {
   "cell_type": "code",
   "execution_count": 111,
   "id": "dc30c491-cc16-4124-bb66-e3a91951fdd7",
   "metadata": {},
   "outputs": [
    {
     "name": "stdout",
     "output_type": "stream",
     "text": [
      "\n",
      "a.out:     file format elf64-littleaarch64\n",
      "\n",
      "Contents of section .text:\n",
      " 2000e8 a80b8052 400580d2 010000d4 40058052  ...R@.......@..R\n",
      " 2000f8 fcffff17                             ....            \n",
      "Contents of section .comment:\n",
      " 0000 004c696e 6b65723a 204c4c44 2032302e  .Linker: LLD 20.\n",
      " 0010 312e3600 636c616e 67207665 7273696f  1.6.clang versio\n",
      " 0020 6e203230 2e312e36 00                 n 20.1.6.       \n"
     ]
    }
   ],
   "source": [
    "! objdump -s a.out"
   ]
  },
  {
   "cell_type": "code",
   "execution_count": 112,
   "id": "f7e7e758-d7e3-4c18-9770-a9038634b0e9",
   "metadata": {},
   "outputs": [],
   "source": [
    "! strip --strip-all --strip-section-headers a.out"
   ]
  },
  {
   "cell_type": "code",
   "execution_count": 113,
   "id": "80af7554-c479-4328-8a76-69c0dba962bb",
   "metadata": {},
   "outputs": [
    {
     "name": "stdout",
     "output_type": "stream",
     "text": [
      "42\n"
     ]
    }
   ],
   "source": [
    "! ./a.out ; echo $?"
   ]
  },
  {
   "cell_type": "code",
   "execution_count": 114,
   "id": "3f79e27a-6c63-4cbc-8b33-7211a1f3b123",
   "metadata": {},
   "outputs": [
    {
     "name": "stdout",
     "output_type": "stream",
     "text": [
      "-rwx------. 1 u0_a124 u0_a124 252 Jun  7 14:51 \u001b[0m\u001b[01;32ma.out\u001b[0m\n"
     ]
    }
   ],
   "source": [
    "! ls -lh a.out"
   ]
  },
  {
   "cell_type": "code",
   "execution_count": 115,
   "id": "543cbf72-9cab-464f-b2aa-4ee5f38c7a33",
   "metadata": {},
   "outputs": [
    {
     "name": "stdout",
     "output_type": "stream",
     "text": [
      "\n",
      "a.out:     file format elf64-littleaarch64\n",
      "\n",
      "Sections:\n",
      "Idx Name          Size      VMA               LMA               File off  Algn\n"
     ]
    }
   ],
   "source": [
    "! objdump -h a.out"
   ]
  },
  {
   "cell_type": "code",
   "execution_count": 116,
   "id": "ceeb41fd-e5c5-43ef-82c9-c71472b3b654",
   "metadata": {},
   "outputs": [
    {
     "name": "stdout",
     "output_type": "stream",
     "text": [
      "\n",
      "a.out:     file format elf64-littleaarch64\n",
      "\n"
     ]
    }
   ],
   "source": [
    "! objdump -s a.out"
   ]
  },
  {
   "cell_type": "code",
   "execution_count": 117,
   "id": "924cce10-9524-482c-9ab2-9abfae9376ed",
   "metadata": {},
   "outputs": [
    {
     "name": "stdout",
     "output_type": "stream",
     "text": [
      "00000000  7f 45 4c 46 02 01 01 00  00 00 00 00 00 00 00 00  |.ELF............|\n",
      "00000010  02 00 b7 00 01 00 00 00  f4 00 20 00 00 00 00 00  |.......... .....|\n",
      "00000020  40 00 00 00 00 00 00 00  00 00 00 00 00 00 00 00  |@...............|\n",
      "00000030  00 00 00 00 40 00 38 00  03 00 00 00 00 00 00 00  |....@.8.........|\n",
      "00000040  06 00 00 00 04 00 00 00  40 00 00 00 00 00 00 00  |........@.......|\n",
      "00000050  40 00 20 00 00 00 00 00  40 00 20 00 00 00 00 00  |@. .....@. .....|\n",
      "00000060  a8 00 00 00 00 00 00 00  a8 00 00 00 00 00 00 00  |................|\n",
      "00000070  08 00 00 00 00 00 00 00  01 00 00 00 05 00 00 00  |................|\n",
      "00000080  00 00 00 00 00 00 00 00  00 00 20 00 00 00 00 00  |.......... .....|\n",
      "00000090  00 00 20 00 00 00 00 00  fc 00 00 00 00 00 00 00  |.. .............|\n",
      "000000a0  fc 00 00 00 00 00 00 00  00 40 00 00 00 00 00 00  |.........@......|\n",
      "000000b0  51 e5 74 64 06 00 00 00  00 00 00 00 00 00 00 00  |Q.td............|\n",
      "000000c0  00 00 00 00 00 00 00 00  00 00 00 00 00 00 00 00  |................|\n",
      "*\n",
      "000000e0  00 00 00 00 00 00 00 00  a8 0b 80 52 40 05 80 d2  |...........R@...|\n",
      "000000f0  01 00 00 d4 40 05 80 52  fc ff ff 17              |....@..R....|\n",
      "000000fc\n"
     ]
    }
   ],
   "source": [
    "! hexdump -C a.out"
   ]
  },
  {
   "cell_type": "markdown",
   "id": "59954f1f-b33a-4500-8c65-56481d2683c4",
   "metadata": {},
   "source": [
    "---"
   ]
  },
  {
   "cell_type": "markdown",
   "id": "4d0c4952-cce6-49f7-b8b4-e6aceaff29fa",
   "metadata": {},
   "source": [
    "## Hello World"
   ]
  },
  {
   "cell_type": "code",
   "execution_count": 118,
   "id": "349015f9-3cd0-47a7-a15d-792a26a9e7e8",
   "metadata": {},
   "outputs": [
    {
     "name": "stdout",
     "output_type": "stream",
     "text": [
      "Writing tiny3.c\n"
     ]
    }
   ],
   "source": [
    "%%writefile tiny3.c\n",
    "#include <stdio.h>\n",
    "\n",
    "int main(void) {\n",
    "    puts(\"Hello World!\\n\");\n",
    "}"
   ]
  },
  {
   "cell_type": "code",
   "execution_count": 119,
   "id": "382f2088-ac7d-4c86-83a4-69f54cd4428a",
   "metadata": {},
   "outputs": [],
   "source": [
    "! clang -Wall tiny3.c"
   ]
  },
  {
   "cell_type": "code",
   "execution_count": 120,
   "id": "e0e23754-4523-437d-b40e-1de5ec0e5c41",
   "metadata": {},
   "outputs": [
    {
     "name": "stdout",
     "output_type": "stream",
     "text": [
      "Hello World!\n",
      "\n"
     ]
    }
   ],
   "source": [
    "! ./a.out"
   ]
  },
  {
   "cell_type": "code",
   "execution_count": 121,
   "id": "e030f9e5-7497-48b7-80e2-f51c2e1b7140",
   "metadata": {},
   "outputs": [
    {
     "name": "stdout",
     "output_type": "stream",
     "text": [
      "-rwx------. 1 u0_a124 u0_a124 5.7K Jun  7 14:52 \u001b[0m\u001b[01;32ma.out\u001b[0m\n"
     ]
    }
   ],
   "source": [
    "! ls -lh a.out"
   ]
  },
  {
   "cell_type": "markdown",
   "id": "74e740d7-7924-4b03-b89a-13034193a155",
   "metadata": {},
   "source": [
    "---"
   ]
  },
  {
   "cell_type": "code",
   "execution_count": 123,
   "id": "9cbcc057-ba36-4eec-a669-4ae36cf953da",
   "metadata": {},
   "outputs": [
    {
     "name": "stdout",
     "output_type": "stream",
     "text": [
      "Overwriting tiny4.c\n"
     ]
    }
   ],
   "source": [
    "%%writefile tiny4.c\n",
    "#include <stdio.h>\n",
    "\n",
    "void _start(void) {\n",
    "    puts(\"Hello World!\\n\");\n",
    "}"
   ]
  },
  {
   "cell_type": "code",
   "execution_count": 154,
   "id": "426740ad-49fd-43a2-a0e0-31846748904b",
   "metadata": {},
   "outputs": [],
   "source": [
    "%%bash\n",
    "clang tiny4.c \\\n",
    "    -Wall -Oz -s -nostartfiles -fno-exceptions \\\n",
    "    -fno-ident -fno-asynchronous-unwind-tables  \\\n",
    "    -ffunction-sections -fdata-sections -Wl,--gc-sections,--strip-all \\\n",
    "    -Wl,--gc-sections,--strip-all,--build-id=none"
   ]
  },
  {
   "cell_type": "code",
   "execution_count": 155,
   "id": "9c42fa53-4c1b-4969-869a-2277ab242331",
   "metadata": {},
   "outputs": [
    {
     "name": "stdout",
     "output_type": "stream",
     "text": [
      "Hello World!\n",
      "\n"
     ]
    }
   ],
   "source": [
    "! ./a.out"
   ]
  },
  {
   "cell_type": "code",
   "execution_count": 156,
   "id": "df72963e-20c7-4cb8-80ef-4883f5325706",
   "metadata": {},
   "outputs": [
    {
     "name": "stdout",
     "output_type": "stream",
     "text": [
      "2296 a.out\n"
     ]
    }
   ],
   "source": [
    "! wc -c a.out"
   ]
  },
  {
   "cell_type": "code",
   "execution_count": 157,
   "id": "57bf2bcd-de11-4336-a123-b9534c3e8bb9",
   "metadata": {},
   "outputs": [],
   "source": [
    "! strip --strip-all --strip-section-headers a.out"
   ]
  },
  {
   "cell_type": "code",
   "execution_count": 158,
   "id": "b7592beb-0861-43da-873e-b5d5da95c04c",
   "metadata": {},
   "outputs": [
    {
     "name": "stdout",
     "output_type": "stream",
     "text": [
      "Hello World!\n",
      "\n"
     ]
    }
   ],
   "source": [
    "! ./a.out"
   ]
  },
  {
   "cell_type": "code",
   "execution_count": 159,
   "id": "7a2bc681-b80c-46f8-996c-4ce1228a76da",
   "metadata": {},
   "outputs": [
    {
     "name": "stdout",
     "output_type": "stream",
     "text": [
      "1104 a.out\n"
     ]
    }
   ],
   "source": [
    "! wc -c a.out"
   ]
  },
  {
   "cell_type": "code",
   "execution_count": 162,
   "id": "64a4bc20-1088-46cf-b33f-01f0c265711c",
   "metadata": {},
   "outputs": [
    {
     "name": "stdout",
     "output_type": "stream",
     "text": [
      "\n",
      "a.out:     file format elf64-littleaarch64\n",
      "\n",
      "Sections:\n",
      "Idx Name          Size      VMA               LMA               File off  Algn\n"
     ]
    }
   ],
   "source": [
    "! objdump -h a.out"
   ]
  },
  {
   "cell_type": "code",
   "execution_count": 160,
   "id": "0fdbb384-20ec-4e1f-8420-1585975357b6",
   "metadata": {
    "scrolled": true,
    "tags": []
   },
   "outputs": [
    {
     "name": "stdout",
     "output_type": "stream",
     "text": [
      "\n",
      "a.out:     file format elf64-littleaarch64\n",
      "\n"
     ]
    }
   ],
   "source": [
    "! objdump -Dz a.out"
   ]
  },
  {
   "cell_type": "code",
   "execution_count": 163,
   "id": "ca0f3a32-b0a7-40f0-93a9-f7287b846a65",
   "metadata": {
    "scrolled": true
   },
   "outputs": [
    {
     "name": "stdout",
     "output_type": "stream",
     "text": [
      "00000000  7f 45 4c 46 02 01 01 00  00 00 00 00 00 00 00 00  |.ELF............|\n",
      "00000010  03 00 b7 00 01 00 00 00  c0 02 00 00 00 00 00 00  |................|\n",
      "00000020  40 00 00 00 00 00 00 00  00 00 00 00 00 00 00 00  |@...............|\n",
      "00000030  00 00 00 00 40 00 38 00  07 00 00 00 00 00 00 00  |....@.8.........|\n",
      "00000040  06 00 00 00 04 00 00 00  40 00 00 00 00 00 00 00  |........@.......|\n",
      "00000050  40 00 00 00 00 00 00 00  40 00 00 00 00 00 00 00  |@.......@.......|\n",
      "00000060  88 01 00 00 00 00 00 00  88 01 00 00 00 00 00 00  |................|\n",
      "00000070  08 00 00 00 00 00 00 00  03 00 00 00 04 00 00 00  |................|\n",
      "00000080  c8 01 00 00 00 00 00 00  c8 01 00 00 00 00 00 00  |................|\n",
      "00000090  c8 01 00 00 00 00 00 00  15 00 00 00 00 00 00 00  |................|\n",
      "000000a0  15 00 00 00 00 00 00 00  01 00 00 00 00 00 00 00  |................|\n",
      "000000b0  01 00 00 00 05 00 00 00  00 00 00 00 00 00 00 00  |................|\n",
      "000000c0  00 00 00 00 00 00 00 00  00 00 00 00 00 00 00 00  |................|\n",
      "000000d0  00 03 00 00 00 00 00 00  00 03 00 00 00 00 00 00  |................|\n",
      "000000e0  00 40 00 00 00 00 00 00  01 00 00 00 06 00 00 00  |.@..............|\n",
      "000000f0  00 03 00 00 00 00 00 00  00 43 00 00 00 00 00 00  |.........C......|\n",
      "00000100  00 43 00 00 00 00 00 00  50 01 00 00 00 00 00 00  |.C......P.......|\n",
      "00000110  00 0d 00 00 00 00 00 00  00 40 00 00 00 00 00 00  |.........@......|\n",
      "00000120  02 00 00 00 06 00 00 00  00 03 00 00 00 00 00 00  |................|\n",
      "00000130  00 43 00 00 00 00 00 00  00 43 00 00 00 00 00 00  |.C.......C......|\n",
      "00000140  30 01 00 00 00 00 00 00  30 01 00 00 00 00 00 00  |0.......0.......|\n",
      "00000150  08 00 00 00 00 00 00 00  52 e5 74 64 04 00 00 00  |........R.td....|\n",
      "00000160  00 03 00 00 00 00 00 00  00 43 00 00 00 00 00 00  |.........C......|\n",
      "00000170  00 43 00 00 00 00 00 00  50 01 00 00 00 00 00 00  |.C......P.......|\n",
      "00000180  00 0d 00 00 00 00 00 00  01 00 00 00 00 00 00 00  |................|\n",
      "00000190  51 e5 74 64 06 00 00 00  00 00 00 00 00 00 00 00  |Q.td............|\n",
      "000001a0  00 00 00 00 00 00 00 00  00 00 00 00 00 00 00 00  |................|\n",
      "*\n",
      "000001c0  00 00 00 00 00 00 00 00  2f 73 79 73 74 65 6d 2f  |......../system/|\n",
      "000001d0  62 69 6e 2f 6c 69 6e 6b  65 72 36 34 00 00 00 00  |bin/linker64....|\n",
      "000001e0  00 00 00 00 00 00 00 00  00 00 00 00 00 00 00 00  |................|\n",
      "000001f0  00 00 00 00 00 00 00 00  01 00 00 00 12 00 00 00  |................|\n",
      "00000200  00 00 00 00 00 00 00 00  00 00 00 00 00 00 00 00  |................|\n",
      "00000210  00 00 02 00 01 00 01 00  06 00 00 00 10 00 00 00  |................|\n",
      "00000220  00 00 00 00 63 0d 05 00  00 00 02 00 0e 00 00 00  |....c...........|\n",
      "00000230  00 00 00 00 00 00 00 00  01 00 00 00 02 00 00 00  |................|\n",
      "00000240  01 00 00 00 1a 00 00 00  00 00 00 00 00 00 00 00  |................|\n",
      "00000250  00 00 00 00 00 70 75 74  73 00 6c 69 62 63 2e 73  |.....puts.libc.s|\n",
      "00000260  6f 00 4c 49 42 43 00 2f  64 61 74 61 2f 64 61 74  |o.LIBC./data/dat|\n",
      "00000270  61 2f 63 6f 6d 2e 74 65  72 6d 75 78 2f 66 69 6c  |a/com.termux/fil|\n",
      "00000280  65 73 2f 75 73 72 2f 6c  69 62 00 6c 69 62 64 6c  |es/usr/lib.libdl|\n",
      "00000290  2e 73 6f 00 00 00 00 00  48 44 00 00 00 00 00 00  |.so.....HD......|\n",
      "000002a0  02 04 00 00 01 00 00 00  00 00 00 00 00 00 00 00  |................|\n",
      "000002b0  48 65 6c 6c 6f 20 57 6f  72 6c 64 21 0a 00 00 00  |Hello World!....|\n",
      "000002c0  1f 20 03 d5 60 ff ff 10  0a 00 00 14 00 00 00 00  |. ..`...........|\n",
      "000002d0  f0 7b bf a9 30 00 00 90  11 22 42 f9 10 02 11 91  |.{..0....\"B.....|\n",
      "000002e0  20 02 1f d6 1f 20 03 d5  1f 20 03 d5 1f 20 03 d5  | .... ... ... ..|\n",
      "000002f0  30 00 00 90 11 26 42 f9  10 22 11 91 20 02 1f d6  |0....&B..\".. ...|\n",
      "00000300  1d 00 00 00 00 00 00 00  13 00 00 00 00 00 00 00  |................|\n",
      "00000310  01 00 00 00 00 00 00 00  37 00 00 00 00 00 00 00  |........7.......|\n",
      "00000320  01 00 00 00 00 00 00 00  06 00 00 00 00 00 00 00  |................|\n",
      "00000330  1e 00 00 00 00 00 00 00  08 00 00 00 00 00 00 00  |................|\n",
      "00000340  fb ff ff 6f 00 00 00 00  01 00 00 08 00 00 00 00  |...o............|\n",
      "00000350  15 00 00 00 00 00 00 00  00 00 00 00 00 00 00 00  |................|\n",
      "00000360  17 00 00 00 00 00 00 00  98 02 00 00 00 00 00 00  |................|\n",
      "00000370  02 00 00 00 00 00 00 00  18 00 00 00 00 00 00 00  |................|\n",
      "00000380  03 00 00 00 00 00 00 00  30 44 00 00 00 00 00 00  |........0D......|\n",
      "00000390  14 00 00 00 00 00 00 00  07 00 00 00 00 00 00 00  |................|\n",
      "000003a0  06 00 00 00 00 00 00 00  e0 01 00 00 00 00 00 00  |................|\n",
      "000003b0  0b 00 00 00 00 00 00 00  18 00 00 00 00 00 00 00  |................|\n",
      "000003c0  05 00 00 00 00 00 00 00  54 02 00 00 00 00 00 00  |........T.......|\n",
      "000003d0  0a 00 00 00 00 00 00 00  40 00 00 00 00 00 00 00  |........@.......|\n",
      "000003e0  f5 fe ff 6f 00 00 00 00  38 02 00 00 00 00 00 00  |...o....8.......|\n",
      "000003f0  f0 ff ff 6f 00 00 00 00  10 02 00 00 00 00 00 00  |...o............|\n",
      "00000400  fe ff ff 6f 00 00 00 00  14 02 00 00 00 00 00 00  |...o............|\n",
      "00000410  ff ff ff 6f 00 00 00 00  01 00 00 00 00 00 00 00  |...o............|\n",
      "00000420  00 00 00 00 00 00 00 00  00 00 00 00 00 00 00 00  |................|\n",
      "*\n",
      "00000440  00 00 00 00 00 00 00 00  d0 02 00 00 00 00 00 00  |................|\n",
      "00000450\n"
     ]
    }
   ],
   "source": [
    "! hexdump -C a.out"
   ]
  },
  {
   "cell_type": "markdown",
   "id": "d8b65e5e-63b8-453d-b15c-911c78d8067f",
   "metadata": {},
   "source": [
    "---"
   ]
  },
  {
   "cell_type": "code",
   "execution_count": 171,
   "id": "d3937fcd-1cbc-4b30-8792-69fe2a4e733f",
   "metadata": {},
   "outputs": [
    {
     "name": "stdout",
     "output_type": "stream",
     "text": [
      "Overwriting tiny5.c\n"
     ]
    }
   ],
   "source": [
    "%%writefile tiny5.c\n",
    "#include <stdio.h>\n",
    "#include <unistd.h>\n",
    "#include <string.h>\n",
    "\n",
    "void _start(void) {\n",
    "    char *s=\"Hello World!\\n\";\n",
    "    write(1,s,strlen(s));\n",
    "}"
   ]
  },
  {
   "cell_type": "code",
   "execution_count": 172,
   "id": "190a6028-c158-4fcd-8925-9367d5472732",
   "metadata": {},
   "outputs": [],
   "source": [
    "%%bash\n",
    "clang tiny5.c \\\n",
    "    -Oz -s -nostartfiles \\\n",
    "    -fno-ident -fno-asynchronous-unwind-tables  \\\n",
    "    -ffunction-sections -fdata-sections -Wl,--gc-sections,--strip-all"
   ]
  },
  {
   "cell_type": "code",
   "execution_count": 173,
   "id": "7307c7ba-17ea-455c-a953-90f54b8b0f72",
   "metadata": {},
   "outputs": [
    {
     "name": "stdout",
     "output_type": "stream",
     "text": [
      "Hello World!\n"
     ]
    }
   ],
   "source": [
    "! ./a.out"
   ]
  },
  {
   "cell_type": "code",
   "execution_count": 174,
   "id": "30dafbbb-89cc-41ad-8943-309b42149e42",
   "metadata": {},
   "outputs": [
    {
     "name": "stdout",
     "output_type": "stream",
     "text": [
      "2312 a.out\n"
     ]
    }
   ],
   "source": [
    "! wc -c a.out"
   ]
  },
  {
   "cell_type": "code",
   "execution_count": 175,
   "id": "526c9361-e867-4b8f-aaec-7d4d194054da",
   "metadata": {},
   "outputs": [],
   "source": [
    "! strip --strip-all --strip-section-headers a.out"
   ]
  },
  {
   "cell_type": "code",
   "execution_count": 176,
   "id": "5535ab9f-d6d3-4b14-b96d-70439521f119",
   "metadata": {},
   "outputs": [
    {
     "name": "stdout",
     "output_type": "stream",
     "text": [
      "Hello World!\n"
     ]
    }
   ],
   "source": [
    "! ./a.out"
   ]
  },
  {
   "cell_type": "code",
   "execution_count": 177,
   "id": "7e89fa81-c830-42c5-998e-dbc9207761b4",
   "metadata": {},
   "outputs": [
    {
     "name": "stdout",
     "output_type": "stream",
     "text": [
      "1120 a.out\n"
     ]
    }
   ],
   "source": [
    "! wc -c a.out"
   ]
  }
 ],
 "metadata": {
  "kernelspec": {
   "display_name": "Python 3 (ipykernel)",
   "language": "python",
   "name": "python3"
  },
  "language_info": {
   "codemirror_mode": {
    "name": "ipython",
    "version": 3
   },
   "file_extension": ".py",
   "mimetype": "text/x-python",
   "name": "python",
   "nbconvert_exporter": "python",
   "pygments_lexer": "ipython3",
   "version": "3.12.10"
  }
 },
 "nbformat": 4,
 "nbformat_minor": 5
}
