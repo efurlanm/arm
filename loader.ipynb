{
 "cells": [
  {
   "cell_type": "markdown",
   "id": "4f8f1ea9-a29f-4aa4-b31d-afc4f59f4853",
   "metadata": {},
   "source": [
    "# Loader ARM64\n",
    "\n",
    "Last edited: 2025-06-14\n",
    "\n",
    "Environment: Termux, SSH server, proot-distro Ubuntu 22.04 AArch64, GNU tools, and JupyterLab server."
   ]
  },
  {
   "cell_type": "markdown",
   "id": "8615bc38-7ae1-40d7-8e26-7294493d0a58",
   "metadata": {},
   "source": [
    "For this work, the idea is to write a generic loader for pure binary files (without the ELF overhead), which will be used in this and other projects as well."
   ]
  },
  {
   "cell_type": "code",
   "execution_count": 1,
   "id": "f468d01c-4d35-4852-b87e-bba39c0dbc94",
   "metadata": {},
   "outputs": [
    {
     "name": "stdout",
     "output_type": "stream",
     "text": [
      "Overwriting load.c\n"
     ]
    }
   ],
   "source": [
    "%%writefile load.c\n",
    "#include <stdio.h>\n",
    "#include <stdlib.h>\n",
    "#include <sys/mman.h>   // For mmap and munmap\n",
    "#include <sys/stat.h>   // For stat and fstat\n",
    "#include <fcntl.h>      // For open\n",
    "#include <unistd.h>     // For read, close\n",
    "\n",
    "// Define the fixed allocation size\n",
    "#define ALLOC_SIZE 4096\n",
    "\n",
    "int main(int argc, char *argv[]) {\n",
    "    void *exec_mem;\n",
    "    int fd;\n",
    "    struct stat st;\n",
    "    size_t bytes_to_read;\n",
    "\n",
    "    // Check for correct usage\n",
    "    if (argc != 2) {\n",
    "        fprintf(stderr, \"Usage: %s <path_to_raw_binary>\\n\", argv[0]);\n",
    "        return 1;\n",
    "    }\n",
    "\n",
    "    const char *bin_path = argv[1];\n",
    "\n",
    "    // Open the raw binary file\n",
    "    fd = open(bin_path, O_RDONLY);\n",
    "    if (fd == -1) {\n",
    "        perror(\"Error opening binary file\");\n",
    "        return 1;\n",
    "    }\n",
    "\n",
    "    // Get file size to determine how many bytes to read (up to ALLOC_SIZE)\n",
    "    if (fstat(fd, &st) == -1) {\n",
    "        perror(\"Error getting file information\");\n",
    "        close(fd);\n",
    "        return 1;\n",
    "    }\n",
    "\n",
    "    // Determine how many bytes to read: min(file_size, ALLOC_SIZE)\n",
    "    bytes_to_read = (st.st_size < ALLOC_SIZE) ? st.st_size : ALLOC_SIZE;\n",
    "\n",
    "    if (bytes_to_read == 0) {\n",
    "        fprintf(stderr, \"Error: Binary file is empty or too small.\\n\");\n",
    "        close(fd);\n",
    "        return 1;\n",
    "    }\n",
    "\n",
    "    // Allocate memory with read, write, and execute permissions\n",
    "    // PROT_READ  : Allows reading\n",
    "    // PROT_WRITE : Allows writing (crucial for self-modifying code)\n",
    "    // PROT_EXEC  : Allows execution\n",
    "    // MAP_PRIVATE|MAP_ANONYMOUS: Private, anonymous memory mapping\n",
    "    exec_mem = mmap(NULL, ALLOC_SIZE, PROT_READ | PROT_WRITE | PROT_EXEC,\n",
    "                    MAP_PRIVATE | MAP_ANONYMOUS, -1, 0);\n",
    "\n",
    "    if (exec_mem == MAP_FAILED) {\n",
    "        perror(\"Error allocating executable memory with mmap\");\n",
    "        close(fd);\n",
    "        return 1;\n",
    "    }\n",
    "\n",
    "    // Read the file content into the allocated memory\n",
    "    ssize_t bytes_read_actual = read(fd, exec_mem, bytes_to_read);\n",
    "    if (bytes_read_actual == -1) {\n",
    "        perror(\"Error reading binary file into memory\");\n",
    "        munmap(exec_mem, ALLOC_SIZE);\n",
    "        close(fd);\n",
    "        return 1;\n",
    "    }\n",
    "    if ((size_t)bytes_read_actual != bytes_to_read) {\n",
    "        fprintf(stderr, \"Warning: Could not read all expected bytes (%zu of %zu).\\n\",\n",
    "                bytes_read_actual, bytes_to_read);\n",
    "    }\n",
    "\n",
    "    close(fd); // Close the file descriptor, content is in memory\n",
    "\n",
    "    // Cast the executable memory to a function pointer and jump to it.\n",
    "    // Execution of the binary starts from its very first byte loaded into memory.\n",
    "    void (*binary_func)() = (void(*)())exec_mem;\n",
    "    binary_func();\n",
    "\n",
    "    // This line will only be reached if the loaded binary doesn't exit the process.\n",
    "    // Clean up allocated memory if control returns here.\n",
    "    munmap(exec_mem, ALLOC_SIZE);\n",
    "\n",
    "    return 0; // If the binary doesn't call _exit\n",
    "}"
   ]
  },
  {
   "cell_type": "code",
   "execution_count": 2,
   "id": "498a54e8-c666-4ac5-b4ce-22a30df5b17d",
   "metadata": {},
   "outputs": [],
   "source": [
    "%%bash\n",
    "gcc -Wl,-z,norelro -o load  load.c\n",
    "strip --strip-section-headers  load"
   ]
  },
  {
   "cell_type": "code",
   "execution_count": 3,
   "id": "9651e666-60bf-4b7f-80be-9a322ee2b7aa",
   "metadata": {},
   "outputs": [],
   "source": [
    "! gcc -g -o load load.c"
   ]
  },
  {
   "cell_type": "code",
   "execution_count": 4,
   "id": "146ea4b9-3961-4824-9bab-e991831cf80d",
   "metadata": {},
   "outputs": [],
   "source": [
    "! mv load /usr/local/bin/"
   ]
  },
  {
   "cell_type": "markdown",
   "id": "606ed230-97e3-4d65-b05f-fb60d91b99de",
   "metadata": {},
   "source": [
    "We'll place our custom loader in /usr/local/bin/ with other local executables. This loader will then execute generic machine code binaries."
   ]
  },
  {
   "cell_type": "markdown",
   "id": "75e466f4-8863-4636-a0e2-4f6da1ed2c5e",
   "metadata": {},
   "source": [
    "Below is our first code to test the loader:"
   ]
  },
  {
   "cell_type": "code",
   "execution_count": 5,
   "id": "c9bcb156-4925-4367-9d13-c255a58b5f1c",
   "metadata": {},
   "outputs": [
    {
     "name": "stdout",
     "output_type": "stream",
     "text": [
      "Writing tiny.s\n"
     ]
    }
   ],
   "source": [
    "%%writefile tiny.s\n",
    "    .arch armv8-a\n",
    "    .section .text\n",
    "    .globl _start\n",
    "    .type _start, %function\n",
    "\n",
    "_start:\n",
    "    mov     x8, #93      // Syscall number for _exit (93)\n",
    "    mov     x0, #42      // Exit code argument\n",
    "    svc     #0           // Perform syscall"
   ]
  },
  {
   "cell_type": "code",
   "execution_count": 6,
   "id": "085758aa-8f8a-4fac-8c89-e199808c3d38",
   "metadata": {},
   "outputs": [],
   "source": [
    "! as tiny.s -o tiny.o"
   ]
  },
  {
   "cell_type": "code",
   "execution_count": 7,
   "id": "35d224ad-db28-4289-85ba-f4042620bc09",
   "metadata": {},
   "outputs": [],
   "source": [
    "! objcopy -O binary -j .text tiny.o tiny.bin"
   ]
  },
  {
   "cell_type": "code",
   "execution_count": 8,
   "id": "378c18b1-7da0-4d68-9b2f-82fd0927f8c7",
   "metadata": {},
   "outputs": [
    {
     "name": "stdout",
     "output_type": "stream",
     "text": [
      "42\n"
     ]
    }
   ],
   "source": [
    "! load tiny.bin ; echo $?"
   ]
  },
  {
   "cell_type": "code",
   "execution_count": 9,
   "id": "bf28824c-1dbf-4efd-9f4e-fe9943e4010d",
   "metadata": {},
   "outputs": [
    {
     "name": "stdout",
     "output_type": "stream",
     "text": [
      "12 tiny.bin\n"
     ]
    }
   ],
   "source": [
    "! wc -c tiny.bin"
   ]
  },
  {
   "cell_type": "markdown",
   "id": "e4b28e58-0f6c-4ab1-ab60-05ab0327d4cf",
   "metadata": {},
   "source": [
    "The file is only 12 bytes long and contains only the executable code, without the ELF overhead."
   ]
  },
  {
   "cell_type": "code",
   "execution_count": 37,
   "id": "09b912c8-842b-4499-a74c-8161e4c94408",
   "metadata": {},
   "outputs": [
    {
     "name": "stdout",
     "output_type": "stream",
     "text": [
      "00000000  a8 0b 80 d2 40 05 80 d2  01 00 00 d4              |....@.......|\n",
      "0000000c\n"
     ]
    }
   ],
   "source": [
    "! hexdump -C tiny.bin"
   ]
  },
  {
   "cell_type": "code",
   "execution_count": 38,
   "id": "92f59826-8fb1-4343-9c0b-a74bc713d08d",
   "metadata": {},
   "outputs": [
    {
     "name": "stdout",
     "output_type": "stream",
     "text": [
      "\n",
      "tiny.o:     file format elf64-littleaarch64\n",
      "\n",
      "\n",
      "Disassembly of section .text:\n",
      "\n",
      "0000000000000000 <_start>:\n",
      "   0:\td2800ba8 \tmov\tx8, #0x5d                  \t// #93\n",
      "   4:\td2800540 \tmov\tx0, #0x2a                  \t// #42\n",
      "   8:\td4000001 \tsvc\t#0x0\n"
     ]
    }
   ],
   "source": [
    "! objdump -d tiny.o"
   ]
  },
  {
   "cell_type": "code",
   "execution_count": null,
   "id": "4169b62c-13da-4805-a792-702bb1c4207d",
   "metadata": {},
   "outputs": [],
   "source": []
  }
 ],
 "metadata": {
  "kernelspec": {
   "display_name": "Python 3 (ipykernel)",
   "language": "python",
   "name": "python3"
  },
  "language_info": {
   "codemirror_mode": {
    "name": "ipython",
    "version": 3
   },
   "file_extension": ".py",
   "mimetype": "text/x-python",
   "name": "python",
   "nbconvert_exporter": "python",
   "pygments_lexer": "ipython3",
   "version": "3.12.10"
  }
 },
 "nbformat": 4,
 "nbformat_minor": 5
}
