{
 "cells": [
  {
   "cell_type": "markdown",
   "id": "75f49b42-15d2-4e1e-8902-c4716add8805",
   "metadata": {},
   "source": [
    "# Small ELF ASM\n",
    "\n",
    "2025-06-07\n",
    "\n",
    "Based on: <https://stackoverflow.com/questions/53382589/smallest-executable-program-x86-64-linux>"
   ]
  },
  {
   "cell_type": "code",
   "execution_count": 77,
   "id": "cb3081cc-9774-4f64-9bc9-430c4f4a42b5",
   "metadata": {},
   "outputs": [
    {
     "name": "stdout",
     "output_type": "stream",
     "text": [
      "GNU assembler (GNU Binutils) 2.44\n",
      "Copyright (C) 2025 Free Software Foundation, Inc.\n",
      "This program is free software; you may redistribute it under the terms of\n",
      "the GNU General Public License version 3 or later.\n",
      "This program has absolutely no warranty.\n",
      "This assembler was configured for a target of `aarch64-linux-android'.\n"
     ]
    }
   ],
   "source": [
    "! as --version"
   ]
  },
  {
   "cell_type": "code",
   "execution_count": 75,
   "id": "957e8f99-721b-426a-a7e7-1c929094f7e9",
   "metadata": {},
   "outputs": [
    {
     "name": "stdout",
     "output_type": "stream",
     "text": [
      "GNU ld (GNU Binutils) 2.44\n",
      "Copyright (C) 2025 Free Software Foundation, Inc.\n",
      "This program is free software; you may redistribute it under the terms of\n",
      "the GNU General Public License version 3 or (at your option) a later version.\n",
      "This program has absolutely no warranty.\n"
     ]
    }
   ],
   "source": [
    "! ld --version"
   ]
  },
  {
   "cell_type": "code",
   "execution_count": 99,
   "id": "7c7841cc-f990-49a4-b916-46143586ea4f",
   "metadata": {},
   "outputs": [
    {
     "name": "stdout",
     "output_type": "stream",
     "text": [
      "clang version 20.1.6\n",
      "Target: aarch64-unknown-linux-android24\n",
      "Thread model: posix\n",
      "InstalledDir: /data/data/com.termux/files/usr/bin\n"
     ]
    }
   ],
   "source": [
    "! clang --version"
   ]
  },
  {
   "cell_type": "code",
   "execution_count": 101,
   "id": "af55f87d-ea14-451e-8e01-5c55fb8f0e32",
   "metadata": {},
   "outputs": [
    {
     "name": "stdout",
     "output_type": "stream",
     "text": [
      "Overwriting tiny.s\n"
     ]
    }
   ],
   "source": [
    "%%writefile tiny.s\n",
    "    .arch armv8-a\n",
    "    .section .text\n",
    "    .globl _start\n",
    "    .type _start, %function\n",
    "\n",
    "_start:\n",
    "    mov     x8, #93      // Syscall number for _exit (93)\n",
    "    mov     x0, #42      // Exit code argument\n",
    "    svc     #0           // Perform syscall"
   ]
  },
  {
   "cell_type": "code",
   "execution_count": 451,
   "id": "ddae91e2-fa84-445a-aa5d-0532aaaa75d5",
   "metadata": {},
   "outputs": [
    {
     "name": "stderr",
     "output_type": "stream",
     "text": [
      "ld.lld: warning: -z max-page-size set, but paging disabled by omagic or nmagic\n",
      "ld.lld: warning: -z common-page-size set, but paging disabled by omagic or nmagic\n"
     ]
    }
   ],
   "source": [
    "%%bash\n",
    "clang -Oz -static -nostdlib -nostartfiles -fno-exceptions \\\n",
    "  -Wl,--gc-sections,--strip-all,--build-id=none \\\n",
    "  -Wl,-z,notext,-z,norelro,-z,noseparate-code,--omagic,--nmagic \\\n",
    "  -Wl,-z,max-page-size=1,-z,common-page-size=1 \\\n",
    "  -Wl,--no-dynamic-linker \\\n",
    "  tiny.s -o tiny\n",
    "strip --strip-section-headers tiny"
   ]
  },
  {
   "cell_type": "code",
   "execution_count": 452,
   "id": "d4fec9cf-c463-43a2-b137-f74f28193485",
   "metadata": {},
   "outputs": [
    {
     "name": "stdout",
     "output_type": "stream",
     "text": [
      "188 tiny\n"
     ]
    }
   ],
   "source": [
    "! wc -c tiny"
   ]
  },
  {
   "cell_type": "code",
   "execution_count": 453,
   "id": "40abbf12-0a22-42a8-aefd-bd35588f0d84",
   "metadata": {},
   "outputs": [
    {
     "name": "stdout",
     "output_type": "stream",
     "text": [
      "42\n"
     ]
    }
   ],
   "source": [
    "! ./tiny; echo $?"
   ]
  },
  {
   "cell_type": "code",
   "execution_count": 454,
   "id": "c9d9a0cc-7c26-4884-82c5-a3ad653b8220",
   "metadata": {},
   "outputs": [
    {
     "name": "stdout",
     "output_type": "stream",
     "text": [
      "   text\t   data\t    bss\t    dec\t    hex\tfilename\n",
      "      0\t      0\t      0\t      0\t      0\ttiny\n"
     ]
    }
   ],
   "source": [
    "! size tiny"
   ]
  },
  {
   "cell_type": "code",
   "execution_count": 310,
   "id": "785c7525-15d6-462b-8f43-0af93b93dc61",
   "metadata": {},
   "outputs": [
    {
     "name": "stdout",
     "output_type": "stream",
     "text": [
      "\n",
      "tiny:     file format elf64-littleaarch64\n",
      "\n",
      "Sections:\n",
      "Idx Name          Size      VMA               LMA               File off  Algn\n"
     ]
    }
   ],
   "source": [
    "! objdump -h tiny"
   ]
  },
  {
   "cell_type": "code",
   "execution_count": 311,
   "id": "025d7c90-be30-445e-b8ea-a2f61fa9dbd0",
   "metadata": {},
   "outputs": [
    {
     "name": "stdout",
     "output_type": "stream",
     "text": [
      "\n",
      "tiny:     file format elf64-littleaarch64\n",
      "\n"
     ]
    }
   ],
   "source": [
    "! objdump -d tiny"
   ]
  },
  {
   "cell_type": "code",
   "execution_count": 312,
   "id": "bb9891a3-c07e-45b7-a8a3-773e95406b60",
   "metadata": {},
   "outputs": [
    {
     "name": "stdout",
     "output_type": "stream",
     "text": [
      "\n",
      "tiny:     file format elf64-littleaarch64\n",
      "\n"
     ]
    }
   ],
   "source": [
    "! objdump -s tiny"
   ]
  },
  {
   "cell_type": "code",
   "execution_count": 313,
   "id": "03f9165c-e5d1-4ac0-8c78-1918557d8b5d",
   "metadata": {},
   "outputs": [
    {
     "name": "stdout",
     "output_type": "stream",
     "text": [
      "00000000  7f 45 4c 46 02 01 01 00  00 00 00 00 00 00 00 00  |.ELF............|\n",
      "00000010  02 00 b7 00 01 00 00 00  b0 00 20 00 00 00 00 00  |.......... .....|\n",
      "00000020  40 00 00 00 00 00 00 00  00 00 00 00 00 00 00 00  |@...............|\n",
      "00000030  00 00 00 00 40 00 38 00  02 00 00 00 00 00 00 00  |....@.8.........|\n",
      "00000040  01 00 00 00 07 00 00 00  b0 00 00 00 00 00 00 00  |................|\n",
      "00000050  b0 00 20 00 00 00 00 00  b0 00 20 00 00 00 00 00  |.. ....... .....|\n",
      "00000060  0c 00 00 00 00 00 00 00  0c 00 00 00 00 00 00 00  |................|\n",
      "00000070  04 00 00 00 00 00 00 00  51 e5 74 64 06 00 00 00  |........Q.td....|\n",
      "00000080  00 00 00 00 00 00 00 00  00 00 00 00 00 00 00 00  |................|\n",
      "*\n",
      "000000b0  a8 0b 80 d2 40 05 80 d2  01 00 00 d4              |....@.......|\n",
      "000000bc\n"
     ]
    }
   ],
   "source": [
    "! hexdump -C tiny"
   ]
  },
  {
   "cell_type": "code",
   "execution_count": null,
   "id": "bf2795a0-a315-4298-ae1c-c51ee942691e",
   "metadata": {},
   "outputs": [],
   "source": []
  },
  {
   "cell_type": "markdown",
   "id": "2fa3448c-0a78-4dee-87b6-3a614b76d1e8",
   "metadata": {},
   "source": [
    "## Using as"
   ]
  },
  {
   "cell_type": "code",
   "execution_count": 166,
   "id": "35ce4dad-ec11-426c-ba68-3a7332ab151b",
   "metadata": {},
   "outputs": [],
   "source": [
    "%%bash\n",
    "as -o tiny.o tiny.s\n",
    "ld tiny.o -o tiny\n",
    "strip --strip-all --strip-section-headers tiny"
   ]
  },
  {
   "cell_type": "code",
   "execution_count": 167,
   "id": "06a908db-5a7d-4ff9-8b5d-aff4628249c0",
   "metadata": {},
   "outputs": [
    {
     "name": "stdout",
     "output_type": "stream",
     "text": [
      "132 tiny\n"
     ]
    }
   ],
   "source": [
    "! wc -c tiny"
   ]
  },
  {
   "cell_type": "code",
   "execution_count": 155,
   "id": "9b02f929-cd0e-4cff-bd77-94a5b7b0b15a",
   "metadata": {},
   "outputs": [
    {
     "name": "stdout",
     "output_type": "stream",
     "text": [
      "42\n"
     ]
    }
   ],
   "source": [
    "! ./tiny; echo $?"
   ]
  },
  {
   "cell_type": "code",
   "execution_count": 156,
   "id": "3719998a-6983-4a41-8ce4-9e2a30159018",
   "metadata": {},
   "outputs": [
    {
     "name": "stdout",
     "output_type": "stream",
     "text": [
      "   text\t   data\t    bss\t    dec\t    hex\tfilename\n",
      "      0\t      0\t      0\t      0\t      0\ttiny\n"
     ]
    }
   ],
   "source": [
    "! size tiny"
   ]
  },
  {
   "cell_type": "code",
   "execution_count": 157,
   "id": "ed24bae7-20d2-40a6-a456-6993c1db8040",
   "metadata": {},
   "outputs": [
    {
     "name": "stdout",
     "output_type": "stream",
     "text": [
      "\n",
      "tiny:     file format elf64-littleaarch64\n",
      "\n",
      "Sections:\n",
      "Idx Name          Size      VMA               LMA               File off  Algn\n"
     ]
    }
   ],
   "source": [
    "! objdump -h tiny"
   ]
  },
  {
   "cell_type": "code",
   "execution_count": 158,
   "id": "653dc92a-a43a-488b-be22-4a1b03df8a69",
   "metadata": {},
   "outputs": [
    {
     "name": "stdout",
     "output_type": "stream",
     "text": [
      "\n",
      "tiny:     file format elf64-littleaarch64\n",
      "\n"
     ]
    }
   ],
   "source": [
    "! objdump -d tiny"
   ]
  },
  {
   "cell_type": "code",
   "execution_count": 159,
   "id": "51778d04-80e7-4790-bf5a-ea5726c5e17f",
   "metadata": {},
   "outputs": [
    {
     "name": "stdout",
     "output_type": "stream",
     "text": [
      "\n",
      "tiny:     file format elf64-littleaarch64\n",
      "\n"
     ]
    }
   ],
   "source": [
    "! objdump -s tiny"
   ]
  },
  {
   "cell_type": "code",
   "execution_count": 160,
   "id": "147397ad-3cc5-42d5-8bfd-9484ebef312c",
   "metadata": {},
   "outputs": [
    {
     "name": "stdout",
     "output_type": "stream",
     "text": [
      "00000000  7f 45 4c 46 02 01 01 00  00 00 00 00 00 00 00 00  |.ELF............|\n",
      "00000010  02 00 b7 00 01 00 00 00  78 00 40 00 00 00 00 00  |........x.@.....|\n",
      "00000020  40 00 00 00 00 00 00 00  00 00 00 00 00 00 00 00  |@...............|\n",
      "00000030  00 00 00 00 40 00 38 00  01 00 00 00 00 00 00 00  |....@.8.........|\n",
      "00000040  01 00 00 00 05 00 00 00  78 00 00 00 00 00 00 00  |........x.......|\n",
      "00000050  78 00 40 00 00 00 00 00  78 00 40 00 00 00 00 00  |x.@.....x.@.....|\n",
      "00000060  0c 00 00 00 00 00 00 00  0c 00 00 00 00 00 00 00  |................|\n",
      "00000070  04 00 00 00 00 00 00 00  a8 0b 80 d2 40 05 80 d2  |............@...|\n",
      "00000080  01 00 00 d4                                       |....|\n",
      "00000084\n"
     ]
    }
   ],
   "source": [
    "! hexdump -C tiny"
   ]
  },
  {
   "cell_type": "markdown",
   "id": "cb2916c6-b546-47f0-abf1-7712445f67cc",
   "metadata": {},
   "source": [
    "A minimal ELF executable usually consists of:\n",
    "\n",
    "- ELF Header (Elf64_Ehdr): 64 bytes for AArch64. Contains essential metadata about the file (type, architecture, entry point, offsets to tables).\n",
    "- Program Header Table (Elf64_Phdr): Each entry describes a segment of the program to be loaded into memory. For a minimal executable, you usually need only one segment (PT_LOAD) for the code. An Elf64_Phdr entry is 56 bytes for AArch64.\n",
    "- Executable Code (.text): Your assembly instructions. In this case, mov x8, #93, mov x0, #42, svc #0 total 12 bytes.\n",
    "\n",
    "Therefore, the theoretical minimum size for a valid ELF executable with a single load segment is:\n",
    "\n",
    "64(ELF Header)+56(Program Header)+12(Your code)=132 bytes."
   ]
  },
  {
   "cell_type": "markdown",
   "id": "eeea21bf-9c59-4ad1-a714-b6210001c800",
   "metadata": {},
   "source": [
    "The difference between the **188-byte** and **132-byte** executables comes down to **extra ELF headers, alignment padding, and Clang's default linking behavior**. Here’s why:\n",
    "\n",
    "### **1. Extra ELF Metadata in the 188-Byte Executable**\n",
    "- When compiled with **Clang**, extra metadata is included, such as:\n",
    "  - **Build ID** (`--build-id=none` helps remove this, but Clang might still leave some traces).\n",
    "  - **Additional ELF headers** defining unnecessary sections.\n",
    "  - **Extra alignment padding** added by Clang’s linker.\n",
    "\n",
    "- Example of excess padding in the **188-byte hexdump**:\n",
    "  ```\n",
    "  00000080  00 00 00 00 00 00 00 00  00 00 00 00 00 00 00 00  |................|\n",
    "  *\n",
    "  ```\n",
    "  This section consists of **empty bytes**, adding unnecessary space.\n",
    "\n",
    "### **2. Leaner ELF Structure in the 132-Byte Executable**\n",
    "- When assembled using **`as` (GNU assembler) and linked with `ld`**, the binary becomes **more compact** because:\n",
    "  - It does not include **extra ELF headers** that Clang normally adds.\n",
    "  - Padding is minimized in ELF segments.\n",
    "  - **Direct linking with `ld` avoids Clang-specific metadata.**\n",
    "\n",
    "- Example of optimized hexdump in the **132-byte version**:\n",
    "  ```\n",
    "  00000070  04 00 00 00 00 00 00 00  a8 0b 80 d2 40 05 80 d2  |............@...|\n",
    "  00000080  01 00 00 d4                                       |....|\n",
    "  ```\n",
    "  The **code starts immediately**, without excess padding.\n",
    "\n",
    "### **Summary**\n",
    "- **188-byte executable (Clang):** Contains extra ELF headers, metadata, and padding.\n",
    "- **132-byte executable (`as` + `ld`):** Removes unnecessary ELF structures, reducing size."
   ]
  },
  {
   "cell_type": "markdown",
   "id": "5f1b2572-09c2-4ff8-8387-199c962e0f84",
   "metadata": {},
   "source": [
    "---"
   ]
  },
  {
   "cell_type": "code",
   "execution_count": 223,
   "id": "e0ddb3e3-0ed3-4356-9daf-964c5c3feb8c",
   "metadata": {},
   "outputs": [
    {
     "name": "stdout",
     "output_type": "stream",
     "text": [
      "Overwriting hello.s\n"
     ]
    }
   ],
   "source": [
    "%%writefile hello.s\n",
    ".arch armv8-a\n",
    "\n",
    ".section .data\n",
    ".global helloworld\n",
    ".global helloworld_len\n",
    "\n",
    "helloworld:\n",
    "    .ascii \"Hello, World!\\n\"\n",
    "    .balign 4   /* Garante que o próximo valor seja múltiplo de 4 */\n",
    "helloworld_len:\n",
    "    .long . - helloworld  /* Armazena explicitamente o tamanho */\n",
    "\n",
    ".section .text\n",
    ".global _start\n",
    ".type _start, %function\n",
    "\n",
    "_start:\n",
    "    /* syscall write(int fd, const void *buf, size_t count) */\n",
    "    mov     x0, #1               /* fd := STDOUT_FILENO */\n",
    "    adrp    x1, helloworld       /* buf := msg (usa adrp + add) */\n",
    "    add     x1, x1, :lo12:helloworld\n",
    "    ldr     w2, helloworld_len   /* count := len */\n",
    "    mov     w8, #64              /* write é syscall #64 */\n",
    "    svc     #0                   /* Executa a chamada do sistema */\n",
    "\n",
    "    /* syscall exit(int status) */\n",
    "    mov     x0, #0               /* status := 0 */\n",
    "    mov     w8, #93              /* exit é syscall #93 */\n",
    "    svc     #0                   /* Executa a chamada do sistema */"
   ]
  },
  {
   "cell_type": "markdown",
   "id": "cba68dce-069d-4d40-bdd8-179a5e0864b4",
   "metadata": {},
   "source": [
    "Only one section:"
   ]
  },
  {
   "cell_type": "code",
   "execution_count": 253,
   "id": "9406fb18-dbe0-4cfc-9a15-daf5d1ca6399",
   "metadata": {},
   "outputs": [
    {
     "name": "stdout",
     "output_type": "stream",
     "text": [
      "Overwriting hello.s\n"
     ]
    }
   ],
   "source": [
    "%%writefile hello.s\n",
    ".arch armv8-a\n",
    ".section .text\n",
    ".globl _start\n",
    ".type _start, %function\n",
    "\n",
    "_start:\n",
    "    /* write(1, msg, len) */\n",
    "    mov     x0, #1                // fd = stdout\n",
    "    adr     x1, msg               // carrega endereço da string\n",
    "    mov     x2, #13               // comprimento da string (sem \\n?)\n",
    "    mov     w8, #64               // syscall write\n",
    "    svc     #0\n",
    "\n",
    "    /* exit(0) */\n",
    "    mov     x0, #0                // status = 0\n",
    "    mov     w8, #93               // syscall exit\n",
    "    svc     #0\n",
    "\n",
    "msg:\n",
    "    .ascii \"Hello, World!\\n\""
   ]
  },
  {
   "cell_type": "code",
   "execution_count": 254,
   "id": "6b1348fb-bc72-40a4-a392-811e12b18702",
   "metadata": {},
   "outputs": [],
   "source": [
    "%%bash\n",
    "as -o hello.o hello.s\n",
    "ld -o hello.elf hello.o\n",
    "strip --strip-all --strip-section-headers hello.elf"
   ]
  },
  {
   "cell_type": "code",
   "execution_count": 255,
   "id": "4b57a062-42b0-4524-9b29-7025281a3a20",
   "metadata": {},
   "outputs": [
    {
     "name": "stdout",
     "output_type": "stream",
     "text": [
      "Hello, World!"
     ]
    }
   ],
   "source": [
    "! ./hello.elf"
   ]
  },
  {
   "cell_type": "code",
   "execution_count": 256,
   "id": "11be7623-3e27-4482-9c1f-d1985ad6afda",
   "metadata": {},
   "outputs": [
    {
     "name": "stdout",
     "output_type": "stream",
     "text": [
      "166 hello.elf\n"
     ]
    }
   ],
   "source": [
    "! wc -c hello.elf"
   ]
  },
  {
   "cell_type": "code",
   "execution_count": 257,
   "id": "48b33c0a-bc29-424c-8b2e-dd68c7bb9263",
   "metadata": {},
   "outputs": [
    {
     "name": "stdout",
     "output_type": "stream",
     "text": [
      "   text\t   data\t    bss\t    dec\t    hex\tfilename\n",
      "      0\t      0\t      0\t      0\t      0\thello.elf\n"
     ]
    }
   ],
   "source": [
    "! size hello.elf"
   ]
  },
  {
   "cell_type": "code",
   "execution_count": 258,
   "id": "a569cc38-b561-438b-956b-bae799b3ba74",
   "metadata": {},
   "outputs": [
    {
     "name": "stdout",
     "output_type": "stream",
     "text": [
      "\n",
      "hello.elf:     file format elf64-littleaarch64\n",
      "\n",
      "Sections:\n",
      "Idx Name          Size      VMA               LMA               File off  Algn\n"
     ]
    }
   ],
   "source": [
    "! objdump -h hello.elf"
   ]
  },
  {
   "cell_type": "code",
   "execution_count": 261,
   "id": "a25c09f1-c664-447e-b918-6f4f215ebce1",
   "metadata": {},
   "outputs": [
    {
     "name": "stdout",
     "output_type": "stream",
     "text": [
      "\n",
      "hello.elf:     file format elf64-littleaarch64\n",
      "\n"
     ]
    }
   ],
   "source": [
    "! objdump -s hello.elf"
   ]
  },
  {
   "cell_type": "code",
   "execution_count": 262,
   "id": "a870a77a-a5d5-4742-be89-e738b9176b01",
   "metadata": {},
   "outputs": [
    {
     "name": "stdout",
     "output_type": "stream",
     "text": [
      "\n",
      "hello.elf:     file format elf64-littleaarch64\n",
      "\n",
      "objdump: section '.text' mentioned in a -j option, but not found in any input file\n"
     ]
    }
   ],
   "source": [
    "! objdump -D -j .text hello.elf"
   ]
  },
  {
   "cell_type": "code",
   "execution_count": 263,
   "id": "d76c98bd-2a95-452e-ac98-21a1a2ed9460",
   "metadata": {},
   "outputs": [
    {
     "name": "stdout",
     "output_type": "stream",
     "text": [
      "\n",
      "hello.elf:     file format elf64-littleaarch64\n",
      "\n"
     ]
    }
   ],
   "source": [
    "! objdump -d hello.elf"
   ]
  },
  {
   "cell_type": "code",
   "execution_count": 264,
   "id": "5d49e0f4-d9a2-4668-9694-62eea27389fc",
   "metadata": {},
   "outputs": [
    {
     "name": "stdout",
     "output_type": "stream",
     "text": [
      "00000000  7f 45 4c 46 02 01 01 00  00 00 00 00 00 00 00 00  |.ELF............|\n",
      "00000010  02 00 b7 00 01 00 00 00  78 00 40 00 00 00 00 00  |........x.@.....|\n",
      "00000020  40 00 00 00 00 00 00 00  00 00 00 00 00 00 00 00  |@...............|\n",
      "00000030  00 00 00 00 40 00 38 00  01 00 00 00 00 00 00 00  |....@.8.........|\n",
      "00000040  01 00 00 00 05 00 00 00  00 00 00 00 00 00 00 00  |................|\n",
      "00000050  00 00 40 00 00 00 00 00  00 00 40 00 00 00 00 00  |..@.......@.....|\n",
      "00000060  a6 00 00 00 00 00 00 00  a6 00 00 00 00 00 00 00  |................|\n",
      "00000070  00 00 01 00 00 00 00 00  20 00 80 d2 e1 00 00 10  |........ .......|\n",
      "00000080  a2 01 80 d2 08 08 80 52  01 00 00 d4 00 00 80 d2  |.......R........|\n",
      "00000090  a8 0b 80 52 01 00 00 d4  48 65 6c 6c 6f 2c 20 57  |...R....Hello, W|\n",
      "000000a0  6f 72 6c 64 21 0a                                 |orld!.|\n",
      "000000a6\n"
     ]
    }
   ],
   "source": [
    "! hexdump -C hello.elf"
   ]
  },
  {
   "cell_type": "code",
   "execution_count": null,
   "id": "37699af0-225b-4509-b56f-b5e6e01c24e7",
   "metadata": {},
   "outputs": [],
   "source": []
  },
  {
   "cell_type": "code",
   "execution_count": null,
   "id": "9c99b885-a932-46a6-96d2-cfc3090b14e4",
   "metadata": {},
   "outputs": [],
   "source": []
  },
  {
   "cell_type": "markdown",
   "id": "2062389f-c345-4247-a570-e6a7aa77b6d1",
   "metadata": {},
   "source": [
    "---"
   ]
  },
  {
   "cell_type": "code",
   "execution_count": 184,
   "id": "c4569867-df7d-4602-8387-89b3a4d68dae",
   "metadata": {},
   "outputs": [
    {
     "name": "stdout",
     "output_type": "stream",
     "text": [
      "Overwriting tiny.s\n"
     ]
    }
   ],
   "source": [
    "%%writefile tiny.s\n",
    "    .arch armv8-a\n",
    "    .section .text\n",
    "    .globl _start\n",
    "    .type _start, %function\n",
    "\n",
    "_start:\n",
    "    mov     x8, #93      // Syscall number for _exit (93)\n",
    "    mov     x0, #42      // Exit code argument\n",
    "    svc     #0           // Perform syscall"
   ]
  },
  {
   "cell_type": "code",
   "execution_count": 201,
   "id": "95394932-8525-4a2c-bb64-1093d18928f3",
   "metadata": {},
   "outputs": [
    {
     "name": "stderr",
     "output_type": "stream",
     "text": [
      "/data/data/com.termux/files/usr/bin/ld.bfd: warning: tiny has a LOAD segment with RWX permissions\n"
     ]
    },
    {
     "name": "stdout",
     "output_type": "stream",
     "text": [
      "42\n",
      "344 tiny\n"
     ]
    }
   ],
   "source": [
    "%%bash\n",
    "clang -static -nostdlib -Wl,--omagic -fuse-ld=bfd tiny.s -o tiny\n",
    "strip --strip-all tiny\n",
    "./tiny; echo $?\n",
    "wc -c tiny"
   ]
  },
  {
   "cell_type": "markdown",
   "id": "dcbdda6b-7d79-40ea-9f52-d128e769dac2",
   "metadata": {},
   "source": [
    "I believe 344 bytes is the minimum size of an executable using standard tools and without affecting the output of the binutils tools. The `-Wl,--omagic` flag instructs the linker to create an executable with writable code sections and no page alignment in the data section. The `-fuse-ld=bfd` flag is to use gnu `ld` which can further optimize the executable."
   ]
  },
  {
   "cell_type": "markdown",
   "id": "e50e38c5-387d-4b21-b9b4-746adb9a7f61",
   "metadata": {},
   "source": [
    "Using as and ld:"
   ]
  },
  {
   "cell_type": "code",
   "execution_count": 219,
   "id": "4d6beaf7-c64b-44f6-94af-e66b2a993640",
   "metadata": {},
   "outputs": [
    {
     "name": "stderr",
     "output_type": "stream",
     "text": [
      "ld: warning: tiny has a LOAD segment with RWX permissions\n"
     ]
    },
    {
     "name": "stdout",
     "output_type": "stream",
     "text": [
      "42\n",
      "344 tiny\n"
     ]
    }
   ],
   "source": [
    "%%bash\n",
    "as -o tiny.o tiny.s\n",
    "ld --omagic -o tiny tiny.o\n",
    "strip --strip-all tiny\n",
    "./tiny; echo $?\n",
    "wc -c tiny"
   ]
  },
  {
   "cell_type": "code",
   "execution_count": 205,
   "id": "5a1e0238-f090-4e69-8811-2a1a17370cf2",
   "metadata": {},
   "outputs": [
    {
     "name": "stdout",
     "output_type": "stream",
     "text": [
      "   text\t   data\t    bss\t    dec\t    hex\tfilename\n",
      "     12\t      0\t      0\t     12\t      c\ttiny\n"
     ]
    }
   ],
   "source": [
    "! size tiny"
   ]
  },
  {
   "cell_type": "code",
   "execution_count": 206,
   "id": "e5408d2e-0ed2-410a-ba85-6aa70fcd3617",
   "metadata": {},
   "outputs": [
    {
     "name": "stdout",
     "output_type": "stream",
     "text": [
      "\n",
      "tiny:     file format elf64-littleaarch64\n",
      "\n",
      "Sections:\n",
      "Idx Name          Size      VMA               LMA               File off  Algn\n",
      "  0 .text         0000000c  0000000000400078  0000000000400078  00000078  2**2\n",
      "                  CONTENTS, ALLOC, LOAD, CODE\n"
     ]
    }
   ],
   "source": [
    "! objdump -h tiny"
   ]
  },
  {
   "cell_type": "code",
   "execution_count": 207,
   "id": "4f9bc8b5-ea56-4064-b295-b0283e9a45d6",
   "metadata": {},
   "outputs": [
    {
     "name": "stdout",
     "output_type": "stream",
     "text": [
      "\n",
      "tiny:     file format elf64-littleaarch64\n",
      "\n",
      "\n",
      "Disassembly of section .text:\n",
      "\n",
      "0000000000400078 <.text>:\n",
      "  400078:\td2800ba8 \tmov\tx8, #0x5d                  \t// #93\n",
      "  40007c:\td2800540 \tmov\tx0, #0x2a                  \t// #42\n",
      "  400080:\td4000001 \tsvc\t#0x0\n"
     ]
    }
   ],
   "source": [
    "! objdump -d tiny"
   ]
  },
  {
   "cell_type": "code",
   "execution_count": 208,
   "id": "e3a302e7-84da-42e2-a668-5cb28982573c",
   "metadata": {},
   "outputs": [
    {
     "name": "stdout",
     "output_type": "stream",
     "text": [
      "\n",
      "tiny:     file format elf64-littleaarch64\n",
      "\n",
      "Contents of section .text:\n",
      " 400078 a80b80d2 400580d2 010000d4           ....@.......    \n"
     ]
    }
   ],
   "source": [
    "! objdump -s tiny"
   ]
  },
  {
   "cell_type": "code",
   "execution_count": 209,
   "id": "5075b927-505f-4414-93e6-355674087aa2",
   "metadata": {},
   "outputs": [
    {
     "name": "stdout",
     "output_type": "stream",
     "text": [
      "00000000  7f 45 4c 46 02 01 01 00  00 00 00 00 00 00 00 00  |.ELF............|\n",
      "00000010  02 00 b7 00 01 00 00 00  78 00 40 00 00 00 00 00  |........x.@.....|\n",
      "00000020  40 00 00 00 00 00 00 00  98 00 00 00 00 00 00 00  |@...............|\n",
      "00000030  00 00 00 00 40 00 38 00  01 00 40 00 03 00 02 00  |....@.8...@.....|\n",
      "00000040  01 00 00 00 07 00 00 00  78 00 00 00 00 00 00 00  |........x.......|\n",
      "00000050  78 00 40 00 00 00 00 00  78 00 40 00 00 00 00 00  |x.@.....x.@.....|\n",
      "00000060  0c 00 00 00 00 00 00 00  0c 00 00 00 00 00 00 00  |................|\n",
      "00000070  04 00 00 00 00 00 00 00  a8 0b 80 d2 40 05 80 d2  |............@...|\n",
      "00000080  01 00 00 d4 00 2e 73 68  73 74 72 74 61 62 00 2e  |......shstrtab..|\n",
      "00000090  74 65 78 74 00 00 00 00  00 00 00 00 00 00 00 00  |text............|\n",
      "000000a0  00 00 00 00 00 00 00 00  00 00 00 00 00 00 00 00  |................|\n",
      "*\n",
      "000000d0  00 00 00 00 00 00 00 00  0b 00 00 00 01 00 00 00  |................|\n",
      "000000e0  07 00 00 00 00 00 00 00  78 00 40 00 00 00 00 00  |........x.@.....|\n",
      "000000f0  78 00 00 00 00 00 00 00  0c 00 00 00 00 00 00 00  |x...............|\n",
      "00000100  00 00 00 00 00 00 00 00  04 00 00 00 00 00 00 00  |................|\n",
      "00000110  00 00 00 00 00 00 00 00  01 00 00 00 03 00 00 00  |................|\n",
      "00000120  00 00 00 00 00 00 00 00  00 00 00 00 00 00 00 00  |................|\n",
      "00000130  84 00 00 00 00 00 00 00  11 00 00 00 00 00 00 00  |................|\n",
      "00000140  00 00 00 00 00 00 00 00  01 00 00 00 00 00 00 00  |................|\n",
      "00000150  00 00 00 00 00 00 00 00                           |........|\n",
      "00000158\n"
     ]
    }
   ],
   "source": [
    "! hexdump -C tiny"
   ]
  },
  {
   "cell_type": "markdown",
   "id": "97c0c9b8-ff05-4e7e-81cb-7d4afafb4084",
   "metadata": {},
   "source": [
    "Using `strip --strip-section-headers tiny` it is possible to get a 132-byte executable, but this ends up affecting the outputs of `size`, `objdump`, and others:"
   ]
  },
  {
   "cell_type": "code",
   "execution_count": 210,
   "id": "a9920d8d-76bb-47e5-b45a-2b9f784c1dc1",
   "metadata": {},
   "outputs": [
    {
     "name": "stdout",
     "output_type": "stream",
     "text": [
      "42\n",
      "132 tiny\n"
     ]
    }
   ],
   "source": [
    "%%bash\n",
    "strip --strip-section-headers tiny\n",
    "./tiny; echo $?\n",
    "wc -c tiny"
   ]
  },
  {
   "cell_type": "code",
   "execution_count": 211,
   "id": "b20aa443-dd58-41c7-9633-f9d684194196",
   "metadata": {},
   "outputs": [
    {
     "name": "stdout",
     "output_type": "stream",
     "text": [
      "   text\t   data\t    bss\t    dec\t    hex\tfilename\n",
      "      0\t      0\t      0\t      0\t      0\ttiny\n"
     ]
    }
   ],
   "source": [
    "! size tiny"
   ]
  },
  {
   "cell_type": "code",
   "execution_count": 212,
   "id": "6a5c892d-4bbf-40c4-b803-19aa8c71785c",
   "metadata": {},
   "outputs": [
    {
     "name": "stdout",
     "output_type": "stream",
     "text": [
      "\n",
      "tiny:     file format elf64-littleaarch64\n",
      "\n",
      "Sections:\n",
      "Idx Name          Size      VMA               LMA               File off  Algn\n"
     ]
    }
   ],
   "source": [
    "! objdump -h tiny"
   ]
  },
  {
   "cell_type": "code",
   "execution_count": 213,
   "id": "e66d1be3-6246-40e8-be53-3e3d31f21e59",
   "metadata": {},
   "outputs": [
    {
     "name": "stdout",
     "output_type": "stream",
     "text": [
      "\n",
      "tiny:     file format elf64-littleaarch64\n",
      "\n"
     ]
    }
   ],
   "source": [
    "! objdump -d tiny"
   ]
  },
  {
   "cell_type": "code",
   "execution_count": 214,
   "id": "5e74ce06-f75b-4c1e-b4e8-166f7beec03b",
   "metadata": {},
   "outputs": [
    {
     "name": "stdout",
     "output_type": "stream",
     "text": [
      "\n",
      "tiny:     file format elf64-littleaarch64\n",
      "\n"
     ]
    }
   ],
   "source": [
    "! objdump -s tiny"
   ]
  },
  {
   "cell_type": "code",
   "execution_count": 215,
   "id": "513c098a-7fde-4863-bed0-08b37afdfb2b",
   "metadata": {},
   "outputs": [
    {
     "name": "stdout",
     "output_type": "stream",
     "text": [
      "00000000  7f 45 4c 46 02 01 01 00  00 00 00 00 00 00 00 00  |.ELF............|\n",
      "00000010  02 00 b7 00 01 00 00 00  78 00 40 00 00 00 00 00  |........x.@.....|\n",
      "00000020  40 00 00 00 00 00 00 00  00 00 00 00 00 00 00 00  |@...............|\n",
      "00000030  00 00 00 00 40 00 38 00  01 00 00 00 00 00 00 00  |....@.8.........|\n",
      "00000040  01 00 00 00 07 00 00 00  78 00 00 00 00 00 00 00  |........x.......|\n",
      "00000050  78 00 40 00 00 00 00 00  78 00 40 00 00 00 00 00  |x.@.....x.@.....|\n",
      "00000060  0c 00 00 00 00 00 00 00  0c 00 00 00 00 00 00 00  |................|\n",
      "00000070  04 00 00 00 00 00 00 00  a8 0b 80 d2 40 05 80 d2  |............@...|\n",
      "00000080  01 00 00 d4                                       |....|\n",
      "00000084\n"
     ]
    }
   ],
   "source": [
    "! hexdump -C tiny"
   ]
  },
  {
   "cell_type": "markdown",
   "id": "0e84a8a5-e223-4791-b972-96e621f3bfaf",
   "metadata": {},
   "source": [
    "### Understanding the Hexdump Output\n",
    "The command `hexdump -C` displays the contents of the binary file in hexadecimal (`hex`) format alongside their ASCII representation.\n",
    "\n",
    "Each line consists of:\n",
    "1. **Offset**: The address in hexadecimal representing the position of the first byte in that row.\n",
    "2. **Hexadecimal Bytes**: The actual bytes in hexadecimal notation.\n",
    "3. **ASCII Representation**: The corresponding characters if they are printable, otherwise represented as `.`.\n",
    "\n",
    "---\n",
    "\n",
    "### **Breakdown of Hexdump Output**\n",
    "#### **ELF Header (First 16 bytes)**\n",
    "```\n",
    "00000000  7f 45 4c 46 02 01 01 00  00 00 00 00 00 00 00 00  |.ELF............|\n",
    "```\n",
    "- `7f 45 4c 46`: **Magic Number** for ELF format (always `0x7F 'E' 'L' 'F'`).\n",
    "- `02`: Indicates **ELF 64-bit** format.\n",
    "- `01`: **Little-endian** encoding.\n",
    "- `01`: ELF version (current).\n",
    "- `00 ... 00`: Reserved and padding bytes.\n",
    "\n",
    "---\n",
    "\n",
    "#### **ELF Type and Architecture (Next 16 bytes)**\n",
    "```\n",
    "00000010  02 00 b7 00 01 00 00 00  78 00 40 00 00 00 00 00  |........x.@.....|\n",
    "```\n",
    "- `02 00`: ELF **type** (`ET_EXEC`, meaning executable).\n",
    "- `b7 00`: **Architecture** (`EM_AARCH64`, meaning ARM AArch64).\n",
    "- `01 00 00 00`: ELF **version**.\n",
    "- `78 00 40 00`: **Entry point address** (`0x400078`, the start of the program).\n",
    "\n",
    "---\n",
    "\n",
    "#### **ELF Program Headers**\n",
    "```\n",
    "00000020  40 00 00 00 00 00 00 00  00 00 00 00 00 00 00 00  |@...............|\n",
    "00000030  00 00 00 00 40 00 38 00  01 00 00 00 00 00 00 00  |....@.8.........|\n",
    "```\n",
    "- `40 00 00 00`: Offset where the program headers are located.\n",
    "- `00 ... 00`: Zeroed bytes (padding).\n",
    "- `40 00 38 00`: Size of the **program headers**.\n",
    "\n",
    "---\n",
    "\n",
    "#### **Segment Information**\n",
    "```\n",
    "00000040  01 00 00 00 07 00 00 00  78 00 00 00 00 00 00 00  |........x.......|\n",
    "```\n",
    "- `01 00 00 00`: Segment **type** (`PT_LOAD`, meaning it's a loadable program segment).\n",
    "- `07 00 00 00`: Flags (`R|W|X`, meaning it has read, write, and execute permissions).\n",
    "- `78 00 00 00`: Virtual **memory address** (`0x78`), indicating where it will be loaded.\n",
    "\n",
    "---\n",
    "\n",
    "#### **Program Content (Assembly Instructions)**\n",
    "```\n",
    "00000070  04 00 00 00 00 00 00 00  a8 0b 80 d2 40 05 80 d2  |............@...|\n",
    "00000080  01 00 00 d4                                       |....|\n",
    "```\n",
    "Here lies the actual **machine code instructions** for the program:\n",
    "1. `a8 0b 80 d2`: `mov x8, #93` (Syscall number for `exit`).\n",
    "2. `40 05 80 d2`: `mov x0, #42` (Exit code 42).\n",
    "3. `01 00 00 d4`: `svc #0` (System call to exit)."
   ]
  },
  {
   "cell_type": "code",
   "execution_count": null,
   "id": "8c8fe3cc-67cf-451e-ad19-47ca33646ff0",
   "metadata": {},
   "outputs": [],
   "source": []
  }
 ],
 "metadata": {
  "kernelspec": {
   "display_name": "Python 3 (ipykernel)",
   "language": "python",
   "name": "python3"
  },
  "language_info": {
   "codemirror_mode": {
    "name": "ipython",
    "version": 3
   },
   "file_extension": ".py",
   "mimetype": "text/x-python",
   "name": "python",
   "nbconvert_exporter": "python",
   "pygments_lexer": "ipython3",
   "version": "3.12.10"
  }
 },
 "nbformat": 4,
 "nbformat_minor": 5
}
