{
 "cells": [
  {
   "cell_type": "markdown",
   "id": "70123229-90ed-4033-bb9f-3b28aa7cdc2b",
   "metadata": {},
   "source": [
    "# Access to the JL server running on Termux"
   ]
  },
  {
   "cell_type": "markdown",
   "id": "77282f81-8cd1-471c-a28b-b99f54ff8af5",
   "metadata": {},
   "source": [
    "This Notebook runs on the PC and configures access to the JL server running on Termux. Assuming Termux and SSH server are running."
   ]
  },
  {
   "cell_type": "code",
   "execution_count": 1,
   "id": "b776c209-1044-4b17-816f-990cf20354c3",
   "metadata": {},
   "outputs": [],
   "source": [
    "! ssh -TNf g4"
   ]
  },
  {
   "cell_type": "markdown",
   "id": "c0420a8e-b200-4be1-bacf-b809b79d96ee",
   "metadata": {},
   "source": [
    "The command `ssh -NfT g4` is used to establish a **non-interactive SSH connection** that runs in the **background**."
   ]
  },
  {
   "cell_type": "markdown",
   "id": "855822b3-7cdf-4f7f-9106-ecdbcc4b10e8",
   "metadata": {},
   "source": [
    "Start the JL server in Termux:"
   ]
  },
  {
   "cell_type": "code",
   "execution_count": 6,
   "id": "70f08f69-3243-47ee-8dd7-f594e75b6cc1",
   "metadata": {},
   "outputs": [],
   "source": [
    "! ssh -T g4 'jupyter-lab --no-browser --ip=* --IdentityProvider.token='' --notebook-dir=~ >/dev/null 2>&1 &'"
   ]
  },
  {
   "cell_type": "markdown",
   "id": "58cde387-20d9-47e9-a25f-ad74b13cc597",
   "metadata": {},
   "source": [
    "At this point JL can be accessed on the PC using the address <http://g4:8888/lab?> in the browser."
   ]
  },
  {
   "cell_type": "markdown",
   "id": "85f5b5eb-5a31-4b3a-8ab0-a99d6b344b4e",
   "metadata": {},
   "source": [
    "Mount the file system:"
   ]
  },
  {
   "cell_type": "code",
   "execution_count": 7,
   "id": "98986873-eee0-4557-94c2-b08167c477f6",
   "metadata": {},
   "outputs": [
    {
     "name": "stderr",
     "output_type": "stream",
     "text": [
      "fusermount3: failed to access mountpoint /mnt/g4: Permission denied\n"
     ]
    },
    {
     "ename": "CalledProcessError",
     "evalue": "Command 'b'OPT=\"uid=$(id -u),gid=$(id -g),reconnect,cache=yes,kernel_cache,compression=no,ServerAliveCountMax=3\"\\nsshfs  g4:/data/data/com.termux/files/home  /mnt/g4  -o $OPT\\n'' returned non-zero exit status 1.",
     "output_type": "error",
     "traceback": [
      "\u001b[31m---------------------------------------------------------------------------\u001b[39m",
      "\u001b[31mCalledProcessError\u001b[39m                        Traceback (most recent call last)",
      "\u001b[36mCell\u001b[39m\u001b[36m \u001b[39m\u001b[32mIn[7]\u001b[39m\u001b[32m, line 1\u001b[39m\n\u001b[32m----> \u001b[39m\u001b[32m1\u001b[39m \u001b[43mget_ipython\u001b[49m\u001b[43m(\u001b[49m\u001b[43m)\u001b[49m\u001b[43m.\u001b[49m\u001b[43mrun_cell_magic\u001b[49m\u001b[43m(\u001b[49m\u001b[33;43m'\u001b[39;49m\u001b[33;43mbash\u001b[39;49m\u001b[33;43m'\u001b[39;49m\u001b[43m,\u001b[49m\u001b[43m \u001b[49m\u001b[33;43m'\u001b[39;49m\u001b[33;43m'\u001b[39;49m\u001b[43m,\u001b[49m\u001b[43m \u001b[49m\u001b[33;43m'\u001b[39;49m\u001b[33;43mOPT=\u001b[39;49m\u001b[33;43m\"\u001b[39;49m\u001b[33;43muid=$(id -u),gid=$(id -g),reconnect,cache=yes,kernel_cache,compression=no,ServerAliveCountMax=3\u001b[39;49m\u001b[33;43m\"\u001b[39;49m\u001b[38;5;130;43;01m\\n\u001b[39;49;00m\u001b[33;43msshfs  g4:/data/data/com.termux/files/home  /mnt/g4  -o $OPT\u001b[39;49m\u001b[38;5;130;43;01m\\n\u001b[39;49;00m\u001b[33;43m'\u001b[39;49m\u001b[43m)\u001b[49m\n",
      "\u001b[36mFile \u001b[39m\u001b[32m~/conda/lib/python3.12/site-packages/IPython/core/interactiveshell.py:2547\u001b[39m, in \u001b[36mInteractiveShell.run_cell_magic\u001b[39m\u001b[34m(self, magic_name, line, cell)\u001b[39m\n\u001b[32m   2545\u001b[39m \u001b[38;5;28;01mwith\u001b[39;00m \u001b[38;5;28mself\u001b[39m.builtin_trap:\n\u001b[32m   2546\u001b[39m     args = (magic_arg_s, cell)\n\u001b[32m-> \u001b[39m\u001b[32m2547\u001b[39m     result = \u001b[43mfn\u001b[49m\u001b[43m(\u001b[49m\u001b[43m*\u001b[49m\u001b[43margs\u001b[49m\u001b[43m,\u001b[49m\u001b[43m \u001b[49m\u001b[43m*\u001b[49m\u001b[43m*\u001b[49m\u001b[43mkwargs\u001b[49m\u001b[43m)\u001b[49m\n\u001b[32m   2549\u001b[39m \u001b[38;5;66;03m# The code below prevents the output from being displayed\u001b[39;00m\n\u001b[32m   2550\u001b[39m \u001b[38;5;66;03m# when using magics with decorator @output_can_be_silenced\u001b[39;00m\n\u001b[32m   2551\u001b[39m \u001b[38;5;66;03m# when the last Python token in the expression is a ';'.\u001b[39;00m\n\u001b[32m   2552\u001b[39m \u001b[38;5;28;01mif\u001b[39;00m \u001b[38;5;28mgetattr\u001b[39m(fn, magic.MAGIC_OUTPUT_CAN_BE_SILENCED, \u001b[38;5;28;01mFalse\u001b[39;00m):\n",
      "\u001b[36mFile \u001b[39m\u001b[32m~/conda/lib/python3.12/site-packages/IPython/core/magics/script.py:159\u001b[39m, in \u001b[36mScriptMagics._make_script_magic.<locals>.named_script_magic\u001b[39m\u001b[34m(line, cell)\u001b[39m\n\u001b[32m    157\u001b[39m \u001b[38;5;28;01melse\u001b[39;00m:\n\u001b[32m    158\u001b[39m     line = script\n\u001b[32m--> \u001b[39m\u001b[32m159\u001b[39m \u001b[38;5;28;01mreturn\u001b[39;00m \u001b[38;5;28;43mself\u001b[39;49m\u001b[43m.\u001b[49m\u001b[43mshebang\u001b[49m\u001b[43m(\u001b[49m\u001b[43mline\u001b[49m\u001b[43m,\u001b[49m\u001b[43m \u001b[49m\u001b[43mcell\u001b[49m\u001b[43m)\u001b[49m\n",
      "\u001b[36mFile \u001b[39m\u001b[32m~/conda/lib/python3.12/site-packages/IPython/core/magics/script.py:336\u001b[39m, in \u001b[36mScriptMagics.shebang\u001b[39m\u001b[34m(self, line, cell)\u001b[39m\n\u001b[32m    331\u001b[39m \u001b[38;5;28;01mif\u001b[39;00m args.raise_error \u001b[38;5;129;01mand\u001b[39;00m p.returncode != \u001b[32m0\u001b[39m:\n\u001b[32m    332\u001b[39m     \u001b[38;5;66;03m# If we get here and p.returncode is still None, we must have\u001b[39;00m\n\u001b[32m    333\u001b[39m     \u001b[38;5;66;03m# killed it but not yet seen its return code. We don't wait for it,\u001b[39;00m\n\u001b[32m    334\u001b[39m     \u001b[38;5;66;03m# in case it's stuck in uninterruptible sleep. -9 = SIGKILL\u001b[39;00m\n\u001b[32m    335\u001b[39m     rc = p.returncode \u001b[38;5;129;01mor\u001b[39;00m -\u001b[32m9\u001b[39m\n\u001b[32m--> \u001b[39m\u001b[32m336\u001b[39m     \u001b[38;5;28;01mraise\u001b[39;00m CalledProcessError(rc, cell)\n",
      "\u001b[31mCalledProcessError\u001b[39m: Command 'b'OPT=\"uid=$(id -u),gid=$(id -g),reconnect,cache=yes,kernel_cache,compression=no,ServerAliveCountMax=3\"\\nsshfs  g4:/data/data/com.termux/files/home  /mnt/g4  -o $OPT\\n'' returned non-zero exit status 1."
     ]
    }
   ],
   "source": [
    "%%bash\n",
    "OPT=\"uid=$(id -u),gid=$(id -g),reconnect,cache=yes,kernel_cache,compression=no,ServerAliveCountMax=3\"\n",
    "sshfs  g4:/data/data/com.termux/files/home  /mnt/g4  -o $OPT"
   ]
  },
  {
   "cell_type": "markdown",
   "id": "1e350b7d-be3e-49bc-ab5c-cd40b6def5e4",
   "metadata": {},
   "source": [
    "## Shutdown"
   ]
  },
  {
   "cell_type": "code",
   "execution_count": 8,
   "id": "39f55e7a-8da7-4e7e-a13e-dc78614d032e",
   "metadata": {},
   "outputs": [],
   "source": [
    "! ssh -T g4 'pkill -f jupyter'"
   ]
  },
  {
   "cell_type": "code",
   "execution_count": 9,
   "id": "6940fc06-b333-45f7-9bfa-0df05eae9b5d",
   "metadata": {},
   "outputs": [
    {
     "name": "stdout",
     "output_type": "stream",
     "text": [
      "Exit request sent.\n"
     ]
    }
   ],
   "source": [
    "! ssh -O exit g4"
   ]
  },
  {
   "cell_type": "code",
   "execution_count": null,
   "id": "6ee3b23c-e025-49da-be53-a3a8a50c9465",
   "metadata": {},
   "outputs": [],
   "source": []
  }
 ],
 "metadata": {
  "kernelspec": {
   "display_name": "Python 3 (ipykernel)",
   "language": "python",
   "name": "python3"
  },
  "language_info": {
   "codemirror_mode": {
    "name": "ipython",
    "version": 3
   },
   "file_extension": ".py",
   "mimetype": "text/x-python",
   "name": "python",
   "nbconvert_exporter": "python",
   "pygments_lexer": "ipython3",
   "version": "3.12.5"
  }
 },
 "nbformat": 4,
 "nbformat_minor": 5
}
