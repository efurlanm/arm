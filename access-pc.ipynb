{
 "cells": [
  {
   "cell_type": "markdown",
   "id": "70123229-90ed-4033-bb9f-3b28aa7cdc2b",
   "metadata": {},
   "source": [
    "# Access to the JL server running on Termux"
   ]
  },
  {
   "cell_type": "markdown",
   "id": "77282f81-8cd1-471c-a28b-b99f54ff8af5",
   "metadata": {},
   "source": [
    "This Notebook runs on the PC and configures access to the JL server running on Termux. Assuming Termux and SSH server are running."
   ]
  },
  {
   "cell_type": "code",
   "execution_count": 1,
   "id": "b776c209-1044-4b17-816f-990cf20354c3",
   "metadata": {},
   "outputs": [],
   "source": [
    "! ssh -TNf g4"
   ]
  },
  {
   "cell_type": "markdown",
   "id": "c0420a8e-b200-4be1-bacf-b809b79d96ee",
   "metadata": {},
   "source": [
    "The command `ssh -NfT g4` is used to establish a **non-interactive SSH connection** that runs in the **background**."
   ]
  },
  {
   "cell_type": "markdown",
   "id": "855822b3-7cdf-4f7f-9106-ecdbcc4b10e8",
   "metadata": {},
   "source": [
    "Start the JL server in Termux:"
   ]
  },
  {
   "cell_type": "markdown",
   "id": "58cde387-20d9-47e9-a25f-ad74b13cc597",
   "metadata": {},
   "source": [
    "JL can be accessed on the PC using the address <http://g4:8889/lab> in the browser."
   ]
  },
  {
   "cell_type": "markdown",
   "id": "85f5b5eb-5a31-4b3a-8ab0-a99d6b344b4e",
   "metadata": {},
   "source": [
    "Mount the file system:"
   ]
  },
  {
   "cell_type": "code",
   "execution_count": 2,
   "id": "98986873-eee0-4557-94c2-b08167c477f6",
   "metadata": {},
   "outputs": [],
   "source": [
    "%%bash\n",
    "OPT=\"uid=$(id -u),gid=$(id -g),reconnect,cache=yes,kernel_cache,compression=no,ServerAliveCountMax=3\"\n",
    "sshfs  g4:/data/data/com.termux/files/home  /mnt/g4  -o $OPT\n",
    "sshfs  g4:/data/data/com.termux/files/usr/var/lib/proot-distro/installed-rootfs/ubuntu   /mnt/g4u  -o $OPT"
   ]
  },
  {
   "cell_type": "markdown",
   "id": "1e350b7d-be3e-49bc-ab5c-cd40b6def5e4",
   "metadata": {},
   "source": [
    "## Shutdown"
   ]
  },
  {
   "cell_type": "code",
   "execution_count": 3,
   "id": "2de19376-ce78-421a-9f4d-1417a59e32ae",
   "metadata": {},
   "outputs": [],
   "source": [
    "! sudo umount /mnt/g4 /mnt/g4u"
   ]
  },
  {
   "cell_type": "markdown",
   "id": "eef03f6b-c6a7-44dc-8fe3-149a3084c4f8",
   "metadata": {},
   "source": [
    "! ssh -T g4 'proot-distro login ubuntu -- bash -lc \"killall jupyter-lab\"'"
   ]
  },
  {
   "cell_type": "code",
   "execution_count": 4,
   "id": "6940fc06-b333-45f7-9bfa-0df05eae9b5d",
   "metadata": {},
   "outputs": [
    {
     "name": "stdout",
     "output_type": "stream",
     "text": [
      "Exit request sent.\n"
     ]
    }
   ],
   "source": [
    "! ssh -O exit g4"
   ]
  },
  {
   "cell_type": "code",
   "execution_count": null,
   "id": "6ee3b23c-e025-49da-be53-a3a8a50c9465",
   "metadata": {},
   "outputs": [],
   "source": []
  }
 ],
 "metadata": {
  "kernelspec": {
   "display_name": "Python 3 (ipykernel)",
   "language": "python",
   "name": "python3"
  },
  "language_info": {
   "codemirror_mode": {
    "name": "ipython",
    "version": 3
   },
   "file_extension": ".py",
   "mimetype": "text/x-python",
   "name": "python",
   "nbconvert_exporter": "python",
   "pygments_lexer": "ipython3",
   "version": "3.12.5"
  }
 },
 "nbformat": 4,
 "nbformat_minor": 5
}
