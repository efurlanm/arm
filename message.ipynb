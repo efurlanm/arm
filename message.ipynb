{
 "cells": [
  {
   "cell_type": "markdown",
   "id": "cb5c32ef-421c-4cee-a815-22de4b83e9cf",
   "metadata": {},
   "source": [
    "# Monitor Linux\n",
    "\n",
    "2025-06-15"
   ]
  },
  {
   "cell_type": "code",
   "execution_count": 1,
   "id": "b509aedc-5d84-4615-bfd8-1d065928e1d8",
   "metadata": {},
   "outputs": [
    {
     "name": "stdout",
     "output_type": "stream",
     "text": [
      "Writing message.s\n"
     ]
    }
   ],
   "source": [
    "%%writefile message.s\n",
    "// --------------------------------------------------------------------------\n",
    "// A simple AArch64 bare-metal-like program for Linux user-space.\n",
    "// Demonstrates basic stack setup, function calls, and Linux syscalls (write, exit).\n",
    "// Designed to be loaded and executed by a simple C loader (like load.c).\n",
    "// --------------------------------------------------------------------------\n",
    "\n",
    ".global _start\n",
    ".section .text\n",
    "\n",
    "// Define ALLOC_SIZE here, it must match load.c\n",
    ".set ALLOC_SIZE, 512\n",
    "\n",
    "// --- Linux Syscall Numbers ---\n",
    ".set SYS_READ,         63\n",
    ".set SYS_WRITE,        64\n",
    ".set SYS_EXIT,         93 // Added: Syscall to exit the process\n",
    "\n",
    "// --- File Descriptors ---\n",
    ".set STDIN_FD,         0\n",
    ".set STDOUT_FD,        1\n",
    "\n",
    "_start:\n",
    "    // Configure the Stack Pointer (SP)\n",
    "    // Get the Program Counter (PC) value (address of _start) into x0.\n",
    "    adr x0, _start\n",
    "    // Add ALLOC_SIZE to x0 to get the end of our allocated memory block.\n",
    "    // This address will be used as the initial stack pointer, growing downwards.\n",
    "    add x0, x0, #ALLOC_SIZE\n",
    "    // Move the calculated address to the Stack Pointer (SP).\n",
    "    mov sp, x0\n",
    "\n",
    "    // --- Output \"Ready\" message ---\n",
    "    // Use ADR (Address Register) to get the PC-relative address of ready_msg into x0.\n",
    "    // ADR is suitable for position-independent code as it calculates the address\n",
    "    // relative to the current instruction.\n",
    "    adr x0, ready_msg               // Call puts_aarch64 to print the string\n",
    "    // Branch with Link (bl) to puts_aarch64.\n",
    "    // This saves the return address (address of the next instruction) into the Link Register (lr, x30).\n",
    "    bl puts_aarch64\n",
    "\n",
    "    // Exit the process after printing the message\n",
    "    // Load the syscall number for SYS_EXIT (93) into x8.\n",
    "    mov x8, SYS_EXIT                // Syscall number for exit\n",
    "    // Set the exit code to 0 (success) in x0.\n",
    "    mov x0, #0                      // Exit code (0 for success)\n",
    "    // Execute the syscall. The kernel will terminate the process.\n",
    "    svc #0                          // Execute the syscall\n",
    "\n",
    "// --------------------------------------------------------------------------\n",
    "// Utility Functions (Linux Syscall I/O)\n",
    "// --------------------------------------------------------------------------\n",
    "\n",
    "// getchar_aarch64: Reads a character from stdin and returns it in w0 (lowest 32 bits of x0)\n",
    "// This function uses the stack for its syscall buffer and does NOT explicitly save/restore\n",
    "// x0/x1 with stp/ldp instructions, as these are handled as caller-saved or not needed by this function.\n",
    "// (Included for completeness and potential future use, but not called in this version)\n",
    "getchar_aarch64:\n",
    "    // Allocate space on the stack for 1 byte for the syscall buffer.\n",
    "    // We reserve 16 bytes to maintain AArch64 ABI stack alignment requirements.\n",
    "    sub sp, sp, #16\n",
    "    \n",
    "    // Configure arguments for SYS_READ syscall:\n",
    "    mov x0, STDIN_FD            // x0 = file descriptor (0 for stdin)\n",
    "    mov x1, sp                  // x1 = buffer address (points to the allocated space on stack)\n",
    "    mov x2, #1                  // x2 = count (number of bytes to read, 1 in this case)\n",
    "    mov x8, SYS_READ            // x8 = syscall number (63 for SYS_READ)\n",
    "    svc #0                      // Execute the syscall (reads 1 byte into [sp, #0])\n",
    "\n",
    "    // Read the character from the stack buffer into w0.\n",
    "    ldrb w0, [sp, #0]\n",
    "    \n",
    "    // Deallocate the stack space reserved for the buffer.\n",
    "    add sp, sp, #16\n",
    "    ret                         // Return to the caller.\n",
    "\n",
    "// putchar_aarch64: Writes a character from w0 to stdout\n",
    "// This function uses the stack for its syscall buffer and does NOT explicitly save/restore\n",
    "// x0/x1 with stp/ldp instructions, as these are handled as caller-saved or not needed by this function.\n",
    "putchar_aarch64:\n",
    "    // Allocate space on the stack for 1 byte for the syscall buffer.\n",
    "    // We reserve 16 bytes to maintain AArch64 ABI stack alignment requirements.\n",
    "    sub sp, sp, #16\n",
    "    \n",
    "    // Store the character from w0 onto the stack, which will serve as the syscall buffer.\n",
    "    strb w0, [sp, #0]\n",
    "    \n",
    "    // Configure arguments for SYS_WRITE syscall:\n",
    "    mov x0, STDOUT_FD           // x0 = file descriptor (1 for stdout)\n",
    "    mov x1, sp                  // x1 = buffer address (points to the character on stack)\n",
    "    mov x2, #1                  // x2 = count (number of bytes to write, 1 in this case)\n",
    "    mov x8, SYS_WRITE           // x8 = syscall number (64 for SYS_WRITE)\n",
    "    svc #0                      // Execute the syscall (writes 1 byte from [sp, #0])\n",
    "    \n",
    "    // Deallocate the stack space reserved for the buffer.\n",
    "    add sp, sp, #16\n",
    "    ret                         // Return to the caller.\n",
    "\n",
    "// puts_aarch64: Prints a null-terminated string pointed to by x0 to stdout\n",
    "// This function uses x20 (a callee-saved register) to preserve the string pointer\n",
    "// across calls to putchar_aarch64, which clobbers x0.\n",
    "// It also explicitly saves and restores its own lr for robust function calls.\n",
    "puts_aarch64:\n",
    "    // Save callee-saved register x20 and the Link Register (lr, x30) onto the stack.\n",
    "    // This is crucial to preserve them across the function's operations and nested calls.\n",
    "    // The '!' (pre-index) means sp is decremented BEFORE the store.\n",
    "    stp x20, lr, [sp, #-16]!    // Store Pair: x20 and lr onto stack, decrement sp by 16.\n",
    "    \n",
    "    // Move the initial string pointer (passed in x0) to x20.\n",
    "    // We use x20 because it's a callee-saved register, meaning its value\n",
    "    // will be preserved across calls to putchar_aarch64, which modifies x0.\n",
    "    mov x20, x0                 // Save the string pointer (original x0) into x20\n",
    ".put_char_loop:\n",
    "    // Load a byte from the string pointed to by x20 into w1.\n",
    "    ldrb w1, [x20]              // Load byte from string using x20\n",
    "    // Compare the loaded character with the null terminator (0).\n",
    "    cmp w1, #0                  // Compare with null terminator\n",
    "    // If it's the null terminator, branch to the end of the loop.\n",
    "    b.eq .put_char_end          // If null, exit loop\n",
    "    \n",
    "    // Move the character from w1 to w0 to prepare it as an argument for putchar_aarch64.\n",
    "    mov w0, w1                  // Move character to w0 (argument for putchar)\n",
    "    // Branch with Link to putchar_aarch64 to print the character.\n",
    "    // This updates lr to the instruction immediately following this bl.\n",
    "    bl putchar_aarch64          // Call putchar_aarch64 (Note: putchar_aarch64 clobbers x0, but our x20 is safe)\n",
    "    \n",
    "    // Increment the string pointer (in x20) to point to the next character.\n",
    "    add x20, x20, #1            // Increment the string pointer (now in x20)\n",
    "    // Branch unconditionally back to the beginning of the loop.\n",
    "    b .put_char_loop\n",
    ".put_char_end:\n",
    "    // Restore the saved x20 and lr from the stack.\n",
    "    // The '!' (post-index) means sp is incremented AFTER the load.\n",
    "    ldp x20, lr, [sp], #16      // Load Pair: Restore x20 and lr, increment sp by 16.\n",
    "    ret                         // Return to the caller (_start in this case).\n",
    "\n",
    "// --------------------------------------------------------------------------\n",
    "// Data within the .text section (placed after all functions)\n",
    "// --------------------------------------------------------------------------\n",
    "// Ensure 8-byte alignment for data. This is good practice for AArch64.\n",
    ".align 8\n",
    "ready_msg:\n",
    "    .ascii \"Ready\\r\\n\\0\" // Null-terminated string for the \"Ready\" message.\n",
    "// char_buffer is no longer needed here as putchar_aarch64 and getchar_aarch64\n",
    "// now use dynamically allocated stack space for their single-byte buffers."
   ]
  },
  {
   "cell_type": "code",
   "execution_count": 2,
   "id": "4145c311-2d41-4cff-8048-0e652b6ac5f6",
   "metadata": {},
   "outputs": [],
   "source": [
    "%%bash\n",
    "as -o message.o message.s\n",
    "ld -Ttext=0x0 -nostdlib -o message.elf message.o\n",
    "objcopy -O binary message.elf message.img"
   ]
  },
  {
   "cell_type": "code",
   "execution_count": 4,
   "id": "6a0080d5-2c41-453e-8769-ff02fa1867bc",
   "metadata": {},
   "outputs": [
    {
     "name": "stdout",
     "output_type": "stream",
     "text": [
      "Ready\n"
     ]
    }
   ],
   "source": [
    "! load message.img"
   ]
  },
  {
   "cell_type": "code",
   "execution_count": 6,
   "id": "b074280b-ed66-4a90-abf1-5ce211115f4c",
   "metadata": {},
   "outputs": [
    {
     "name": "stdout",
     "output_type": "stream",
     "text": [
      "   text\t   data\t    bss\t    dec\t    hex\tfilename\n",
      "    264\t      0\t      0\t    264\t    108\tmessage.elf\n"
     ]
    }
   ],
   "source": [
    "! size message.elf"
   ]
  },
  {
   "cell_type": "code",
   "execution_count": null,
   "id": "6861b303-1621-4ca6-92d1-827057eae7f6",
   "metadata": {},
   "outputs": [],
   "source": []
  }
 ],
 "metadata": {
  "kernelspec": {
   "display_name": "Python 3 (ipykernel)",
   "language": "python",
   "name": "python3"
  },
  "language_info": {
   "codemirror_mode": {
    "name": "ipython",
    "version": 3
   },
   "file_extension": ".py",
   "mimetype": "text/x-python",
   "name": "python",
   "nbconvert_exporter": "python",
   "pygments_lexer": "ipython3",
   "version": "3.12.10"
  }
 },
 "nbformat": 4,
 "nbformat_minor": 5
}
