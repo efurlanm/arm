{
 "cells": [
  {
   "cell_type": "markdown",
   "id": "bb150455-46e0-4fb6-b96a-7fe0103b905c",
   "metadata": {},
   "source": [
    "# Gcc ARM64 Minimal\n",
    "\n",
    "2025-06-14"
   ]
  },
  {
   "cell_type": "code",
   "execution_count": 23,
   "id": "ede1f2ad-36aa-4581-a47d-65024bbc081f",
   "metadata": {},
   "outputs": [
    {
     "name": "stdout",
     "output_type": "stream",
     "text": [
      "Overwriting tiny.c\n"
     ]
    }
   ],
   "source": [
    "%%writefile tiny.c\n",
    "extern void _exit(int);\n",
    "\n",
    "void _start(void) {\n",
    "    _exit(42); \n",
    "}"
   ]
  },
  {
   "cell_type": "code",
   "execution_count": 48,
   "id": "0ef5b2a6-fc77-4bf1-810e-a0e612964733",
   "metadata": {},
   "outputs": [
    {
     "name": "stdout",
     "output_type": "stream",
     "text": [
      "Overwriting tiny.asm\n"
     ]
    }
   ],
   "source": [
    "%%writefile tiny.asm\n",
    "    .global _exit\n",
    "    .text\n",
    "_exit:\n",
    "    /* syscall exit (int status) */\n",
    "    mov    w8, #93  /* exit is syscall #1 */\n",
    "    svc    #0"
   ]
  },
  {
   "cell_type": "code",
   "execution_count": 49,
   "id": "a641346f-6eb1-4ff4-a553-132ec868de90",
   "metadata": {},
   "outputs": [],
   "source": [
    "! as tiny.asm -o tiny.o"
   ]
  },
  {
   "cell_type": "code",
   "execution_count": 50,
   "id": "8359d3e8-5e47-4be9-a0b2-e0840b165845",
   "metadata": {},
   "outputs": [],
   "source": [
    "! gcc -Wall -Os -c tiny.c -o tiny_c.o"
   ]
  },
  {
   "cell_type": "code",
   "execution_count": 51,
   "id": "b8eac5c4-0117-4789-93f4-01fb3d5fc019",
   "metadata": {},
   "outputs": [],
   "source": [
    "! ld tiny.o tiny_c.o -o a.out "
   ]
  },
  {
   "cell_type": "code",
   "execution_count": 52,
   "id": "a1ba0434-1a94-4bb9-b2d1-b8b2d497950d",
   "metadata": {},
   "outputs": [],
   "source": [
    "! strip -R .eh_frame -R.comment a.out"
   ]
  },
  {
   "cell_type": "code",
   "execution_count": 53,
   "id": "b7351d36-8ede-4f50-9794-f71f63179062",
   "metadata": {},
   "outputs": [],
   "source": [
    "! objcopy -O binary a.out a.bin"
   ]
  },
  {
   "cell_type": "code",
   "execution_count": 54,
   "id": "de4e191d-121f-43e6-b889-652d506c7c50",
   "metadata": {},
   "outputs": [
    {
     "name": "stdout",
     "output_type": "stream",
     "text": [
      "24 a.bin\n"
     ]
    }
   ],
   "source": [
    "! wc -c a.bin"
   ]
  },
  {
   "cell_type": "code",
   "execution_count": 55,
   "id": "ad044f50-2816-4cf3-bcb4-abe0e01a620d",
   "metadata": {},
   "outputs": [
    {
     "name": "stdout",
     "output_type": "stream",
     "text": [
      "42\n"
     ]
    }
   ],
   "source": [
    "! ./a.out ; echo $?"
   ]
  },
  {
   "cell_type": "code",
   "execution_count": 56,
   "id": "2bcb8f0d-8d8b-4c4d-b53c-10662a611744",
   "metadata": {},
   "outputs": [
    {
     "name": "stdout",
     "output_type": "stream",
     "text": [
      "00000000  a8 0b 80 52 01 00 00 d4  fd 7b bf a9 40 05 80 52  |...R.....{..@..R|\n",
      "00000010  fd 03 00 91 fb ff ff 97                           |........|\n",
      "00000018\n"
     ]
    }
   ],
   "source": [
    "! hexdump -C a.bin"
   ]
  },
  {
   "cell_type": "code",
   "execution_count": 57,
   "id": "f1116357-afca-4ceb-9265-4b41b59d4b01",
   "metadata": {},
   "outputs": [
    {
     "name": "stdout",
     "output_type": "stream",
     "text": [
      "\n",
      "a.bin:     file format binary\n",
      "\n",
      "\n",
      "Disassembly of section .data:\n",
      "\n",
      "0000000000000000 <.data>:\n",
      "   0:\t52800ba8 \tmov\tw8, #0x5d                  \t// #93\n",
      "   4:\td4000001 \tsvc\t#0x0\n",
      "   8:\ta9bf7bfd \tstp\tx29, x30, [sp, #-16]!\n",
      "   c:\t52800540 \tmov\tw0, #0x2a                  \t// #42\n",
      "  10:\t910003fd \tmov\tx29, sp\n",
      "  14:\t97fffffb \tbl\t0x0\n"
     ]
    }
   ],
   "source": [
    "! objdump -D -b binary -m aarch64 a.bin"
   ]
  },
  {
   "cell_type": "code",
   "execution_count": null,
   "id": "3a44d52a-1920-4d69-ad66-16c98c2fe3e0",
   "metadata": {},
   "outputs": [],
   "source": []
  }
 ],
 "metadata": {
  "kernelspec": {
   "display_name": "Python 3 (ipykernel)",
   "language": "python",
   "name": "python3"
  },
  "language_info": {
   "codemirror_mode": {
    "name": "ipython",
    "version": 3
   },
   "file_extension": ".py",
   "mimetype": "text/x-python",
   "name": "python",
   "nbconvert_exporter": "python",
   "pygments_lexer": "ipython3",
   "version": "3.12.10"
  }
 },
 "nbformat": 4,
 "nbformat_minor": 5
}
