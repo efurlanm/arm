{
 "cells": [
  {
   "cell_type": "markdown",
   "id": "e722921e-afff-45ac-88f6-a352ca03728f",
   "metadata": {},
   "source": [
    "# Environment (Termux)"
   ]
  },
  {
   "cell_type": "markdown",
   "id": "b53ab345-95dd-45bc-a1fb-3995058ad425",
   "metadata": {},
   "source": [
    "The processor/soc is: Snapdragon 730 2x Cortex-A76 + 6x Cortex-A55 NEON ARMv8.2-A"
   ]
  },
  {
   "cell_type": "code",
   "execution_count": 13,
   "id": "130ebb8a-32c8-4e80-ab49-ab84e1276b6f",
   "metadata": {
    "scrolled": true
   },
   "outputs": [
    {
     "name": "stdout",
     "output_type": "stream",
     "text": [
      "Checking availability of current mirror:\n",
      "[*] https://repository.su/termux/termux-main/: ok\n",
      "Hit:1 https://turdl.kcubeterm.com tur-packages InRelease\n",
      "Hit:2 https://repository.su/termux/termux-main stable InRelease\n",
      "Reading package lists... Done\n",
      "Building dependency tree... Done\n",
      "Reading state information... Done\n",
      "All packages are up to date.\n",
      "Reading package lists... Done\n",
      "Building dependency tree... Done\n",
      "Reading state information... Done\n",
      "The following NEW packages will be installed:\n",
      "  inxi\n",
      "0 upgraded, 1 newly installed, 0 to remove and 0 not upgraded.\n",
      "Need to get 349 kB of archives.\n",
      "After this operation, 1458 kB of additional disk space will be used.\n",
      "Get:1 https://repository.su/termux/termux-main stable/main aarch64 inxi all 3.3.38-1-0 [349 kB]\n",
      "Fetched 349 kB in 3s (134 kB/s)[0m\u001b[33mm\n",
      "\n",
      "\u001b7\u001b[0;23r\u001b8\u001b[1ASelecting previously unselected package inxi.\n",
      "(Reading database ... 24582 files and directories currently installed.)\n",
      "Preparing to unpack .../inxi_3.3.38-1-0_all.deb ...\n",
      "\u001b7\u001b[24;0f\u001b[42m\u001b[30mProgress: [  0%]\u001b[49m\u001b[39m [..........................................................] \u001b8\u001b7\u001b[24;0f\u001b[42m\u001b[30mProgress: [ 20%]\u001b[49m\u001b[39m [###########...............................................] \u001b8Unpacking inxi (3.3.38-1-0) ...\n",
      "\u001b7\u001b[24;0f\u001b[42m\u001b[30mProgress: [ 40%]\u001b[49m\u001b[39m [#######################...................................] \u001b8Setting up inxi (3.3.38-1-0) ...\n",
      "\u001b7\u001b[24;0f\u001b[42m\u001b[30mProgress: [ 60%]\u001b[49m\u001b[39m [##################################........................] \u001b8\u001b7\u001b[24;0f\u001b[42m\u001b[30mProgress: [ 80%]\u001b[49m\u001b[39m [##############################################............] \u001b8\n",
      "\u001b7\u001b[0;24r\u001b8\u001b[1A\u001b[J"
     ]
    }
   ],
   "source": [
    "! pkg install inxi -y"
   ]
  },
  {
   "cell_type": "code",
   "execution_count": 1,
   "id": "0c6af441-0936-4fef-84fc-4555762e2721",
   "metadata": {},
   "outputs": [
    {
     "name": "stdout",
     "output_type": "stream",
     "text": [
      "\u001b[1;34mCPU:\u001b[0m 2x 6-core AArch64 (-MCP AMP-) \u001b[1;34mspeed/min/max:\u001b[0m 576/300/1805:2208 MHz\u001b[0m\n",
      "\u001b[1;34mKernel:\u001b[0m 4.14.190-27200287-abA715FXXSADXA2 aarch64 \u001b[1;34mUp:\u001b[0m 79d 13h 50m\u001b[0m\n",
      "\u001b[1;34mMem:\u001b[0m 3.11/5.4 GiB (57.7%) \u001b[1;34mStorage:\u001b[0m 113.71 GiB/Total N/A \u001b[1;34mProcs:\u001b[0m 8\u001b[0m\n",
      "\u001b[1;34mShell:\u001b[0m python3.12 \u001b[1;34minxi:\u001b[0m 3.3.38\u001b[0m\n"
     ]
    }
   ],
   "source": [
    "! inxi"
   ]
  },
  {
   "cell_type": "code",
   "execution_count": 2,
   "id": "f191f3d5-6fd1-4259-abaa-63454d46dc97",
   "metadata": {},
   "outputs": [
    {
     "name": "stdout",
     "output_type": "stream",
     "text": [
      "\u001b[1;34mCPU:\u001b[0m\n",
      "  \u001b[1;34mInfo:\u001b[0m 2x 6-core \u001b[1;34mmodel:\u001b[0m AArch64 \u001b[1;34mbits:\u001b[0m 64 \u001b[1;34mtype:\u001b[0m MCP AMP\u001b[0m\n",
      "  \u001b[1;34mSpeed (MHz):\u001b[0m \u001b[1;34mavg:\u001b[0m 576 \u001b[1;34mmin/max:\u001b[0m 300/1805:2208 \u001b[1;34mcores:\u001b[0m \u001b[1;34m1:\u001b[0m 576 \u001b[1;34m2:\u001b[0m 576 \u001b[1;34m3:\u001b[0m 576\u001b[0m\n",
      "    \u001b[1;34m4:\u001b[0m 576 \u001b[1;34m5:\u001b[0m 576 \u001b[1;34m6:\u001b[0m 576 \u001b[1;34m7:\u001b[0m 576 \u001b[1;34m8:\u001b[0m 576\u001b[0m\n",
      "  \u001b[0m\u001b[1;34mFeatures:\u001b[0m aes asimd asimddp asimdhp asimdrdm atomics cpuid crc32 dcpop\u001b[0m\n",
      "    \u001b[0mevtstrm fp fphp lrcpc pmull sha1 sha2\u001b[0m\n"
     ]
    }
   ],
   "source": [
    "! inxi -Cf"
   ]
  },
  {
   "cell_type": "code",
   "execution_count": 3,
   "id": "6b953313-24b8-4d78-a7a8-7b23c9cbc60b",
   "metadata": {},
   "outputs": [
    {
     "name": "stdout",
     "output_type": "stream",
     "text": [
      "\u001b[1;34mSystem:\u001b[0m\n",
      "  \u001b[1;34mHost:\u001b[0m localhost \u001b[1;34mKernel:\u001b[0m 4.14.190-27200287-abA715FXXSADXA2 \u001b[1;34march:\u001b[0m aarch64\u001b[0m\n",
      "    \u001b[1;34mbits:\u001b[0m 64\u001b[0m\n",
      "  \u001b[1;34mConsole:\u001b[0m pty pts/1 \u001b[1;34mDistro:\u001b[0m Android\u001b[0m\n",
      "\u001b[1;34mMachine:\u001b[0m\n",
      "  \u001b[1;34mType:\u001b[0m ARM \u001b[1;34mSystem:\u001b[0m Qualcomm SDMMAGPIE\u001b[0m\n",
      "\u001b[1;34mCPU:\u001b[0m\n",
      "  \u001b[1;34mInfo:\u001b[0m 2x 6-core \u001b[1;34mmodel:\u001b[0m AArch64 \u001b[1;34mbits:\u001b[0m 64 \u001b[1;34mtype:\u001b[0m MCP AMP\u001b[0m\n",
      "  \u001b[1;34mSpeed (MHz):\u001b[0m \u001b[1;34mavg:\u001b[0m 576 \u001b[1;34mmin/max:\u001b[0m 300/1805:2208 \u001b[1;34mcores:\u001b[0m \u001b[1;34m1:\u001b[0m 576 \u001b[1;34m2:\u001b[0m 576 \u001b[1;34m3:\u001b[0m 576\u001b[0m\n",
      "    \u001b[1;34m4:\u001b[0m 576 \u001b[1;34m5:\u001b[0m 576 \u001b[1;34m6:\u001b[0m 576 \u001b[1;34m7:\u001b[0m 576 \u001b[1;34m8:\u001b[0m 576\u001b[0m\n",
      "\u001b[1;34mGraphics:\u001b[0m\n",
      "  \u001b[1;34mMessage:\u001b[0m No ARM data found for this feature.\u001b[0m\n",
      "  \u001b[1;34mDisplay:\u001b[0m \u001b[1;34mserver:\u001b[0m No display server data found. Headless machine?\u001b[0m\n",
      "    \u001b[1;34mtty:\u001b[0m 80x40\u001b[0m\n",
      "  \u001b[1;34mAPI:\u001b[0m N/A \u001b[1;34mMessage:\u001b[0m No API data available in console. Headless machine?\u001b[0m\n",
      "  \u001b[1;34mInfo:\u001b[0m \u001b[1;34mTools:\u001b[0m No graphics tools found.\u001b[0m\n",
      "\u001b[1;34mAudio:\u001b[0m\n",
      "  \u001b[1;34mMessage:\u001b[0m No ARM data found for this feature.\u001b[0m\n",
      "\u001b[1;34mNetwork:\u001b[0m\n",
      "  \u001b[1;34mMessage:\u001b[0m No ARM data found for this feature.\u001b[0m\n",
      "\u001b[1;34mDrives:\u001b[0m\n",
      "  \u001b[1;34mLocal Storage:\u001b[0m \u001b[1;34mtotal:\u001b[0m 0 KiB \u001b[1;34mused:\u001b[0m 113.68 GiB\u001b[0m\n",
      "\u001b[1;34mPartition:\u001b[0m\n",
      "  \u001b[1;34mID-1:\u001b[0m / \u001b[1;34msize:\u001b[0m 4.93 GiB \u001b[1;34mused:\u001b[0m 4.91 GiB (99.5%) \u001b[1;34mfs:\u001b[0m n/a \u001b[1;34mdev:\u001b[0m /dev/dm-4\u001b[0m\n",
      "  \u001b[1;34mID-2:\u001b[0m /cache \u001b[1;34msize:\u001b[0m 389.7 MiB \u001b[1;34mused:\u001b[0m 21.7 MiB (5.6%) \u001b[1;34mfs:\u001b[0m n/a \u001b[1;34mdev:\u001b[0m /dev/sda28\u001b[0m\n",
      "  \u001b[1;34mID-3:\u001b[0m /data \u001b[1;34msize:\u001b[0m 109.65 GiB \u001b[1;34mused:\u001b[0m 53.06 GiB (48.4%) \u001b[1;34mfs:\u001b[0m n/a\u001b[0m\n",
      "    \u001b[1;34mdev:\u001b[0m /dev/sda32\u001b[0m\n",
      "\u001b[1;34mSwap:\u001b[0m\n",
      "  \u001b[1;34mAlert:\u001b[0m No swap data was found.\u001b[0m\n",
      "\u001b[1;34mSensors:\u001b[0m\n",
      "  \u001b[1;34mSrc:\u001b[0m /sys \u001b[1;34mMessage:\u001b[0m No sensor data found in /sys/class/hwmon.\u001b[0m\n",
      "\u001b[1;34mInfo:\u001b[0m\n",
      "  \u001b[1;34mMemory:\u001b[0m \u001b[1;34mtotal:\u001b[0m N/A \u001b[1;34mavailable:\u001b[0m 5.4 GiB \u001b[1;34mused:\u001b[0m 3.12 GiB (57.9%)\u001b[0m\n",
      "  \u001b[1;34mProcesses:\u001b[0m 8 \u001b[1;34mUptime:\u001b[0m 79d 13h 51m \u001b[1;34mInit:\u001b[0m N/A \u001b[1;34mShell:\u001b[0m python3.12 \u001b[1;34minxi:\u001b[0m 3.3.38\u001b[0m\n"
     ]
    }
   ],
   "source": [
    "! inxi -F"
   ]
  },
  {
   "cell_type": "code",
   "execution_count": null,
   "id": "3074a8e5-584a-41a9-80cd-b2169048ce23",
   "metadata": {},
   "outputs": [],
   "source": []
  }
 ],
 "metadata": {
  "kernelspec": {
   "display_name": "Python 3 (ipykernel)",
   "language": "python",
   "name": "python3"
  },
  "language_info": {
   "codemirror_mode": {
    "name": "ipython",
    "version": 3
   },
   "file_extension": ".py",
   "mimetype": "text/x-python",
   "name": "python",
   "nbconvert_exporter": "python",
   "pygments_lexer": "ipython3",
   "version": "3.12.10"
  }
 },
 "nbformat": 4,
 "nbformat_minor": 5
}
