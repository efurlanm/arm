{
 "cells": [
  {
   "cell_type": "markdown",
   "id": "36c35180-187d-49d5-8db1-8de0821e7556",
   "metadata": {},
   "source": [
    "# GFortran AArch64 minimal\n",
    "\n",
    "2025-06-12"
   ]
  },
  {
   "cell_type": "code",
   "execution_count": 1,
   "id": "3da5d07a-9401-4f88-95fa-1f53839d1602",
   "metadata": {},
   "outputs": [
    {
     "name": "stdout",
     "output_type": "stream",
     "text": [
      "GNU Fortran (Ubuntu 13.3.0-6ubuntu2~24.04) 13.3.0\n",
      "Copyright (C) 2023 Free Software Foundation, Inc.\n",
      "This is free software; see the source for copying conditions.  There is NO\n",
      "warranty; not even for MERCHANTABILITY or FITNESS FOR A PARTICULAR PURPOSE.\n",
      "\n"
     ]
    }
   ],
   "source": [
    "! gfortran --version"
   ]
  },
  {
   "cell_type": "code",
   "execution_count": 2,
   "id": "012b5be4-bbba-4041-b5a4-32be75de64a3",
   "metadata": {},
   "outputs": [
    {
     "name": "stdout",
     "output_type": "stream",
     "text": [
      "GNU assembler (GNU Binutils for Ubuntu) 2.42\n",
      "Copyright (C) 2024 Free Software Foundation, Inc.\n",
      "This program is free software; you may redistribute it under the terms of\n",
      "the GNU General Public License version 3 or later.\n",
      "This program has absolutely no warranty.\n",
      "This assembler was configured for a target of `aarch64-linux-gnu'.\n"
     ]
    }
   ],
   "source": [
    "! as --version"
   ]
  },
  {
   "cell_type": "code",
   "execution_count": 77,
   "id": "7389716e-6324-48d9-9be2-0b8244abd409",
   "metadata": {},
   "outputs": [
    {
     "name": "stdout",
     "output_type": "stream",
     "text": [
      "GNU ld (GNU Binutils for Ubuntu) 2.42\n",
      "Copyright (C) 2024 Free Software Foundation, Inc.\n",
      "This program is free software; you may redistribute it under the terms of\n",
      "the GNU General Public License version 3 or (at your option) a later version.\n",
      "This program has absolutely no warranty.\n"
     ]
    }
   ],
   "source": [
    "! ld --version"
   ]
  },
  {
   "cell_type": "code",
   "execution_count": 4,
   "id": "d6a01636-0f8e-4ec0-8e9b-2b71d8e17950",
   "metadata": {},
   "outputs": [
    {
     "name": "stdout",
     "output_type": "stream",
     "text": [
      "gcc (Ubuntu 13.3.0-6ubuntu2~24.04) 13.3.0\n",
      "Copyright (C) 2023 Free Software Foundation, Inc.\n",
      "This is free software; see the source for copying conditions.  There is NO\n",
      "warranty; not even for MERCHANTABILITY or FITNESS FOR A PARTICULAR PURPOSE.\n",
      "\n"
     ]
    }
   ],
   "source": [
    "! gcc --version"
   ]
  },
  {
   "cell_type": "code",
   "execution_count": 219,
   "id": "2f576d92-029e-432c-a700-c0b1170b734a",
   "metadata": {},
   "outputs": [
    {
     "name": "stdout",
     "output_type": "stream",
     "text": [
      "Overwriting entry.s\n"
     ]
    }
   ],
   "source": [
    "%%writefile entry.s\n",
    "/*\n",
    " * entry.s\n",
    " *\n",
    " * This is the actual entry point of our executable for Linux AArch64.\n",
    " * It's crucial for setting up the minimal environment before your Fortran code runs.\n",
    " *\n",
    " */\n",
    "    .global _start  // Makes the _start label visible to the linker. This is where execution begins.\n",
    "    .text           // Places the following code in the executable .text section.\n",
    "\n",
    "_start:\n",
    "    /* 1. Align the stack to a 16-byte boundary.\n",
    "     * This step is vital for complying with the AArch64 ABI (Application Binary Interface).\n",
    "     * We use a 4-instruction workaround due to specific assembler limitations previously encountered.\n",
    "     */\n",
    "    mov       x0, sp                  // Copy the current Stack Pointer (sp) value into x0.\n",
    "    mov       x1, #0xFFFFFFFFFFFFFFF0 // Load the 16-byte alignment mask into x1.\n",
    "    and       x0, x0, x1              // Apply the mask to x0.\n",
    "    mov       sp, x0                  // Copy the aligned address back to sp.\n",
    "\n",
    "    /* 2. Call our Fortran function.\n",
    "     * Now that the stack is properly aligned, the 'fortran_main' function can execute correctly.\n",
    "     * 'bl' (Branch with Link) saves the return address in the Link Register (lr/x30).\n",
    "     */\n",
    "    bl        fortran_main            // Call the fortran_main function. Its return value (42) will be placed in x0/w0.\n",
    "\n",
    "    /* 3. Prepare for the 'exit' system call.\n",
    "     * The return value from 'fortran_main' (42) is already correctly in x0/w0, which is\n",
    "     * where the 'exit' syscall expects its status argument.\n",
    "     */\n",
    "\n",
    "    /* Put the syscall number for 'exit' (93) into register w8. */\n",
    "    mov       w8, #93                 // Linux AArch64 syscall convention: syscall number goes into w8/x8.\n",
    "\n",
    "    /* 4. Invoke the kernel to perform the system call. */\n",
    "    svc       #0                      // 'Supervisor Call' instruction. This traps into the kernel, which then executes the 'exit' syscall based on w8 and x0.\n",
    "    #0                              // This is an extraneous comment or instruction. It won't be executed as the program terminates after 'svc #0'."
   ]
  },
  {
   "cell_type": "code",
   "execution_count": 226,
   "id": "e63bd0b9-3e6d-40d8-bdae-fa89a9492024",
   "metadata": {},
   "outputs": [],
   "source": [
    "! as entry.s -o entry.o"
   ]
  },
  {
   "cell_type": "markdown",
   "id": "c1c5368d-ff3b-4726-8543-7552ee74b056",
   "metadata": {},
   "source": [
    "Why a FUNCTION instead of a PROGRAM?\n",
    "-----------------------------------\n",
    "\n",
    "1. **External Control**: A standard Fortran PROGRAM block is designed to be\n",
    "   the primary entry point for a standalone Fortran application. It has\n",
    "   its own built-in startup and shutdown routines managed by the Fortran\n",
    "   runtime library.\n",
    "3. **Minimal Executable Size**: Our goal is to create the smallest possible\n",
    "   executable by writing our own `_start` entry point in Assembly. This\n",
    "   Assembly code handles the very basic setup (like stack alignment) and\n",
    "   then directly calls a specific function.\n",
    "4. **Avoiding Fortran Runtime Overhead**: If we used a `PROGRAM` block,\n",
    "  the gfortran compiler would automatically link in much more of the\n",
    "   Fortran runtime library (libgfortran.a) and its own startup code.\n",
    "   This would significantly increase the executable size, which goes\n",
    "   against our goal of creating a \"tiny\" executable.\n",
    "5. **C Interoperability (bind(C))**: By defining `fortran_main` as a\n",
    "   `FUNCTION` and using `bind(C, name='fortran_main')`, we tell gfortran\n",
    "   to create a function that follows the C calling conventions. This means\n",
    "   its name in the object file will be exactly `fortran_main` (without\n",
    "   any Fortran-specific mangling like underscores or case changes), making\n",
    "  it easy for our Assembly `_start` routine to call it directly.\n"
   ]
  },
  {
   "cell_type": "code",
   "execution_count": 93,
   "id": "d0f19702-1df4-4485-9113-8cb07ec2c4ae",
   "metadata": {},
   "outputs": [
    {
     "name": "stdout",
     "output_type": "stream",
     "text": [
      "Overwriting tiny_main.f90\n"
     ]
    }
   ],
   "source": [
    "%%writefile tiny_main.f90\n",
    "! This is our Fortran \"payload\".\n",
    "! It's not a PROGRAM, but a FUNCTION, so it can be called from elsewhere.\n",
    "! We use bind(C) to ensure the symbol name in the object file\n",
    "! is exactly \"fortran_main\", without any suffixes or case changes\n",
    "! that gfortran might otherwise add.\n",
    "\n",
    "integer function fortran_main() bind(C, name='fortran_main')\n",
    "    implicit none  ! Requires all variables to be explicitly declared.\n",
    "    fortran_main = 42 ! Assigns the value 42 as the return value of the function.\n",
    "end function fortran_main"
   ]
  },
  {
   "cell_type": "code",
   "execution_count": 225,
   "id": "38388a5c-b008-407e-b8d5-a06577fc64ff",
   "metadata": {},
   "outputs": [],
   "source": [
    "! gfortran -Os -c tiny_main.f90 -o tiny_main.o"
   ]
  },
  {
   "cell_type": "code",
   "execution_count": 227,
   "id": "4d0ad795-6226-435d-9dd0-0ce38701fd3d",
   "metadata": {},
   "outputs": [],
   "source": [
    "! ld -o a.out entry.o tiny_main.o --nmagic --strip-all"
   ]
  },
  {
   "cell_type": "code",
   "execution_count": 228,
   "id": "41320ead-7be2-47ae-ab1a-27f1ac4878eb",
   "metadata": {},
   "outputs": [],
   "source": [
    "! strip -R .eh_frame -R.comment a.out"
   ]
  },
  {
   "cell_type": "code",
   "execution_count": 229,
   "id": "8675ef2f-ed1e-4373-82ee-915d31e3779f",
   "metadata": {},
   "outputs": [
    {
     "name": "stdout",
     "output_type": "stream",
     "text": [
      "424 a.out\n"
     ]
    }
   ],
   "source": [
    "! wc -c a.out"
   ]
  },
  {
   "cell_type": "code",
   "execution_count": 230,
   "id": "ea2b52f7-881d-4138-9ba2-8734985567d8",
   "metadata": {},
   "outputs": [
    {
     "name": "stdout",
     "output_type": "stream",
     "text": [
      "a.out: ELF 64-bit LSB executable, ARM aarch64, version 1 (SYSV), statically linked, stripped\n"
     ]
    }
   ],
   "source": [
    "! file a.out"
   ]
  },
  {
   "cell_type": "code",
   "execution_count": 231,
   "id": "bc7eb96b-25cf-490e-a1df-b250f14e40cc",
   "metadata": {},
   "outputs": [
    {
     "name": "stdout",
     "output_type": "stream",
     "text": [
      "42\n"
     ]
    }
   ],
   "source": [
    "! ./a.out ; echo $?"
   ]
  },
  {
   "cell_type": "code",
   "execution_count": 232,
   "id": "476e9b7a-b222-4972-85bb-bdb616dbb6d4",
   "metadata": {},
   "outputs": [
    {
     "name": "stdout",
     "output_type": "stream",
     "text": [
      "   text\t   data\t    bss\t    dec\t    hex\tfilename\n",
      "     36\t      0\t      0\t     36\t     24\ta.out\n"
     ]
    }
   ],
   "source": [
    "! size a.out"
   ]
  },
  {
   "cell_type": "code",
   "execution_count": 233,
   "id": "22079e1b-05a9-4896-aa94-2bd9c678854c",
   "metadata": {},
   "outputs": [
    {
     "name": "stdout",
     "output_type": "stream",
     "text": [
      "\n",
      "a.out:     file format elf64-littleaarch64\n",
      "\n",
      "\n",
      "Disassembly of section .text:\n",
      "\n",
      "00000000004000b0 <.text>:\n",
      "  4000b0:\t910003e0 \tmov\tx0, sp\n",
      "  4000b4:\t928001e1 \tmov\tx1, #0xfffffffffffffff0    \t// #-16\n",
      "  4000b8:\t8a010000 \tand\tx0, x0, x1\n",
      "  4000bc:\t9100001f \tmov\tsp, x0\n",
      "  4000c0:\t94000003 \tbl\t0x4000cc\n",
      "  4000c4:\t52800ba8 \tmov\tw8, #0x5d                  \t// #93\n",
      "  4000c8:\td4000001 \tsvc\t#0x0\n",
      "  4000cc:\t52800540 \tmov\tw0, #0x2a                  \t// #42\n",
      "  4000d0:\td65f03c0 \tret\n"
     ]
    }
   ],
   "source": [
    "! objdump -d a.out"
   ]
  },
  {
   "cell_type": "code",
   "execution_count": 234,
   "id": "3c0110cb-59d1-4e59-b521-42635a7bbc77",
   "metadata": {},
   "outputs": [
    {
     "name": "stdout",
     "output_type": "stream",
     "text": [
      "\n",
      "a.out:     file format elf64-littleaarch64\n",
      "\n",
      "Sections:\n",
      "Idx Name          Size      VMA               LMA               File off  Algn\n",
      "  0 .text         00000024  00000000004000b0  00000000004000b0  000000b0  2**2\n",
      "                  CONTENTS, ALLOC, LOAD, READONLY, CODE\n"
     ]
    }
   ],
   "source": [
    "! objdump -h a.out"
   ]
  },
  {
   "cell_type": "code",
   "execution_count": 235,
   "id": "06a44024-9747-43a3-8da1-ec458c425145",
   "metadata": {},
   "outputs": [
    {
     "name": "stdout",
     "output_type": "stream",
     "text": [
      "\n",
      "a.out:     file format elf64-littleaarch64\n",
      "\n",
      "Contents of section .text:\n",
      " 4000b0 e0030091 e1018092 0000018a 1f000091  ................\n",
      " 4000c0 03000094 a80b8052 010000d4 40058052  .......R....@..R\n",
      " 4000d0 c0035fd6                             .._.            \n"
     ]
    }
   ],
   "source": [
    "! objdump -s a.out"
   ]
  },
  {
   "cell_type": "code",
   "execution_count": 236,
   "id": "60d6329a-efe0-4ca5-9dab-c3f4359bb5b2",
   "metadata": {},
   "outputs": [
    {
     "name": "stdout",
     "output_type": "stream",
     "text": [
      "00000000  7f 45 4c 46 02 01 01 00  00 00 00 00 00 00 00 00  |.ELF............|\n",
      "00000010  02 00 b7 00 01 00 00 00  b0 00 40 00 00 00 00 00  |..........@.....|\n",
      "00000020  40 00 00 00 00 00 00 00  e8 00 00 00 00 00 00 00  |@...............|\n",
      "00000030  00 00 00 00 40 00 38 00  02 00 40 00 03 00 02 00  |....@.8...@.....|\n",
      "00000040  01 00 00 00 05 00 00 00  b0 00 00 00 00 00 00 00  |................|\n",
      "00000050  b0 00 40 00 00 00 00 00  b0 00 40 00 00 00 00 00  |..@.......@.....|\n",
      "00000060  24 00 00 00 00 00 00 00  24 00 00 00 00 00 00 00  |$.......$.......|\n",
      "00000070  08 00 00 00 00 00 00 00  51 e5 74 64 06 00 00 00  |........Q.td....|\n",
      "00000080  00 00 00 00 00 00 00 00  00 00 00 00 00 00 00 00  |................|\n",
      "*\n",
      "000000a0  00 00 00 00 00 00 00 00  08 00 00 00 00 00 00 00  |................|\n",
      "000000b0  e0 03 00 91 e1 01 80 92  00 00 01 8a 1f 00 00 91  |................|\n",
      "000000c0  03 00 00 94 a8 0b 80 52  01 00 00 d4 40 05 80 52  |.......R....@..R|\n",
      "000000d0  c0 03 5f d6 00 2e 73 68  73 74 72 74 61 62 00 2e  |.._...shstrtab..|\n",
      "000000e0  74 65 78 74 00 00 00 00  00 00 00 00 00 00 00 00  |text............|\n",
      "000000f0  00 00 00 00 00 00 00 00  00 00 00 00 00 00 00 00  |................|\n",
      "*\n",
      "00000120  00 00 00 00 00 00 00 00  0b 00 00 00 01 00 00 00  |................|\n",
      "00000130  06 00 00 00 00 00 00 00  b0 00 40 00 00 00 00 00  |..........@.....|\n",
      "00000140  b0 00 00 00 00 00 00 00  24 00 00 00 00 00 00 00  |........$.......|\n",
      "00000150  00 00 00 00 00 00 00 00  04 00 00 00 00 00 00 00  |................|\n",
      "00000160  00 00 00 00 00 00 00 00  01 00 00 00 03 00 00 00  |................|\n",
      "00000170  00 00 00 00 00 00 00 00  00 00 00 00 00 00 00 00  |................|\n",
      "00000180  d4 00 00 00 00 00 00 00  11 00 00 00 00 00 00 00  |................|\n",
      "00000190  00 00 00 00 00 00 00 00  01 00 00 00 00 00 00 00  |................|\n",
      "000001a0  00 00 00 00 00 00 00 00                           |........|\n",
      "000001a8\n"
     ]
    }
   ],
   "source": [
    "! hexdump -C a.out"
   ]
  },
  {
   "cell_type": "code",
   "execution_count": 237,
   "id": "371e0270-d0f8-4d71-874e-53a696ee7786",
   "metadata": {},
   "outputs": [
    {
     "name": "stdout",
     "output_type": "stream",
     "text": [
      "\n",
      "a.out:     file format elf64-littleaarch64\n",
      "\n",
      "\n",
      "Disassembly of section .text:\n",
      "\n",
      "00000000004000b0 <.text>:\n",
      "  4000b0:\t910003e0 \tmov\tx0, sp\n",
      "  4000b4:\t928001e1 \tmov\tx1, #0xfffffffffffffff0    \t// #-16\n",
      "  4000b8:\t8a010000 \tand\tx0, x0, x1\n",
      "  4000bc:\t9100001f \tmov\tsp, x0\n",
      "  4000c0:\t94000003 \tbl\t0x4000cc\n",
      "  4000c4:\t52800ba8 \tmov\tw8, #0x5d                  \t// #93\n",
      "  4000c8:\td4000001 \tsvc\t#0x0\n",
      "  4000cc:\t52800540 \tmov\tw0, #0x2a                  \t// #42\n",
      "  4000d0:\td65f03c0 \tret\n"
     ]
    }
   ],
   "source": [
    "! objdump -d a.out"
   ]
  },
  {
   "cell_type": "code",
   "execution_count": null,
   "id": "fa46e98f-9cc6-4533-bf9a-73b36caba269",
   "metadata": {},
   "outputs": [],
   "source": []
  }
 ],
 "metadata": {
  "kernelspec": {
   "display_name": "Python 3 (ipykernel)",
   "language": "python",
   "name": "python3"
  },
  "language_info": {
   "codemirror_mode": {
    "name": "ipython",
    "version": 3
   },
   "file_extension": ".py",
   "mimetype": "text/x-python",
   "name": "python",
   "nbconvert_exporter": "python",
   "pygments_lexer": "ipython3",
   "version": "3.12.10"
  }
 },
 "nbformat": 4,
 "nbformat_minor": 5
}
