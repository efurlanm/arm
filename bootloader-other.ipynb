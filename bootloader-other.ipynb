{
 "cells": [
  {
   "cell_type": "markdown",
   "id": "cefc2a89-d78b-4dcd-ae31-f57d28215c5f",
   "metadata": {},
   "source": [
    "# Bootloader ARM64\n",
    "\n",
    "2025-06-15"
   ]
  },
  {
   "cell_type": "markdown",
   "id": "b05f1628-4b04-4b8e-9113-b019cb9dde71",
   "metadata": {},
   "source": [
    "340-byte bootloader:"
   ]
  },
  {
   "cell_type": "code",
   "execution_count": 110,
   "id": "1ee3ed16-98b6-43ad-a793-a81a2c2d4c9f",
   "metadata": {},
   "outputs": [
    {
     "name": "stdout",
     "output_type": "stream",
     "text": [
      "Overwriting bootloader.s\n"
     ]
    }
   ],
   "source": [
    "%%writefile bootloader.s\n",
    "// Compact AArch64 Forth-inspired Bootloader\n",
    "// Commands: 0x01 (store next byte), 0x00 (execute buffer)\n",
    "// QEMU virt machine (PL011 UART)\n",
    "\n",
    ".global _start\n",
    ".section .text\n",
    "\n",
    ".set UART_BASE,    0x09000000\n",
    ".set UART_FR,      0x09000018\n",
    ".set UART_FR_RXFE, (1 << 4)\n",
    ".set EXEC_BUFFER,  0x40001000\n",
    "\n",
    "_start:\n",
    "    movz x0, #0x4100, lsl #16    // Stack at 0x41000000\n",
    "    mov sp, x0\n",
    "    movz x19, #0x0900, lsl #16   // UART base\n",
    "    movz x20, #0x4000, lsl #16   // Buffer base\n",
    "    add x20, x20, #0x1000        // x20 = EXEC_BUFFER\n",
    "    mov x21, #0                  // Buffer offset\n",
    "    mov x22, #0                  // First connection flag\n",
    "\n",
    "main_loop:\n",
    "    add x2, x19, #0x18           // UART_FR address\n",
    "    ldr w3, [x2]\n",
    "    tst w3, #UART_FR_RXFE\n",
    "    b.ne main_loop               // Wait for data\n",
    "\n",
    "    cmp x22, #0                  // First connection?\n",
    "    b.ne skip_ready\n",
    "    bl send_ready\n",
    "    mov x22, #1\n",
    "\n",
    "skip_ready:\n",
    "    ldr w0, [x19]                // Read byte\n",
    "    and w0, w0, #0xFF\n",
    "    \n",
    "    cmp w0, #0x00\n",
    "    b.eq execute\n",
    "    cmp w0, #0x01\n",
    "    b.eq store_byte\n",
    "    b main_loop                  // Ignore other bytes\n",
    "\n",
    "execute:\n",
    "    bl send_exec\n",
    "    blr x20                      // Call stored code\n",
    "    bl send_done\n",
    "    mov x21, #0                  // Reset buffer\n",
    "    b main_loop\n",
    "\n",
    "store_byte:\n",
    "    add x2, x19, #0x18\n",
    "wait_byte:\n",
    "    ldr w3, [x2]\n",
    "    tst w3, #UART_FR_RXFE\n",
    "    b.ne wait_byte\n",
    "    \n",
    "    ldr w0, [x19]\n",
    "    and w0, w0, #0xFF\n",
    "    strb w0, [x20, x21]          // Store byte\n",
    "    add x21, x21, #1\n",
    "    \n",
    "    mov w0, #'*'                 // Send confirmation\n",
    "    str w0, [x19]\n",
    "    b main_loop\n",
    "\n",
    "send_ready:\n",
    "    stp x29, x30, [sp, #-16]!\n",
    "    mov w0, #'R'; str w0, [x19]\n",
    "    mov w0, #'e'; str w0, [x19]\n",
    "    mov w0, #'a'; str w0, [x19]\n",
    "    mov w0, #'d'; str w0, [x19]\n",
    "    mov w0, #'y'; str w0, [x19]\n",
    "    mov w0, #'!'; str w0, [x19]\n",
    "    mov w0, #10;  str w0, [x19]  // Newline\n",
    "    ldp x29, x30, [sp], #16\n",
    "    ret\n",
    "\n",
    "send_exec:\n",
    "    stp x29, x30, [sp, #-16]!\n",
    "    mov w0, #'E'; str w0, [x19]\n",
    "    mov w0, #'x'; str w0, [x19]\n",
    "    mov w0, #'e'; str w0, [x19]\n",
    "    mov w0, #'c'; str w0, [x19]\n",
    "    mov w0, #'!'; str w0, [x19]\n",
    "    mov w0, #10;  str w0, [x19]\n",
    "    ldp x29, x30, [sp], #16\n",
    "    ret\n",
    "\n",
    "send_done:\n",
    "    stp x29, x30, [sp, #-16]!\n",
    "    mov w0, #'D'; str w0, [x19]\n",
    "    mov w0, #'o'; str w0, [x19]\n",
    "    mov w0, #'n'; str w0, [x19]\n",
    "    mov w0, #'e'; str w0, [x19]\n",
    "    mov w0, #'!'; str w0, [x19]\n",
    "    mov w0, #10;  str w0, [x19]\n",
    "    ldp x29, x30, [sp], #16\n",
    "    ret"
   ]
  },
  {
   "cell_type": "code",
   "execution_count": 111,
   "id": "bc0f6bde-63a8-4398-beb4-c55ce70442d0",
   "metadata": {},
   "outputs": [
    {
     "name": "stdout",
     "output_type": "stream",
     "text": [
      "340 bootloader.img\n"
     ]
    }
   ],
   "source": [
    "%%bash\n",
    "as -o bootloader.o bootloader.s\n",
    "ld -Ttext=0x40000000 -o bootloader.elf bootloader.o\n",
    "objcopy -O binary bootloader.elf bootloader.img\n",
    "wc -c bootloader.img"
   ]
  },
  {
   "cell_type": "code",
   "execution_count": null,
   "id": "e23f9a0c-7fee-4902-9f63-e8eb9efed41e",
   "metadata": {},
   "outputs": [],
   "source": []
  },
  {
   "cell_type": "markdown",
   "id": "f377d21b-fc2d-495b-88e8-2e7e9b258bcc",
   "metadata": {},
   "source": [
    "84-byte bootloader:"
   ]
  },
  {
   "cell_type": "code",
   "execution_count": 102,
   "id": "49b43a1f-5b2b-48f8-9180-3770838ccbd0",
   "metadata": {},
   "outputs": [
    {
     "name": "stdout",
     "output_type": "stream",
     "text": [
      "Overwriting bootloader.s\n"
     ]
    }
   ],
   "source": [
    "%%writefile bootloader.s\n",
    "// Ultra-compact AArch64 bootloader: 0x01=store, 0x00=exec\n",
    ".global _start\n",
    "_start:\n",
    "    movz x19,#0x900,lsl#16       // UART base\n",
    "    movz x20,#0x4000,lsl#16      \n",
    "    add x20,x20,#0x1000          // Buffer at 0x40001000\n",
    "    mov x21,#0                   // Offset\n",
    "L:  add x2,x19,#24              // UART status\n",
    "    ldr w0,[x2]\n",
    "    tbnz w0,#4,L                 // Wait for RX data\n",
    "    ldr w0,[x19]                 // Read byte\n",
    "    cbz w0,X                     // 0x00 = execute\n",
    "    cmp w0,#1\n",
    "    b.ne L                       // Ignore if not 0x01\n",
    "S:  add x2,x19,#24              // Store mode\n",
    "    ldr w3,[x2]\n",
    "    tbnz w3,#4,S                 // Wait for next byte\n",
    "    ldr w0,[x19]\n",
    "    strb w0,[x20,x21]            // Store byte\n",
    "    add x21,x21,#1\n",
    "    b L\n",
    "X:  blr x20                     // Execute buffer\n",
    "    mov x21,#0                   // Reset\n",
    "    b L"
   ]
  },
  {
   "cell_type": "code",
   "execution_count": 103,
   "id": "4b914f09-05d2-4f7e-8425-06addab3c4aa",
   "metadata": {},
   "outputs": [
    {
     "name": "stdout",
     "output_type": "stream",
     "text": [
      "84 bootloader.img\n"
     ]
    }
   ],
   "source": [
    "%%bash\n",
    "as -o bootloader.o bootloader.s\n",
    "ld -Ttext=0x40000000 -o bootloader.elf bootloader.o\n",
    "objcopy -O binary bootloader.elf bootloader.img\n",
    "wc -c bootloader.img"
   ]
  },
  {
   "cell_type": "markdown",
   "id": "741307b4-4602-43ef-8be9-9fd5c2ebafa5",
   "metadata": {},
   "source": [
    "## The bootloader"
   ]
  },
  {
   "cell_type": "markdown",
   "id": "f8d47e06-5cc7-4166-a9af-9187c1e731ce",
   "metadata": {},
   "source": [
    "72-byte bootloader:"
   ]
  },
  {
   "cell_type": "code",
   "execution_count": 113,
   "id": "ad78d4e4-e8f6-462e-a671-e4f9461ea3d4",
   "metadata": {},
   "outputs": [
    {
     "name": "stdout",
     "output_type": "stream",
     "text": [
      "Overwriting bootloader.s\n"
     ]
    }
   ],
   "source": [
    "%%writefile bootloader.s\n",
    "// Minimal AArch64 bootloader \n",
    "// 0x01=compile, 0x00=execute (15 instructions, 72 bytes)\n",
    ".global _start\n",
    "_start:\n",
    "    movz x19,#0x900,lsl#16       // UART base\n",
    "    movz x20,#0x4000,lsl#16\n",
    "    orr x20,x20,#0x1000          // EXEC buffer\n",
    "    mov x21,x20                  // Code pointer\n",
    "L:  ldr w0,[x19,#24]             // Check UART status\n",
    "    tbnz w0,#4,L                 // Wait for RX data\n",
    "    ldr w0,[x19]                 // Read byte\n",
    "    cbz w0,X                     // 0=execute  \n",
    "    cmp w0,#1\n",
    "    b.ne L                       // Skip if not 1\n",
    "C:  ldr w0,[x19,#24]             // Wait for compile byte (restored)\n",
    "    tbnz w0,#4,C                 // Keep waiting\n",
    "    ldr w0,[x19]                 // Get compile byte\n",
    "    strb w0,[x21],#1             // Store & increment\n",
    "    b L\n",
    "X:  blr x20                      // Execute\n",
    "    mov x21,x20                  // Reset pointer\n",
    "    b L"
   ]
  },
  {
   "cell_type": "code",
   "execution_count": 114,
   "id": "4172fe6e-d47d-4afd-a1b1-faf61a37cd59",
   "metadata": {},
   "outputs": [
    {
     "name": "stdout",
     "output_type": "stream",
     "text": [
      "72 bootloader.img\n"
     ]
    }
   ],
   "source": [
    "%%bash\n",
    "as -o bootloader.o bootloader.s\n",
    "ld -Ttext=0x40000000 -o bootloader.elf bootloader.o\n",
    "objcopy -O binary bootloader.elf bootloader.img\n",
    "wc -c bootloader.img"
   ]
  },
  {
   "cell_type": "markdown",
   "id": "182e8dfd-2878-4ccd-a8fb-ef908181d391",
   "metadata": {},
   "source": [
    "Running on AMD64 host machine with qemu installed:\n",
    "\n",
    "    qemu-system-aarch64 \\\n",
    "    -machine virt \\\n",
    "    -cpu cortex-a53 \\\n",
    "    -nographic \\\n",
    "    -kernel bootloader.img \\\n",
    "    -serial tcp::44444,server,nowait \\\n",
    "    -monitor none\n",
    "\n",
    "Example:\n",
    "\n",
    "    printf '\\x01\\x00\\x01\\x09\\x01\\x80\\x01\\x52\\x01\\x60\\x01\\x02\\x01\\x00\\x01\\xB9\\x01\\xA0\\x01\\x0C\\x01\\x80\\x01\\x52\\x01\\x60\\x01\\x02\\x01\\x00\\x01\\xB9\\x01\\x80\\x01\\x0D\\x01\\x80\\x01\\x52\\x01\\x60\\x01\\x02\\x01\\x00\\x01\\xB9\\x01\\x80\\x01\\x0D\\x01\\x80\\x01\\x52\\x01\\x60\\x01\\x02\\x01\\x00\\x01\\xB9\\x01\\xE0\\x01\\x0D\\x01\\x80\\x01\\x52\\x01\\x60\\x01\\x02\\x01\\x00\\x01\\xB9\\x01\\x80\\x01\\x05\\x01\\x80\\x01\\x52\\x01\\x60\\x01\\x02\\x01\\x00\\x01\\xB9\\x01\\x00\\x01\\x04\\x01\\x80\\x01\\x52\\x01\\x60\\x01\\x02\\x01\\x00\\x01\\xB9\\x01\\xE0\\x01\\x0E\\x01\\x80\\x01\\x52\\x01\\x60\\x01\\x02\\x01\\x00\\x01\\xB9\\x01\\xE0\\x01\\x0D\\x01\\x80\\x01\\x52\\x01\\x60\\x01\\x02\\x01\\x00\\x01\\xB9\\x01\\x40\\x01\\x0E\\x01\\x80\\x01\\x52\\x01\\x60\\x01\\x02\\x01\\x00\\x01\\xB9\\x01\\x80\\x01\\x0D\\x01\\x80\\x01\\x52\\x01\\x60\\x01\\x02\\x01\\x00\\x01\\xB9\\x01\\x80\\x01\\x0C\\x01\\x80\\x01\\x52\\x01\\x60\\x01\\x02\\x01\\x00\\x01\\xB9\\x01\\x20\\x01\\x04\\x01\\x80\\x01\\x52\\x01\\x60\\x01\\x02\\x01\\x00\\x01\\xB9\\x01\\xA0\\x01\\x01\\x01\\x80\\x01\\x52\\x01\\x60\\x01\\x02\\x01\\x00\\x01\\xB9\\x01\\x40\\x01\\x01\\x01\\x80\\x01\\x52\\x01\\x60\\x01\\x02\\x01\\x00\\x01\\xB9\\x01\\xC0\\x01\\x03\\x01\\x5F\\x01\\xD6\\x00' | nc localhost 44444"
   ]
  },
  {
   "cell_type": "code",
   "execution_count": 106,
   "id": "02701f1c-0aa1-420c-8e03-712fbad86a53",
   "metadata": {},
   "outputs": [
    {
     "name": "stdout",
     "output_type": "stream",
     "text": [
      "   text\t   data\t    bss\t    dec\t    hex\tfilename\n",
      "     72\t      0\t      0\t     72\t     48\tbootloader.elf\n"
     ]
    }
   ],
   "source": [
    "! size bootloader.elf"
   ]
  },
  {
   "cell_type": "code",
   "execution_count": 107,
   "id": "a3a38a13-6c77-4bcc-ac3d-f8d029c8ba69",
   "metadata": {},
   "outputs": [
    {
     "name": "stdout",
     "output_type": "stream",
     "text": [
      "72 bootloader.img\n"
     ]
    }
   ],
   "source": [
    "! wc -c bootloader.img"
   ]
  },
  {
   "cell_type": "code",
   "execution_count": 108,
   "id": "b32d9b0b-13f7-4b33-9e19-b626c3236993",
   "metadata": {},
   "outputs": [
    {
     "name": "stdout",
     "output_type": "stream",
     "text": [
      "00000000  13 20 a1 d2 14 00 a8 d2  94 02 74 b2 f5 03 14 aa  |. ........t.....|\n",
      "00000010  60 1a 40 b9 e0 ff 27 37  60 02 40 b9 00 01 00 34  |`.@...'7`.@....4|\n",
      "00000020  1f 04 00 71 61 ff ff 54  60 1a 40 b9 e0 ff 27 37  |...qa..T`.@...'7|\n",
      "00000030  60 02 40 b9 a0 16 00 38  f6 ff ff 17 80 02 3f d6  |`.@....8......?.|\n",
      "00000040  f5 03 14 aa f3 ff ff 17                           |........|\n",
      "00000048\n"
     ]
    }
   ],
   "source": [
    "! hexdump -C bootloader.img"
   ]
  },
  {
   "cell_type": "code",
   "execution_count": 109,
   "id": "fcc3a82b-08aa-4c1b-8e2e-797c0bbca21b",
   "metadata": {},
   "outputs": [
    {
     "name": "stdout",
     "output_type": "stream",
     "text": [
      "\n",
      "bootloader.img:     file format binary\n",
      "\n",
      "\n",
      "Disassembly of section .data:\n",
      "\n",
      "0000000000000000 <.data>:\n",
      "   0:\td2a12013 \tmov\tx19, #0x9000000             \t// #150994944\n",
      "   4:\td2a80014 \tmov\tx20, #0x40000000            \t// #1073741824\n",
      "   8:\tb2740294 \torr\tx20, x20, #0x1000\n",
      "   c:\taa1403f5 \tmov\tx21, x20\n",
      "  10:\tb9401a60 \tldr\tw0, [x19, #24]\n",
      "  14:\t3727ffe0 \ttbnz\tw0, #4, 0x10\n",
      "  18:\tb9400260 \tldr\tw0, [x19]\n",
      "  1c:\t34000100 \tcbz\tw0, 0x3c\n",
      "  20:\t7100041f \tcmp\tw0, #0x1\n",
      "  24:\t54ffff61 \tb.ne\t0x10  // b.any\n",
      "  28:\tb9401a60 \tldr\tw0, [x19, #24]\n",
      "  2c:\t3727ffe0 \ttbnz\tw0, #4, 0x28\n",
      "  30:\tb9400260 \tldr\tw0, [x19]\n",
      "  34:\t380016a0 \tstrb\tw0, [x21], #1\n",
      "  38:\t17fffff6 \tb\t0x10\n",
      "  3c:\td63f0280 \tblr\tx20\n",
      "  40:\taa1403f5 \tmov\tx21, x20\n",
      "  44:\t17fffff3 \tb\t0x10\n"
     ]
    }
   ],
   "source": [
    "! objdump -D -b binary -m aarch64 bootloader.img"
   ]
  },
  {
   "cell_type": "markdown",
   "id": "5ebc0aa1-f64f-4b29-aea6-91583cff4cbb",
   "metadata": {},
   "source": [
    "## Examples"
   ]
  },
  {
   "cell_type": "markdown",
   "id": "094f79ae-9dac-4167-bb53-692ef72f0157",
   "metadata": {},
   "source": [
    "Example running in bootloader:"
   ]
  },
  {
   "cell_type": "code",
   "execution_count": 92,
   "id": "8efe4151-58db-40b0-9cea-4c9ccaba1d36",
   "metadata": {},
   "outputs": [
    {
     "name": "stdout",
     "output_type": "stream",
     "text": [
      "Overwriting a.s\n"
     ]
    }
   ],
   "source": [
    "%%writefile a.s\n",
    ".text                   // Declare the .text section, which contains executable code.\n",
    ".global _start          // Declare the _start label as a global symbol, making it the entry point for the program.\n",
    "\n",
    "_start:\n",
    "    // Move the ASCII value for 'A' (0x41) into the 32-bit wide register w0.\n",
    "    // w0 is commonly used for function arguments or return values.\n",
    "    mov w0, #'A'            // Move immediate: w0 = ASCII value of 'A' (0x41).\n",
    "\n",
    "    // Store the content of w0 (the character 'A') into the UART Data Register (UART_DR).\n",
    "    // x19 is assumed to hold the base address of the UART (0x09000000, as set by the bootloader).\n",
    "    // The UART_DR is typically located at offset 0x00 from the UART_BASE.\n",
    "    str w0, [x19]           // Store Word: Store the 32-bit value in w0 at the address in x19 (UART_DR).\n",
    "\n",
    "    // Return from the current function (this program) to the caller.\n",
    "    // In this context, it returns control to the bootloader's main loop.\n",
    "    ret                     // Return: Return from the current subroutine."
   ]
  },
  {
   "cell_type": "code",
   "execution_count": 93,
   "id": "237168c6-be81-4794-83c8-ff3203005ae9",
   "metadata": {},
   "outputs": [],
   "source": [
    "%%bash\n",
    "as -o a.o a.s\n",
    "objcopy -O binary -j .text a.o a.bin"
   ]
  },
  {
   "cell_type": "markdown",
   "id": "2b323b6b-ec53-471b-9249-ee0cc434b053",
   "metadata": {},
   "source": [
    "**Explanation and Purpose of this Code:**\n",
    "\n",
    "This small AArch64 assembly program was created specifically for **diagnostic and verification purposes**.\n",
    "\n",
    "**Why it was made:**\n",
    "\n",
    "During the debugging process, there was an initial issue where a more complex \"Hello, world!\" program was not printing, even though a user-provided, manually crafted `printf` command *did* print (albeit using a non-standard UART register offset).\n",
    "\n",
    "This code was designed to:\n",
    "\n",
    "1.  **Isolate the core printing functionality:** By reducing the task to printing a single, fixed character ('A'), we could eliminate variables like string addressing (`adr`), loops, and null terminators that were present in the code.\n",
    "2.  **Verify the UART write mechanism:** It uses the standard and correct method for writing to the PL011 UART Data Register (`str w0, [x19]`, where `x19` points to `UART_BASE + 0x00`). This was crucial to confirm that `x19` was indeed the correct base address and that writes to offset `0x00` were functional, contradicting the behavior of the initial and \"working\" `printf` command.\n",
    "3.  **Test the byte transmission pipeline:** When combined with the Python script that generated the `printf` command, this program helped confirm that the entire process – from generating the correct `\\x01` prefixed payload in Jupyter, copying it, and sending it via `nc` to the QEMU bootloader – was working as intended.\n",
    "\n",
    "**What it proved:**\n",
    "\n",
    "The successful execution and printing of 'A' confirmed that the fundamental UART write operation (`str w0, [x19]`) was correct, and that the method for injecting assembly code into the bootloader was reliable. This allowed us to definitively pinpoint the previous issues as related to the payload generation (`hexdump` output `\\x00` instead of `\\x01` prefixes) rather than the basic assembly logic itself."
   ]
  },
  {
   "cell_type": "markdown",
   "id": "5e27b8d9-2906-4daa-b13c-b3e810f9b948",
   "metadata": {},
   "source": [
    "The Python program generates the command that we must use in the second terminal:"
   ]
  },
  {
   "cell_type": "code",
   "execution_count": 94,
   "id": "bd5fa270-f200-4de2-8b2e-b83c49e30095",
   "metadata": {},
   "outputs": [
    {
     "name": "stdout",
     "output_type": "stream",
     "text": [
      "printf '\\x01\\x20\\x01\\x08\\x01\\x80\\x01\\x52\\x01\\x60\\x01\\x02\\x01\\x00\\x01\\xb9\\x01\\xc0\\x01\\x03\\x01\\x5f\\x01\\xd6\\x00' | nc localhost 44444"
     ]
    }
   ],
   "source": [
    "import sys\n",
    "\n",
    "def generate_full_printf_command(binary_file_path, nc_host=\"localhost\", nc_port=44444):\n",
    "    \"\"\"\n",
    "    Reads a binary file and generates the full 'printf' command string,\n",
    "    including the pipe to 'nc'.\n",
    "    \"\"\"\n",
    "    payload_parts = []\n",
    "    try:\n",
    "        with open(binary_file_path, 'rb') as f:\n",
    "            binary_content = f.read()\n",
    "\n",
    "        for byte_val in binary_content:\n",
    "            # Append '\\x01' followed by the byte value as '\\xXX'\n",
    "            payload_parts.append(f'\\\\x01\\\\x{byte_val:02x}')\n",
    "\n",
    "        # Append the final '\\x00' (execute command)\n",
    "        payload_parts.append('\\\\x00')\n",
    "\n",
    "        # Join all payload parts into a single string\n",
    "        escaped_payload_string = \"\".join(payload_parts)\n",
    "        \n",
    "        # Construct the full printf command\n",
    "        full_command = f\"printf '{escaped_payload_string}' | nc {nc_host} {nc_port}\"\n",
    "        \n",
    "        # Print the full command to standard output\n",
    "        print(full_command, end='') # Use end='' to prevent an extra newline\n",
    "\n",
    "    except FileNotFoundError:\n",
    "        print(f\"Error: File not found at {binary_file_path}\", file=sys.stderr)\n",
    "        sys.exit(1)\n",
    "    except Exception as e:\n",
    "        print(f\"An error occurred: {e}\", file=sys.stderr)\n",
    "        sys.exit(1)\n",
    "\n",
    "\n",
    "generate_full_printf_command(\"a.bin\")"
   ]
  },
  {
   "cell_type": "markdown",
   "id": "01a72bbb-3809-4217-b40b-02b7ce11dbe3",
   "metadata": {},
   "source": [
    "qemu runs on an AMD64 host machine:\n",
    "\n",
    "    $ qemu-system-aarch64 -machine virt -cpu cortex-a53 -nographic -kernel bootloader.img -serial tcp::44444,server,nowait,nodelay -monitor none\n",
    "\n",
    "In another terminal we run:\n",
    "\n",
    "    $ printf '\\x01\\x20\\x01\\x08\\x01\\x80\\x01\\x52\\x01\\x60\\x01\\x02\\x01\\x00\\x01\\xb9\\x01\\xc0\\x01\\x03\\x01\\x5f\\x01\\xd6\\x00' | nc localhost 44444\n",
    "\n",
    "and the output should be:\n",
    "\n",
    "    A"
   ]
  },
  {
   "cell_type": "markdown",
   "id": "80a6e502-ca04-4716-b54c-7cd29e72f51d",
   "metadata": {},
   "source": [
    "Now let's test a more complete example that prints \"Hello, world!\":"
   ]
  },
  {
   "cell_type": "code",
   "execution_count": 115,
   "id": "9b75569b-296a-4fea-bae2-df0aab116cc5",
   "metadata": {},
   "outputs": [
    {
     "name": "stdout",
     "output_type": "stream",
     "text": [
      "Overwriting a.s\n"
     ]
    }
   ],
   "source": [
    "%%writefile a.s\n",
    ".text                   // Declare the .text section, which contains executable code.\n",
    ".global _start          // Declare the _start label as a global symbol, making it the entry point for the program.\n",
    "\n",
    "_start:\n",
    "    // Initialize x0 with the address of the 'msg' string.\n",
    "    // 'adr' (Address Register) is a PC-relative instruction, suitable for position-independent code.\n",
    "    // It calculates the address of 'msg' relative to the current instruction's address.\n",
    "    adr x0, msg              // Load the address of the 'msg' string into register x0.\n",
    "\n",
    "loop:\n",
    "    // Load a byte from the address pointed to by x0 into w1.\n",
    "    // The '#1' after '[x0]' indicates post-indexed addressing:\n",
    "    // After loading, x0 is incremented by 1, effectively moving to the next byte in the string.\n",
    "    ldrb w1, [x0], #1        // Load Byte: Load a byte from [x0] into w1, then increment x0 by 1.\n",
    "\n",
    "    // Check if the loaded byte is zero (null terminator).\n",
    "    // 'cbz' (Compare and Branch on Zero) branches if the value in w1 is zero.\n",
    "    cbz w1, done             // Compare Byte on Zero: If w1 is 0, branch to 'done'.\n",
    "\n",
    "    // Load the UART Flag Register (UART_FR) status into w2.\n",
    "    // x19 is assumed to hold the UART_BASE address (0x09000000).\n",
    "    // The UART_FR is typically at an offset of 0x18 from UART_BASE.\n",
    "    ldr w2, [x19, #24]       // Load Word: Load the value from address [x19 + 24] (UART_FR) into w2.\n",
    "\n",
    "    // Wait until the UART Transmit FIFO is not full (TX ready).\n",
    "    // 'tbnz' (Test Bit and Branch if Not Zero) checks bit 5 of w2.\n",
    "    // UART_FR_TXFF (Transmit FIFO Full) is typically bit 5.\n",
    "    // If bit 5 is set (non-zero), the FIFO is full, so we loop and wait.\n",
    "    tbnz w2, #5, loop        // Test Bit and Branch if Not Zero: If bit 5 of w2 is 1, branch back to 'loop'.\n",
    "\n",
    "    // Write the character from w1 to the UART Data Register (UART_DR).\n",
    "    // UART_DR is typically at an offset of 0x00 from UART_BASE.\n",
    "    str w1, [x19]            // Store Word: Store the character from w1 into address [x19] (UART_DR).\n",
    "\n",
    "    // Branch unconditionally back to the beginning of the 'loop' to process the next character.\n",
    "    b loop                   // Branch: Unconditionally branch to 'loop'.\n",
    "\n",
    "done:\n",
    "    // Return from the current function.\n",
    "    // In this bare-metal context, 'ret' will typically return to the bootloader's execution loop.\n",
    "    ret                      // Return: Return from the current subroutine.\n",
    "\n",
    "msg:\n",
    "    // Define the string \"Hello, world!\\n\" followed by a null terminator.\n",
    "    // '.ascii' defines a string, and '\\n' is the newline character.\n",
    "    // '\\0' is the null terminator, which 'cbz' uses to detect the end of the string.\n",
    "    .ascii \"Hello, world!\\n\\0\" // Define an ASCII string literal."
   ]
  },
  {
   "cell_type": "code",
   "execution_count": 96,
   "id": "d7b30fd2-a74c-4684-ab85-f84991050d06",
   "metadata": {},
   "outputs": [],
   "source": [
    "%%bash\n",
    "as -o a.o a.s\n",
    "objcopy -O binary -j .text a.o a.bin"
   ]
  },
  {
   "cell_type": "code",
   "execution_count": 97,
   "id": "a1c4d9fe-a0a3-4488-8b6e-823f4245ab8a",
   "metadata": {},
   "outputs": [
    {
     "name": "stdout",
     "output_type": "stream",
     "text": [
      "printf '\\x01\\x00\\x01\\x01\\x01\\x00\\x01\\x10\\x01\\x01\\x01\\x14\\x01\\x40\\x01\\x38\\x01\\xa1\\x01\\x00\\x01\\x00\\x01\\x34\\x01\\x62\\x01\\x1a\\x01\\x40\\x01\\xb9\\x01\\xa2\\x01\\xff\\x01\\x2f\\x01\\x37\\x01\\x61\\x01\\x02\\x01\\x00\\x01\\xb9\\x01\\xfb\\x01\\xff\\x01\\xff\\x01\\x17\\x01\\xc0\\x01\\x03\\x01\\x5f\\x01\\xd6\\x01\\x48\\x01\\x65\\x01\\x6c\\x01\\x6c\\x01\\x6f\\x01\\x2c\\x01\\x20\\x01\\x77\\x01\\x6f\\x01\\x72\\x01\\x6c\\x01\\x64\\x01\\x21\\x01\\x0a\\x01\\x00\\x00' | nc localhost 44444"
     ]
    }
   ],
   "source": [
    "generate_full_printf_command(\"a.bin\")"
   ]
  },
  {
   "cell_type": "markdown",
   "id": "c5d06fc8-5476-478d-9547-a0993485061b",
   "metadata": {},
   "source": [
    "Same listing as above, just without comments:"
   ]
  },
  {
   "cell_type": "code",
   "execution_count": 116,
   "id": "c1e83edc-bf2a-476e-8704-25388a67a81a",
   "metadata": {},
   "outputs": [
    {
     "name": "stdout",
     "output_type": "stream",
     "text": [
      "Writing hw.s\n"
     ]
    }
   ],
   "source": [
    "%%writefile hw.s\n",
    ".text\n",
    ".global _start\n",
    "_start:\n",
    "    adr x0, msg\n",
    "loop:\n",
    "    ldrb w1, [x0], #1\n",
    "    cbz w1, done\n",
    "    ldr w2, [x19, #24]\n",
    "    tbnz w2, #5, loop\n",
    "    str w1, [x19]\n",
    "    b loop\n",
    "done:\n",
    "    ret\n",
    "msg:\n",
    "    .ascii \"Hello, world!\\n\\0\""
   ]
  },
  {
   "cell_type": "code",
   "execution_count": null,
   "id": "33a1b4de-e4f9-4c1c-bbe7-8ec9cb008af9",
   "metadata": {},
   "outputs": [],
   "source": []
  }
 ],
 "metadata": {
  "kernelspec": {
   "display_name": "Python 3 (ipykernel)",
   "language": "python",
   "name": "python3"
  },
  "language_info": {
   "codemirror_mode": {
    "name": "ipython",
    "version": 3
   },
   "file_extension": ".py",
   "mimetype": "text/x-python",
   "name": "python",
   "nbconvert_exporter": "python",
   "pygments_lexer": "ipython3",
   "version": "3.12.10"
  }
 },
 "nbformat": 4,
 "nbformat_minor": 5
}
